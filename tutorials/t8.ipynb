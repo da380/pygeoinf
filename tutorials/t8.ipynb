{
 "cells": [
  {
   "cell_type": "markdown",
   "id": "695a3525",
   "metadata": {},
   "source": [
    "# Tutorial 8 - Linear least squares inversions\n"
   ]
  },
  {
   "cell_type": "markdown",
   "id": "40cb5ec4",
   "metadata": {},
   "source": []
  }
 ],
 "metadata": {
  "language_info": {
   "name": "python"
  }
 },
 "nbformat": 4,
 "nbformat_minor": 5
}
