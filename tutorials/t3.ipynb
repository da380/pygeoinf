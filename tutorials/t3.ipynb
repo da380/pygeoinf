{
 "cells": [
  {
   "cell_type": "markdown",
   "id": "5383e00d",
   "metadata": {},
   "source": [
    "# Tutorial 3 - Dual spaces\n",
    "\n",
    "The dual, $X'$, of a Hilbert space, $X$, is the set of all continuous linear functional on $E$. The Riesz representation theorem states that every Hilbert space is isometrically isomorphic to its dual. This means that there is a continuous linear mapping,  $J_{X}\\in \\mathrm{Hom}(X',X)$, such that\n",
    "$$\n",
    "\\langle u',u \\rangle = (J_{X}u', u)_{X}, \n",
    "$$\n",
    "for every $u' \\in X'$ and $u \\in X$ while also $\\|u'\\|_{X'} = \\|J_{X}u'\\|_{X}$. Within this tutorial we will look at the ```LinearForm``` class that is used to define dual vectors for a given ```HilbertSpace```. We will also see that each ```HilbertSpace``` can automatically generate its dual space with this being another instance of ```HilbertSpace```. Finally, ```HilbertSpaces``` provide the mappings to and from their dual spaces described by the Riesz representation theorem. \n",
    "\n",
    "### The ```LinearForm``` class\n",
    "\n",
    "To begin, we look again at Euclidean space. First we construct an instance of ```EuclideanSpace``` and import also the ```LinearForm``` class. "
   ]
  },
  {
   "cell_type": "code",
   "execution_count": null,
   "id": "9bd93205",
   "metadata": {},
   "outputs": [],
   "source": [
    "from pygeoinf import EuclideanSpace, LinearForm\n",
    "X = EuclideanSpace(5)"
   ]
  },
  {
   "cell_type": "markdown",
   "id": "683e59b5",
   "metadata": {},
   "source": [
    "Construction of a ```LinearForm``` can be done by specifying the its action on a vector. The the example below, we define a linear form that maps a vector in ```X``` to the value of its zeroth-component. "
   ]
  },
  {
   "cell_type": "code",
   "execution_count": 22,
   "id": "b80f4f6a",
   "metadata": {},
   "outputs": [
    {
     "name": "stdout",
     "output_type": "stream",
     "text": [
      "The vector is: [ 0.83018312  0.4435814   0.7224271   0.97222683 -1.16248445]\n",
      "The action of the linear form produces: 0.830183124923451\n"
     ]
    }
   ],
   "source": [
    "# Define the linear form in terms of its mapping. \n",
    "l = LinearForm(X, mapping=lambda x : x[0])\n",
    "\n",
    "# Test its action on a random vector. \n",
    "x = X.random()\n",
    "print(f\"The vector is: {x}\")\n",
    "print(f\"The action of the linear form produces: {l(x)}\")"
   ]
  },
  {
   "cell_type": "markdown",
   "id": "173362ec",
   "metadata": {},
   "source": [
    "Note that the action of a ```LinearForm``` on a vector is through the object's ```__call__``` method. There is no check within the class that the mapping asigned to a ```LinearForm``` is well-defined. In a later tutorial we discuss methods for doing this.\n",
    "\n",
    "Recall that each ```HilbertSpace``` is associated with a mapping from a vector to its components. We shall write this mapping as $P_{X} \\in \\mathrm{Hom}(X,\\mathbb{R}^{n})$ where $n$ is the dimension of the space. The inverse mapping from a components into the space is then written \n",
    "$I_{X}(\\mathbb{R}^{n}, x)$. Within this notation we can see $P_{X}$ has standing for a *co-ordinate projection* while $I_{X}$ is a *co-ordinate inclusion*. These mappings induce corresponding co-ordinate mappings for linear forms. To see this, let $\\{e_{i}\\}$ be the basis for $X$ obtained by mapping the standard basis vectors on $\\mathbb{R}^{n}$. We can then write any $x \\in X$ as\n",
    "$$\n",
    "x = \\sum_{i} x_{i} e_{i}, \n",
    "$$\n",
    "with $\\{x_{i}\\}$  the vectors components. It terms of this basis, we can define a basis for linear forms $\\{e_{i}'\\}$ through the requirement that\n",
    "$$\n",
    "\\langle e_{i}', e_{j} \\rangle = \\delta_{ij.}\n",
    "$$\n",
    "With this basis, each linear form can be written \n",
    "$$\n",
    "x' = \\sum_{i} x_{i}' e_{i}',\n",
    "$$\n",
    "where the $\\{x_{i}'\\}$ are its components. To illustrate this idea, we can redefine the above linear form in terms of its components. "
   ]
  },
  {
   "cell_type": "markdown",
   "id": "b3e873fc",
   "metadata": {},
   "source": []
  },
  {
   "cell_type": "code",
   "execution_count": 20,
   "id": "19087865",
   "metadata": {},
   "outputs": [
    {
     "name": "stdout",
     "output_type": "stream",
     "text": [
      "The vector is: [ 0.42959028 -2.23709158 -0.61175385 -0.24543138 -0.78930366]\n",
      "The action of the linear form produces: 0.4295902790136074\n"
     ]
    }
   ],
   "source": [
    "import numpy as np\n",
    "\n",
    "# Set the component vector. \n",
    "cp = np.zeros(X.dim)\n",
    "cp[0] = 1\n",
    "\n",
    "# Define the linear form\n",
    "xp = LinearForm(X, components=cp)\n",
    "\n",
    "# Test its action on a random vector. \n",
    "x = X.random()\n",
    "print(f\"The vector is: {x}\")\n",
    "print(f\"The action of the linear form produces: {xp(x)}\")\n"
   ]
  },
  {
   "cell_type": "markdown",
   "id": "7f5a503d",
   "metadata": {},
   "source": [
    "A ```LinearForm``` can be defined either through a ```mapping``` or its ```components```. Having defined a linear form, we can access its components as follows:"
   ]
  },
  {
   "cell_type": "code",
   "execution_count": 21,
   "id": "fe8a2ded",
   "metadata": {},
   "outputs": [
    {
     "name": "stdout",
     "output_type": "stream",
     "text": [
      "The components of the linear form are: [1. 0. 0. 0. 0.]\n"
     ]
    }
   ],
   "source": [
    "print(f'The components of the linear form are: {xp.components}')"
   ]
  },
  {
   "cell_type": "markdown",
   "id": "e725cef7",
   "metadata": {},
   "source": [
    "If a ```LinearForm``` has been defined in terms of its components, then this property simply returns the stored values. When, however, the form has been defined in terms of a mapping the components need to be generated by successively acting the form on the basis vectors for the space. The first time the ```components``` property is called the components will be generated and stored if they are not already present. This aids with efficiency in several places at only a relatively slight storage cost. \n",
    "\n",
    "We can also call ```print``` directly on a ```LinearForm``` with the result being that its components are printed:"
   ]
  },
  {
   "cell_type": "code",
   "execution_count": 39,
   "id": "a7275748",
   "metadata": {},
   "outputs": [
    {
     "name": "stdout",
     "output_type": "stream",
     "text": [
      "The components of the form are: [1. 0. 0. 0. 0.]\n"
     ]
    }
   ],
   "source": [
    "print(f'The components of the form are: {xp}')"
   ]
  },
  {
   "cell_type": "markdown",
   "id": "4e5958eb",
   "metadata": {},
   "source": [
    "Linear forms over a Hilbert space form a vector space in a natural way. This is implemented in ```LinearForm``` through suitable overloads:"
   ]
  },
  {
   "cell_type": "code",
   "execution_count": 25,
   "id": "df7509f5",
   "metadata": {},
   "outputs": [
    {
     "name": "stdout",
     "output_type": "stream",
     "text": [
      "Action of the first form: 2.5297845502340937\n",
      "Action of the second form: 1.011976886914872\n",
      "Action of the combined form: 9.9167428235534\n",
      "Combination of the results: 9.9167428235534\n"
     ]
    }
   ],
   "source": [
    "# Define two linear forms\n",
    "xp1 = LinearForm(X, mapping= lambda x : x[0])\n",
    "xp2 = LinearForm(X, mapping= lambda x : sum(x))\n",
    "\n",
    "# Print their action on a random vector. \n",
    "x = X.random()\n",
    "a1 = xp1(x)\n",
    "a2 = xp2(x)\n",
    "print(f'Action of the first form: {a1}')\n",
    "print(f'Action of the second form: {a2}')\n",
    "\n",
    "# Form a linear combination of the forms\n",
    "xp3 = 4 * l1 - l2 / 5\n",
    "a3 = 4 * a1 - a2 / 5\n",
    "print(f\"Action of the combined form: {xp3(x)}\")\n",
    "print(f\"Combination of the results: {a3}\")"
   ]
  },
  {
   "cell_type": "markdown",
   "id": "9eee29f3",
   "metadata": {},
   "source": [
    "Within such expressions the evaluation is usually done lazily. When, however, all forms involved have their components stored then the new components are calculated and stored to aid in efficiency. "
   ]
  },
  {
   "cell_type": "markdown",
   "id": "b7a87591",
   "metadata": {},
   "source": [
    "We can similarly define instances of ```LinearForm``` on more complicated ```HilbertSpaces```:"
   ]
  },
  {
   "cell_type": "code",
   "execution_count": 55,
   "id": "8a25fa28",
   "metadata": {},
   "outputs": [
    {
     "name": "stdout",
     "output_type": "stream",
     "text": [
      "Action of the linear form : -1.0\n"
     ]
    }
   ],
   "source": [
    "# Construct a Sobolev space on the unit circle. \n",
    "from pygeoinf.homogeneous_space.circle import  Sobolev\n",
    "Y = Sobolev.from_sobolev_parameters(2,0.13)\n",
    "\n",
    "# Set up a linear form that evaluates the function at or close to  pi. \n",
    "vp = LinearForm(Y, mapping=lambda u : u[Y.dim//2])\n",
    "\n",
    "# Define a function. \n",
    "u = Y.project_function(lambda th : np.cos(th))\n",
    "\n",
    "# Print the action of the form on the function. \n",
    "print(f'Action of the linear form : {vp(u)}')"
   ]
  },
  {
   "cell_type": "markdown",
   "id": "aa63b2cb",
   "metadata": {},
   "source": [
    "## The dual of a ```HilbertSpace```\n",
    "\n",
    "For each ```HilbertSpace``` there is a corresponding dual space which is another instance of ```HilbertSpace```. This can be generated using the ```dual``` property. This is illustrated below:"
   ]
  },
  {
   "cell_type": "code",
   "execution_count": 41,
   "id": "57b4f84d",
   "metadata": {},
   "outputs": [
    {
     "name": "stdout",
     "output_type": "stream",
     "text": [
      "The dimension of the dual space is 5\n",
      "The linear form has components [ 2.  0. -1.  0.  0.]\n",
      "The linear form has norm: 2.23606797749979\n"
     ]
    }
   ],
   "source": [
    "# Form the dual space. \n",
    "Xp = X.dual\n",
    "print(f\"The dimension of the dual space is {Xp.dim}\")\n",
    "\n",
    "# Define a linear form an get its components. \n",
    "xp = LinearForm(X, mapping=lambda x : 2*x[0]-x[2])\n",
    "cp = X.to_components(xp)\n",
    "print(f\"The linear form has components {cp}\")\n",
    "\n",
    "# Print the norm of the linear form. \n",
    "print(f\"The linear form has norm: {Xp.norm(xp)}\")\n"
   ]
  },
  {
   "cell_type": "markdown",
   "id": "04f5df00",
   "metadata": {},
   "source": [
    "Each ```HilbertSpace``` can map between itself and its dual space using the ```from_dual``` and ```to_dual``` methods. These mappings for a Hilbert space, $X$, are implementation of the operator $J_{X} \\in \\mathrm{Hom}(X',X)$  discussed above. In the following code, we see that the defining properties of this mapping are met in the case of ```EuclideanSpace```. "
   ]
  },
  {
   "cell_type": "code",
   "execution_count": 51,
   "id": "baf3d50d",
   "metadata": {},
   "outputs": [
    {
     "name": "stdout",
     "output_type": "stream",
     "text": [
      "The vector is:      [ 0.87370416  1.72535553  1.20243314  0.56505054 -0.87465089]\n",
      "The dual vector is: [-0.51126163 -1.09538549  1.26759957 -0.93774262  0.6127334 ]\n",
      "Value of the dual pairing:                -1.878216874335836\n",
      "Value of the corresponding inner product: -1.878216874335836\n"
     ]
    }
   ],
   "source": [
    "# Generate a random vector and dual vector\n",
    "x = X.random()\n",
    "yp = X.dual.random()\n",
    "\n",
    "print(f'The vector is:      {x}')\n",
    "print(f'The dual vector is: {yp}')\n",
    "\n",
    "# Print the value of the dual pairing.\n",
    "print(f'Value of the dual pairing:                {yp(x)}')\n",
    "\n",
    "# Map the dual vector to X. \n",
    "y = X.from_dual(yp)\n",
    "\n",
    "# Print the inner product of y and x. \n",
    "print(f'Value of the corresponding inner product: {X.inner_product(y,x)}')"
   ]
  },
  {
   "cell_type": "markdown",
   "id": "4fc56414",
   "metadata": {},
   "source": [
    "In the case of ```EuclideanSpace``` the mappings to and from the dual space are trivial; a vector and its image in the dual space have the same components. In more complicated spaces, however, the mappings to and from the dual space are more involved. In the case of $H^{s}(\\mathbb{S}^{1})$, for example, it can be shown that \n",
    "$$\n",
    "H^{s}(\\mathbb{S}^{1})' \\cong H^{-s}(\\mathbb{S}^{1}), \n",
    "$$\n",
    "in terms of which the necessary mapping from $H^{s}(\\mathbb{S}^{1})'$ to $H^{s}(\\mathbb{S}^{1})$ can be written\n",
    "$$\n",
    "J_{H^{s}(\\mathbb{S}^{1})} = (1+\\lambda^{2}\\Delta)^{-s}.\n",
    "$$\n",
    "A further key property of this space is that when $s > 1/2 + k$ we have the continuous embedding\n",
    "$$\n",
    "H^{s}(\\mathbb{S}^{1}) \\subseteq C^{k}(\\mathbb{S}^{1}).\n",
    "$$\n",
    "This means, for example, that when $s > 0.5$ point evaluation defines a continuous linear form and hence we can compute its representation in $H^{s}(\\mathbb{S}^{1})$. This is done in the following code using the ```LinearForm```  defined above. \n"
   ]
  },
  {
   "cell_type": "code",
   "execution_count": 58,
   "id": "96a8d348",
   "metadata": {},
   "outputs": [
    {
     "data": {
      "image/png": "[encoded data removed]",
      "text/plain": [
       "<Figure size 1000x800 with 1 Axes>"
      ]
     },
     "metadata": {},
     "output_type": "display_data"
    },
    {
     "name": "stdout",
     "output_type": "stream",
     "text": [
      "Action of the linear form : -1.0\n",
      "Corresponding inner product : -0.9999999999999999\n"
     ]
    }
   ],
   "source": [
    "import matplotlib.pyplot as plt\n",
    "\n",
    "# Convert the linear form to the space and plot its form. \n",
    "v = Y.from_dual(vp)\n",
    "Y.plot(v)\n",
    "plt.show()\n",
    "\n",
    "# Check that it does the right job. \n",
    "print(f'Action of the linear form : {vp(u)}')\n",
    "print(f'Corresponding inner product : {Y.inner_product(v,u)}')\n"
   ]
  },
  {
   "cell_type": "markdown",
   "id": "18e863e6",
   "metadata": {},
   "source": [
    "In the above example, we are looking at the Dirac measure, $\\delta_{\\theta}$, and its representation in $H^{s}(\\mathbb{S}^{1})$ for suitable $s$. Because this example arises commonly in applications, it is implemented within ```Sobolev```:"
   ]
  },
  {
   "cell_type": "code",
   "execution_count": 59,
   "id": "0254f65c",
   "metadata": {},
   "outputs": [
    {
     "data": {
      "image/png": "[encoded data removed]",
      "text/plain": [
       "<Figure size 640x480 with 1 Axes>"
      ]
     },
     "metadata": {},
     "output_type": "display_data"
    }
   ],
   "source": [
    "# Set the base point\n",
    "th = 1\n",
    "\n",
    "# Get the Dirac measure\n",
    "vp = Y.dirac(th)\n",
    "\n",
    "# Form its representation. \n",
    "v = Y.from_dual(vp)\n",
    "\n",
    "# This can also be done directly. \n",
    "w = Y.dirac_representation(th)\n",
    "\n",
    "# Plot both\n",
    "fig, ax = plt.subplots()\n",
    "Y.plot(v, fig=fig, ax=ax, color = 'b')\n",
    "Y.plot(w, fig=fig, ax=ax, color = 'r', linestyle=\"--\")\n",
    "plt.show()"
   ]
  },
  {
   "cell_type": "markdown",
   "id": "e56058d9",
   "metadata": {},
   "source": [
    "Note that the ```dirac``` method defines the ```LinearForm``` directly in terms of its Fourier components which is significantly more efficient. \n",
    "\n",
    "To conclude, we note that the ```from_sobolev_parameters``` method within ```Sobolev``` selects $k_{\\mathrm{max}}$ using an estimate of the truncation error in representing the Dirac measure in this space. This is why it is only available when $s > 0.5$."
   ]
  }
 ],
 "metadata": {
  "kernelspec": {
   "display_name": "pygeoinf-0ZCu7S8P-py3.10",
   "language": "python",
   "name": "python3"
  },
  "language_info": {
   "codemirror_mode": {
    "name": "ipython",
    "version": 3
   },
   "file_extension": ".py",
   "mimetype": "text/x-python",
   "name": "python",
   "nbconvert_exporter": "python",
   "pygments_lexer": "ipython3",
   "version": "3.10.13"
  }
 },
 "nbformat": 4,
 "nbformat_minor": 5
}
