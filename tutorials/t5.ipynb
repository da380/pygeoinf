{
 "cells": [
  {
   "cell_type": "markdown",
   "id": "6be0d3bf",
   "metadata": {},
   "source": [
    "# Tutorial 5 - Linear solvers"
   ]
  },
  {
   "cell_type": "markdown",
   "id": "7ed5fec2",
   "metadata": {},
   "source": []
  }
 ],
 "metadata": {
  "language_info": {
   "name": "python"
  }
 },
 "nbformat": 4,
 "nbformat_minor": 5
}
