{
 "cells": [
  {
   "cell_type": "markdown",
   "id": "86fb2eb9",
   "metadata": {},
   "source": [
    "# Tutorial 5 - Gaussian measures\n",
    "\n",
    "A Gaussian measure on a Hilbert space, $X$, generalised the familar Gaussian distribution on finite-dimensionsl Euclidean spaces. Such a measure, $\\mu$, is characterised by its **expectation**, this being an element of $X$, and its **covariance** which is a self-adjoint and trace-class linear operator on $X$. We use the notation $\\mathcal{N}_{X}(\\overline{u}, Q)$ to denote a Gaussian measure on $X$ with expectation $\\overline{u} \\in X$ and covariance $Q \\in \\mathrm{Hom}(X)$. Within ```pygeoinf``` Gaussian measures are implemented withint the ```GaussianMeasure``` class. \n",
    "\n"
   ]
  },
  {
   "cell_type": "markdown",
   "id": "0b59cbea",
   "metadata": {},
   "source": []
  }
 ],
 "metadata": {
  "language_info": {
   "name": "python"
  }
 },
 "nbformat": 4,
 "nbformat_minor": 5
}
