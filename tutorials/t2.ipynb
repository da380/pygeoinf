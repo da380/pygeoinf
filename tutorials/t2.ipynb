{
 "cells": [
  {
   "cell_type": "markdown",
   "id": "eae234de",
   "metadata": {},
   "source": [
    "# Tutorial 2 - Hilbert spaces\n",
    "\n",
    "Hilbert spaces are complete inner product spaces. Within all inverse problems considered we will assume that both the model and data space are Hilbert spaces. This is a restriction, but one that is difficult to avoid in practice. The data space in any real inverse problem is necessarily finite dimensional and so can always be identified with $\\mathbb{R}^{n}$ for some \n",
    "suitable $n \\in \\mathbb{N}$. In most cases of interest, however, the model space will be comprised of functions and be infinite-dimensional. Computationally we cannot deal directly with infinite-dimensional spaces, but we can ensure that we work with convergent discretisations. This means, roughly speaking, that the underlying mathematical problems are well-defined, and that the numerical methods can be shown to converge to the exact values as the size of the discretised model space is suitably increased.\n",
    "\n",
    "In this tutorial we look into the representation of Hilbert spaces within the ```pygeoinf``` library through two examples. \n",
    "Hilbert spaces are represented by the ```HilbertSpace``` class. Importantly this class defines only the *structure* of the Hilbert space but its elements must be otherwise defined. To construct a class instance the user must provide the following data:\n",
    "\n",
    "- The dimension of the space. \n",
    "- A mapping from elements of the space to a chosen co-ordinate representation. \n",
    "- A mapping from this co-ordinate representation to elements of the space. \n",
    "- The inner product for the space. \n",
    "- A mapping from elements of the space to their associated dual vector.\n",
    "- A mapping from elements of the dual space into the their representation within the space. \n",
    "\n",
    "In the case of infinite-dimensional spaces, the dimension is understood as being that of an approximating space and the co-ordinate mappings describe projections and inclusions to and from this subspace. \n",
    "\n",
    "\n",
    "## Euclidean space\n",
    "\n",
    "The simplest Hilbert space is Euclidean space, and this is implemented in ```pygeoinf``` as the class ```EuclideanSpace``` that is derived from the ```HilbertSpace``` class. Constructuion of an instance of this class requires only its dimension. "
   ]
  },
  {
   "cell_type": "code",
   "execution_count": null,
   "id": "ea88bdc5",
   "metadata": {},
   "outputs": [
    {
     "name": "stdout",
     "output_type": "stream",
     "text": [
      "Dimension of the vector space = 4\n"
     ]
    }
   ],
   "source": [
    "import numpy as np\n",
    "import pygeoinf as inf\n",
    "\n",
    "# Set up Euclidean space. \n",
    "dim = 4\n",
    "X = inf.EuclideanSpace(dim)\n",
    "\n",
    "# Print its dimension. \n",
    "print(f'Dimension of the vector space = {X.dim}')"
   ]
  },
  {
   "cell_type": "markdown",
   "id": "f7f2787a",
   "metadata": {},
   "source": [
    "Elements of ```EuclideanSpace``` are just ```numpy``` vectors. In the following we generate a random element and get its components. For ```EuclideanSpace``` a vector and the vector of its components are the same. Note that the ```random``` method for ```HilbertSpaces``` internally generates a component vector drawn from a standard Gaussian distribution and then maps this to an element of the space. This method is only meant to provide a quick method for generating elements of the space for testing and is not suitable for more general use. "
   ]
  },
  {
   "cell_type": "code",
   "execution_count": 11,
   "id": "d0c44c4f",
   "metadata": {},
   "outputs": [
    {
     "name": "stdout",
     "output_type": "stream",
     "text": [
      "The vector is equal to:               [-1.29108494 -0.35987048  0.50892176 -0.18732475]\n",
      "The vector's components are equal to: [-1.29108494 -0.35987048  0.50892176 -0.18732475]\n"
     ]
    }
   ],
   "source": [
    "# Generate a random element of the space and print its value. \n",
    "x = X.random()\n",
    "print(f'The vector is equal to:               {x}')\n",
    "\n",
    "# Now get its component vector, which in this case is the same thing. \n",
    "c = X.to_components(x)\n",
    "print(f'The vector\\'s components are equal to: {c}')"
   ]
  },
  {
   "cell_type": "markdown",
   "id": "7541aa7f",
   "metadata": {},
   "source": [
    "If needed, we can access the zero vector is the space as follows:"
   ]
  },
  {
   "cell_type": "code",
   "execution_count": 12,
   "id": "f848177e",
   "metadata": {},
   "outputs": [
    {
     "name": "stdout",
     "output_type": "stream",
     "text": [
      "The vector is equal to:               [0. 0. 0. 0.]\n",
      "The vector's components are equal to: [0. 0. 0. 0.]\n"
     ]
    }
   ],
   "source": [
    "# Generate a the zero vector -- note that this is a property of the class. \n",
    "x = X.zero\n",
    "print(f'The vector is equal to:               {x}')\n",
    "\n",
    "# Now get its component vector, which in this case is the same thing. \n",
    "c = X.to_components(x)\n",
    "print(f'The vector\\'s components are equal to: {c}')"
   ]
  },
  {
   "cell_type": "markdown",
   "id": "77d6eab6",
   "metadata": {},
   "source": [
    "Given two element of the space, we can compute their inner product:"
   ]
  },
  {
   "cell_type": "code",
   "execution_count": 14,
   "id": "1e2fe557",
   "metadata": {},
   "outputs": [
    {
     "name": "stdout",
     "output_type": "stream",
     "text": [
      "The first vector is:  [-0.63684423  0.03762147 -1.00807653 -1.22906361] \n",
      "The second vector is: [-0.3336524  -0.45716905  0.32612383  2.15213848] \n",
      "Their inner product is equal to: -2.778587637712648\n"
     ]
    }
   ],
   "source": [
    "x1 = X.random()\n",
    "x2 = X.random()\n",
    "print(f'The first vector is:  {x1} ')\n",
    "print(f'The second vector is: {x2} ')\n",
    "print(f'Their inner product is equal to: {X.inner_product(x1, x2)}')"
   ]
  },
  {
   "cell_type": "markdown",
   "id": "6e25fb9c",
   "metadata": {},
   "source": [
    "The inner product defines a norm, and we can access this as follows:"
   ]
  },
  {
   "cell_type": "code",
   "execution_count": 15,
   "id": "fc27b69b",
   "metadata": {},
   "outputs": [
    {
     "name": "stdout",
     "output_type": "stream",
     "text": [
      "The vector is equal to: [-2.63662479 -1.00566755 -0.4748808   0.24008213]\n",
      "The vector has norm: 2.8716386749588314\n",
      "The vector has norm: 8.246308679519313\n"
     ]
    }
   ],
   "source": [
    "x = X.random()\n",
    "print(f'The vector is equal to: {x}')\n",
    "print(f'The vector has norm: {X.norm(x)}')\n",
    "print(f'The vector has norm: {X.squared_norm(x)}')"
   ]
  },
  {
   "cell_type": "markdown",
   "id": "b6531a3a",
   "metadata": {},
   "source": [
    "We can use these methods to verify that standard Hilbert space inequalities are satified. "
   ]
  },
  {
   "cell_type": "code",
   "execution_count": 17,
   "id": "571d972b",
   "metadata": {},
   "outputs": [
    {
     "name": "stdout",
     "output_type": "stream",
     "text": [
      "The first vector is:  [-0.86539038  0.63182183  0.51723632 -0.1341333 ] \n",
      "The second vector is: [ 0.66877879  1.73254009  1.91890527 -0.43908291] \n",
      "The triangle inequality, |x1 + x2| <= |x1| + |x2|, is True.\n",
      "The Cauchy-Scwharz inequality, |(x1,x2)| <= |x1||x2|, is True.\n"
     ]
    }
   ],
   "source": [
    "x1 = X.random()\n",
    "x2 = X.random()\n",
    "print(f\"The first vector is:  {x1} \")\n",
    "print(f\"The second vector is: {x2} \")\n",
    "\n",
    "print(\n",
    "    f\"The triangle inequality, |x1 + x2| <= |x1| + |x2|, is {X.norm(x1+x2) <= X.norm(x1) + X.norm(x2)}.\"\n",
    ")\n",
    "\n",
    "print(\n",
    "    f\"The Cauchy-Scwharz inequality, |(x1,x2)| <= |x1||x2|, is {np.abs(X.inner_product(x1,x2)) <= X.norm(x1) * X.norm(x2)}.\"\n",
    ")\n"
   ]
  },
  {
   "cell_type": "markdown",
   "id": "ee576b8b",
   "metadata": {},
   "source": [
    "For ```HilbertSpaces``` whose elements have the standard vector operations already overloaded, as is the case here, we can directly add, subtract or scalar multiply them. \n",
    "\n",
    "Such operations are also available through methods within the ```HilbertSpace``` class. For example"
   ]
  },
  {
   "cell_type": "code",
   "execution_count": 28,
   "id": "d89322d3",
   "metadata": {},
   "outputs": [
    {
     "name": "stdout",
     "output_type": "stream",
     "text": [
      "\n",
      "The first vector is:            [1.44472617 0.94406633 0.10145783 0.91822969] \n",
      "The second vector is:           [-1.04103372  0.25443486  0.06872167 -0.98156233] \n",
      "The sum of the vectors is:      [ 0.40369246  1.19850119  0.1701795  -0.06333265] \n",
      "The first vector times by 2 is: [2.88945235 1.88813266 0.20291566 1.83645937] \n",
      "A copy of the third vector is:  [2.88945235 1.88813266 0.20291566 1.83645937] \n"
     ]
    }
   ],
   "source": [
    "x1 = X.random()\n",
    "x2 = X.random()  \n",
    "print(f\"\\nThe first vector is:            {x1} \")\n",
    "print(f\"The second vector is:           {x2} \")\n",
    "\n",
    "x3 = X.add(x1,x2)\n",
    "print(f\"The sum of the vectors is:      {x3} \")\n",
    "\n",
    "print(f\"The first vector times by 2 is: {X.multiply(2,x1)} \")\n",
    "\n",
    "x4 = X.copy(x3)\n",
    "print(f\"A copy of the third vector is:  {X.multiply(2,x1)} \")\n",
    "\n"
   ]
  },
  {
   "cell_type": "markdown",
   "id": "ae54b3c2",
   "metadata": {},
   "source": [
    "Custom implementation for these operations can be provided when a ```HilbertSpace``` is constructed, and only these methods are used internally. This allows for ```HilbertSpaces``` to be formed from objects that do not have the necessary overloads defined. This is needed, for example, when we consider direct sums of Hilbert spaces, with the elements in such cases modelled as lists of elements of the constituent spaces. \n",
    "\n",
    "The ```HilbertSpace``` class also provides convenient methods for generating certain element of the space. For example, if we want a particular basis vector we write:"
   ]
  },
  {
   "cell_type": "code",
   "execution_count": 29,
   "id": "4ecd0a79",
   "metadata": {},
   "outputs": [
    {
     "name": "stdout",
     "output_type": "stream",
     "text": [
      "The 2th basis vector is: [0. 0. 1. 0.] \n"
     ]
    }
   ],
   "source": [
    "i = 2\n",
    "x = X.basis_vector(2)\n",
    "print(f\"The {i}th basis vector is: {x} \")"
   ]
  },
  {
   "cell_type": "markdown",
   "id": "9d8a0612",
   "metadata": {},
   "source": [
    "## Sobolev spaces on the unit circle \n",
    "\n",
    " \n",
    "\n"
   ]
  },
  {
   "cell_type": "markdown",
   "id": "da87e776",
   "metadata": {},
   "source": [
    "We can then generate and plot some of the basis vectors. "
   ]
  }
 ],
 "metadata": {
  "kernelspec": {
   "display_name": "pygeoinf-0ZCu7S8P-py3.10",
   "language": "python",
   "name": "python3"
  },
  "language_info": {
   "codemirror_mode": {
    "name": "ipython",
    "version": 3
   },
   "file_extension": ".py",
   "mimetype": "text/x-python",
   "name": "python",
   "nbconvert_exporter": "python",
   "pygments_lexer": "ipython3",
   "version": "3.10.13"
  }
 },
 "nbformat": 4,
 "nbformat_minor": 5
}
