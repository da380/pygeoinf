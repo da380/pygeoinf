{
 "cells": [
  {
   "cell_type": "markdown",
   "id": "eae234de",
   "metadata": {},
   "source": [
    "# Tutorial 2 - Hilbert spaces\n",
    "\n",
    "Hilbert spaces are complete inner product spaces. Within all inverse problems considered we will assume that both the model and data space are Hilbert spaces. This is a restriction, but one that is difficult to avoid in practice. The data space in any real inverse problem is necessarily finite dimensional and so can always be identified with $\\mathbb{R}^{n}$ for some \n",
    "suitable $n \\in \\mathbb{N}$. In most cases of interest, however, the model space will be infinite-dimensional. Computationally we cannot deal directly with infinite-dimensional spaces, but we can ensure that we work with convergent discretisations. This means, roughly speaking, that the underlying mathematical problem is well-defined, and that our numerical solutions can be shown to converge to this solution as the size of our discretised model space is suitably increased.\n",
    "\n",
    "Within this tutorial we look into the representation of Hilbert spaces within the ```pygeoinf``` library.\n",
    "\n",
    "\n",
    "Within ```pygeoinf```, Hilbert spaces are represented by the ```HilbertSpace``` class. This class defined only the *structure* of the Hilbert space but requires that the underlying elements have been otherwise defined. To define an instance of the ```HilbertSpace``` class the user must provide the following data:\n",
    "\n",
    "- The dimension of the space. \n",
    "- A mapping from element of the space to a chosen co-ordinate representation. \n",
    "- A mapping from this co-ordinate representation to elements of the space. \n",
    "- The inner product for the space. \n",
    "- A mapping from an element of the space to the associated dual vector, as provided by the Riesz representation theorem. \n",
    "- A mapping from an element of the dual space into the space, as provided by the Riesz representation theorem. \n",
    "\n",
    "In the case of infinite-dimensional spaces, the dimension is understood as being that of the chosen approximating space. \n",
    "\n",
    "\n",
    "\n",
    "\n",
    "### Euclidean space\n",
    "\n",
    "These ideas can be illistrated by the case of $n$-dimensional Euclidean space which is implemented in the library as the class ```EuclideanSpace```\n",
    "which is derived from ```HilbertSpace```:"
   ]
  },
  {
   "cell_type": "code",
   "execution_count": 42,
   "id": "ea88bdc5",
   "metadata": {},
   "outputs": [
    {
     "name": "stdout",
     "output_type": "stream",
     "text": [
      "Dimension of the vector space = 4\n"
     ]
    }
   ],
   "source": [
    "import numpy as np\n",
    "import pygeoinf as inf\n",
    "\n",
    "# Set up Euclidean space. \n",
    "dim = 4\n",
    "X = inf.EuclideanSpace(dim)\n",
    "\n",
    "# Print its dimension. \n",
    "print(f'Dimension of the vector space = {X.dim}')"
   ]
  },
  {
   "cell_type": "markdown",
   "id": "f7f2787a",
   "metadata": {},
   "source": [
    "Elements of ```EuclideanSpace``` are just ```numpy``` vectors. In the following we generate a random element and get its components. For ```EuclideanSpace``` the vector and the vector of its components are the same. Note that the ```random``` method for ```HilbertSpaces``` internally generates a component vector drawn from a standard Gaussian distribution and then maps this to an element of the space. It is only meant to provide a quick method for generating elements of the space for testing. "
   ]
  },
  {
   "cell_type": "code",
   "execution_count": 43,
   "id": "d0c44c4f",
   "metadata": {},
   "outputs": [
    {
     "name": "stdout",
     "output_type": "stream",
     "text": [
      "The vector is equal to: [-0.53770022  1.27734382  0.90059497 -1.00475177]\n",
      "The vector's components are equal to: [-0.53770022  1.27734382  0.90059497 -1.00475177]\n"
     ]
    }
   ],
   "source": [
    "# Generate a random element of the space and print its value. \n",
    "x = X.random()\n",
    "print(f'The vector is equal to: {x}')\n",
    "\n",
    "# Now get its component vector, which in this case is the same thing. \n",
    "c = X.to_components(x)\n",
    "print(f'The vector\\'s components are equal to: {c}')"
   ]
  },
  {
   "cell_type": "markdown",
   "id": "7541aa7f",
   "metadata": {},
   "source": [
    "If needed, we can access the zero vector is the space as follows:"
   ]
  },
  {
   "cell_type": "code",
   "execution_count": 44,
   "id": "f848177e",
   "metadata": {},
   "outputs": [
    {
     "name": "stdout",
     "output_type": "stream",
     "text": [
      "The vector is equal to: [0. 0. 0. 0.]\n",
      "The vector's components are equal to: [0. 0. 0. 0.]\n"
     ]
    }
   ],
   "source": [
    "# Generate a the zero vector -- note that this is a property of the class. \n",
    "x = X.zero\n",
    "print(f'The vector is equal to: {x}')\n",
    "\n",
    "# Now get its component vector, which in this case is the same thing. \n",
    "c = X.to_components(x)\n",
    "print(f'The vector\\'s components are equal to: {c}')"
   ]
  },
  {
   "cell_type": "markdown",
   "id": "77d6eab6",
   "metadata": {},
   "source": [
    "Given two element of the space, we can compute their inner product:"
   ]
  },
  {
   "cell_type": "code",
   "execution_count": 47,
   "id": "1e2fe557",
   "metadata": {},
   "outputs": [
    {
     "name": "stdout",
     "output_type": "stream",
     "text": [
      "The first vector is: [ 0.91525296 -1.89182274  0.75049115  2.17347311] \n",
      "The first vector is: [ 0.78448083  0.52411084  0.88085966 -0.40059015] \n",
      "Their inner product is equal to: -0.4831209402059937\n"
     ]
    }
   ],
   "source": [
    "x1 = X.random()\n",
    "x2 = X.random()\n",
    "print(f'The first vector is: {x1} ')\n",
    "print(f'The first vector is: {x2} ')\n",
    "print(f'Their inner product is equal to: {X.inner_product(x1, x2)}')"
   ]
  },
  {
   "cell_type": "markdown",
   "id": "6e25fb9c",
   "metadata": {},
   "source": [
    "The inner product defines a norm, and we can access this as follows:"
   ]
  },
  {
   "cell_type": "code",
   "execution_count": 46,
   "id": "fc27b69b",
   "metadata": {},
   "outputs": [
    {
     "name": "stdout",
     "output_type": "stream",
     "text": [
      "The vector is equal to: [ 1.04734752 -0.51694196  0.49552312 -0.6762424 ]\n",
      "The vector has norm: 1.437710942159453\n",
      "The vector has norm: 2.067012753205022\n"
     ]
    }
   ],
   "source": [
    "x = X.random()\n",
    "print(f'The vector is equal to: {x}')\n",
    "print(f'The vector has norm: {X.norm(x)}')\n",
    "print(f'The vector has norm: {X.squared_norm(x)}')"
   ]
  },
  {
   "cell_type": "markdown",
   "id": "b6531a3a",
   "metadata": {},
   "source": [
    "We can use these methods to verify that standard Hilbert space inequalities are satified. "
   ]
  },
  {
   "cell_type": "code",
   "execution_count": null,
   "id": "571d972b",
   "metadata": {},
   "outputs": [
    {
     "name": "stdout",
     "output_type": "stream",
     "text": [
      "\n",
      "The first vector is: [-0.18340147 -0.71974559 -0.52329397  0.77292779] \n",
      "The first vector is: [0.83683643 0.51411009 0.25027152 0.87608565] \n",
      "The triangle inequality, |x1 + x2| <= |x1| + |x2|, is True.\n",
      "The Cauchy-Scwharz inequality, |(x1,x2)| <= |x1||x2|, is True.\n"
     ]
    }
   ],
   "source": [
    "x1 = X.random()\n",
    "x2 = X.random()\n",
    "print(f\"The first vector is: {x1} \")\n",
    "print(f\"The first vector is: {x2} \")\n",
    "\n",
    "print(\n",
    "    f\"The triangle inequality, |x1 + x2| <= |x1| + |x2|, is {X.norm(x1+x2) <= X.norm(x1) + X.norm(x2)}.\"\n",
    ")\n",
    "\n",
    "print(\n",
    "    f\"The Cauchy-Scwharz inequality, |(x1,x2)| <= |x1||x2|, is {np.abs(X.inner_product(x1,x2)) <= X.norm(x1) * X.norm(x2)}.\"\n",
    ")\n"
   ]
  },
  {
   "cell_type": "markdown",
   "id": "ee576b8b",
   "metadata": {},
   "source": [
    "For ```HilbertSpaces``` whose elements have the standard vector operations already defined, as is the case here, we can directly add, subtract or scalar multiply them. \n",
    "More generally, methods are provided for these operations as shown below:"
   ]
  },
  {
   "cell_type": "code",
   "execution_count": null,
   "id": "d89322d3",
   "metadata": {},
   "outputs": [
    {
     "name": "stdout",
     "output_type": "stream",
     "text": [
      "\n",
      "The first vector is: [-0.58084188 -1.01476081 -1.44230369 -1.661966  ] \n",
      "The first vector is: [-0.10650031  0.14823766  0.82345458 -0.58650551] \n",
      "The sum of the vectors is: [-0.68734219 -0.86652315 -0.61884911 -2.24847151] \n",
      "The first vector times by 2 is is: [-1.16168376 -2.02952163 -2.88460738 -3.32393201] \n"
     ]
    }
   ],
   "source": [
    "x1 = X.random()\n",
    "x2 = X.random()\n",
    "print(f\"\\nThe first vector is: {x1} \")\n",
    "print(f\"The first vector is: {x2} \")\n",
    "\n",
    "x3 = X.add(x1,x2)\n",
    "print(f\"The sum of the vectors is: {x3} \")\n",
    "\n",
    "print(f\"The first vector times by 2 is is: {X.multiply(2,x1)} \")"
   ]
  },
  {
   "cell_type": "markdown",
   "id": "ae54b3c2",
   "metadata": {},
   "source": [
    "When a ```HilbertSpace``` is constructed custom implementation of these vector operations can be provided, and internally these are all that are used. "
   ]
  },
  {
   "cell_type": "markdown",
   "id": "5016abe9",
   "metadata": {},
   "source": []
  }
 ],
 "metadata": {
  "kernelspec": {
   "display_name": "pygeoinf-0ZCu7S8P-py3.10",
   "language": "python",
   "name": "python3"
  },
  "language_info": {
   "codemirror_mode": {
    "name": "ipython",
    "version": 3
   },
   "file_extension": ".py",
   "mimetype": "text/x-python",
   "name": "python",
   "nbconvert_exporter": "python",
   "pygments_lexer": "ipython3",
   "version": "3.10.13"
  }
 },
 "nbformat": 4,
 "nbformat_minor": 5
}
