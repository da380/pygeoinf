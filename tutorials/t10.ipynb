{
 "cells": [
  {
   "cell_type": "markdown",
   "id": "300bbf29",
   "metadata": {},
   "source": [
    "# Tutorial 10 - Linear Bayesian inversions"
   ]
  },
  {
   "cell_type": "markdown",
   "id": "57096463",
   "metadata": {},
   "source": []
  }
 ],
 "metadata": {
  "language_info": {
   "name": "python"
  }
 },
 "nbformat": 4,
 "nbformat_minor": 5
}
