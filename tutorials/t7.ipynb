{
 "cells": [
  {
   "cell_type": "markdown",
   "id": "9e179363",
   "metadata": {},
   "source": [
    "# Tutorial 7 - Forward problems"
   ]
  },
  {
   "cell_type": "markdown",
   "id": "f6b41b8c",
   "metadata": {},
   "source": []
  }
 ],
 "metadata": {
  "language_info": {
   "name": "python"
  }
 },
 "nbformat": 4,
 "nbformat_minor": 5
}
