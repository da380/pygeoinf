{
 "cells": [
  {
   "cell_type": "markdown",
   "id": "a6e066c5",
   "metadata": {},
   "source": [
    "# Tutorial 4 - Linear operators"
   ]
  },
  {
   "cell_type": "markdown",
   "id": "ee2d456e",
   "metadata": {},
   "source": [
    "In this tutorial, we consider the implementation of linear operators within the ```pygeoinf``` library through the ```LinearOperator``` class. \n",
    "\n",
    "### Defining a linear operator\n",
    "\n",
    "Let $X$ and $Y$ be two Hilbert spaces represented by ```HilbertSpace``` objects. A linear operator between them is specified through its mapping. This is shown in the following example using instances of ```EuclideanSpace``` as the domain and codomain of the mapping. "
   ]
  },
  {
   "cell_type": "code",
   "execution_count": 1,
   "id": "5b219335",
   "metadata": {},
   "outputs": [],
   "source": [
    "import numpy as np\n",
    "from pygeoinf import EuclideanSpace, LinearOperator\n",
    "\n",
    "# Set the domain of the operator. \n",
    "X = EuclideanSpace(5)\n",
    "\n",
    "# Set the codomain of the operator. \n",
    "Y = EuclideanSpace(3)\n",
    "\n",
    "# Define the linear operator as a projection from X to Y. \n",
    "A = LinearOperator(X, Y, lambda x : x[:Y.dim])"
   ]
  },
  {
   "cell_type": "markdown",
   "id": "4331afae",
   "metadata": {},
   "source": [
    "Having defined the operator, we can compute its action on vectors as follows:"
   ]
  },
  {
   "cell_type": "code",
   "execution_count": 2,
   "id": "0dce7cc4",
   "metadata": {},
   "outputs": [
    {
     "name": "stdout",
     "output_type": "stream",
     "text": [
      "The vector x is:  [-0.28975226 -0.57456512  0.70859188 -0.26995074  0.08562781]\n",
      "The vector Ax is: [-0.28975226 -0.57456512  0.70859188]\n"
     ]
    }
   ],
   "source": [
    "x = X.random()\n",
    "print(f'The vector x is:  {x}')\n",
    "\n",
    "y = A(x)\n",
    "print(f'The vector Ax is: {y}')"
   ]
  },
  {
   "cell_type": "markdown",
   "id": "98932d93",
   "metadata": {},
   "source": [
    "Linear operators can be combined in the usual manners so long as their domains and codomains are compatible. For example:"
   ]
  },
  {
   "cell_type": "code",
   "execution_count": 3,
   "id": "0e92eac0",
   "metadata": {},
   "outputs": [
    {
     "name": "stdout",
     "output_type": "stream",
     "text": [
      "The vector x is:       [-0.28795673  0.73365186 -0.14921437 -0.43172445 -0.32080789]\n",
      "The vector y = Ax is:  [-0.28795673  0.73365186 -0.14921437]\n",
      "The vector w = Bx is:  [-0.14921437 -0.43172445 -0.32080789]\n",
      "The vector (A+2B)x is: [-0.58638547 -0.12979705 -0.79083015]\n",
      "The vector y+2w is:    [-0.58638547 -0.12979705 -0.79083015]\n",
      "The vector (DA)(x) is: [-0.28795673  0.73365186 -0.14921437  0.          0.        ]\n"
     ]
    }
   ],
   "source": [
    "# Project the final elements onto Y. \n",
    "B = LinearOperator(X, Y, lambda x : x[-Y.dim:])\n",
    "\n",
    "x = X.random()\n",
    "print(f'The vector x is:       {x}')\n",
    "\n",
    "y = A(x)\n",
    "print(f'The vector y = Ax is:  {y}')\n",
    "\n",
    "w = B(x)\n",
    "print(f'The vector w = Bx is:  {w}')\n",
    "\n",
    "C = A + 2 * B\n",
    "z = C(x)\n",
    "print(f'The vector (A+2B)x is: {z}')\n",
    "print(f'The vector y+2w is:    {y+2*w}')\n",
    "\n",
    "# Inclusion of Y into X. \n",
    "D = LinearOperator(Y, X, lambda y : np.concatenate([y, np.zeros(X.dim-Y.dim)]))\n",
    "\n",
    "E = D @ A\n",
    "print(f'The vector (DA)(x) is: {E(x)}')"
   ]
  },
  {
   "cell_type": "markdown",
   "id": "bef73003",
   "metadata": {},
   "source": [
    "Algebraic combinations of such operators are always detemrined lazily, and hence there is essentially no cost until their action is computed. \n",
    "\n"
   ]
  },
  {
   "cell_type": "markdown",
   "id": "4c45fa5a",
   "metadata": {},
   "source": [
    "### Dual operators"
   ]
  },
  {
   "cell_type": "markdown",
   "id": "0febc46e",
   "metadata": {},
   "source": [
    "For a linear operator, $A \\in \\mathrm{Hom}(X,Y)$, the corresponding **dual operator**, $A' \\in \\mathrm{Hom}(Y',X')$ is defined through\n",
    "$$\n",
    "\\langle y', Ax \\rangle = \\langle A'y', x \\rangle, \n",
    "$$\n",
    "for all $x \\in X$ and $y' \\in Y'$. Such an operator can be accessed from a ```LinearOperator``` using its ```dual``` property. This is shown in the code below where we verify that the defining identity holds. "
   ]
  },
  {
   "cell_type": "code",
   "execution_count": 4,
   "id": "f84a9deb",
   "metadata": {},
   "outputs": [
    {
     "name": "stdout",
     "output_type": "stream",
     "text": [
      "<yp, Ax>    = -0.5140526363834335\n",
      "<Ap(yp), x> = -0.5140526363834335\n"
     ]
    }
   ],
   "source": [
    "x = X.random()\n",
    "yp = Y.dual.random()\n",
    "\n",
    "print(f'<yp, Ax>    = {yp(A(x))}')\n",
    "print(f'<Ap(yp), x> = {A.dual(yp)(x)}')"
   ]
  },
  {
   "cell_type": "markdown",
   "id": "9391ae40",
   "metadata": {},
   "source": [
    "Here we see that once a ```LinearOperator``` has been defined its dual is automatically available. This is done internally using the defining relation for the dual operator. However, this implementation is inefficient and should be used rarely. Indeed, the action of of this dual operator on a vector of dimension $n$ requires $n$ actions of the original operator to be computed. Rather, went constructing a ```LinearOperator``` the dual mapping can be provided directly as a key-word argument. \n",
    "\n",
    "Consider the projection operator, $A$, defined above. In this case we see that \n",
    "$$\n",
    "\\langle y', Ax \\rangle = \\sum_{i=1}^{m} y'_{i} x_{i}, \n",
    "$$\n",
    "where $m = \\dim Y$. It follows that $A'y'$ is the dual vector in $X'$ whose first $m$ components equal those of $y'$\n",
    "while all others are zero. Using this result, we can re-implement the projection operator as follows:\n"
   ]
  },
  {
   "cell_type": "code",
   "execution_count": 5,
   "id": "c3af4c55",
   "metadata": {},
   "outputs": [
    {
     "name": "stdout",
     "output_type": "stream",
     "text": [
      "<yp, Ax>    = 0.42474634545634204\n",
      "<Ap(yp), x> = 0.42474634545634204\n"
     ]
    }
   ],
   "source": [
    "# Define the mapping and the dual mapping\n",
    "def mapping(x):\n",
    "    return x[:Y.dim]\n",
    "\n",
    "def dual_mapping(yp):\n",
    "    cyp = Y.dual.to_components(yp)\n",
    "    cxp = np.concatenate([cyp, np.zeros(X.dim-Y.dim)])\n",
    "    return X.dual.from_components(cxp)\n",
    "\n",
    "# Construct the operator. \n",
    "A = LinearOperator(X, Y, mapping, dual_mapping=dual_mapping)\n",
    "\n",
    "# Check that it performs as required. \n",
    "x = X.random()\n",
    "yp = Y.dual.random()\n",
    "\n",
    "print(f'<yp, Ax>    = {yp(A(x))}')\n",
    "print(f'<Ap(yp), x> = {A.dual(yp)(x)}')\n"
   ]
  },
  {
   "cell_type": "markdown",
   "id": "35d4c0f8",
   "metadata": {},
   "source": [
    "### Adjoint operators\n",
    "\n",
    "For $A \\in \\mathrm{Hom}(X,Y)$ we can also define its **adjoint operator**, $A^{*} \\in \\mathrm{Hom}(Y, X)$, through\n",
    "$$\n",
    "(y, Ax)_{Y} = (A^{*}y, x)_{X}, \n",
    "$$\n",
    "for all $x \\in X$ and $y \\in Y$. For a ```LinearOperator``` the adjoint can be accessed through its ```adjoint``` property:"
   ]
  },
  {
   "cell_type": "code",
   "execution_count": 6,
   "id": "2d2f5d16",
   "metadata": {},
   "outputs": [
    {
     "name": "stdout",
     "output_type": "stream",
     "text": [
      "(y,Ax) = 0.4998519953512728\n",
      "(A*y,x) = 0.4998519953512728\n"
     ]
    }
   ],
   "source": [
    "# Define the projection again just in terms of its mapping. \n",
    "A = LinearOperator(X, Y, mapping)\n",
    "\n",
    "x = X.random()\n",
    "y = Y.random()\n",
    "\n",
    "print(f'(y,Ax) = {Y.inner_product(y, A(x))}')\n",
    "print(f'(A*y,x) = {Y.inner_product(A.adjoint(y), x)}')"
   ]
  },
  {
   "cell_type": "markdown",
   "id": "4ec79033",
   "metadata": {},
   "source": [
    "The dual and adjoint operators are related, and in the above case this relation is used to determine the adjoint from the automatically generated dual. Recalling the Riesz representation theorem in terms of an isometric isomorphisms $J_{X} = \\mathrm{Hom}(X',X)$ and\n",
    "$J_{Y} = \\mathrm{Hom}(Y',Y)$, it is readily seen that \n",
    "$$\n",
    "A^{*} = J_{X} A' J_{Y}^{-1}.\n",
    "$$\n",
    "\n",
    "If a ```LinearOperator``` is constructed given an explicit dual mapping, then the above relation is used to efficiently implement its adjoint. Equally, an ```adjoint_mapping``` can be provided as a key-word argument, and then the above relation generates the dual mapping. \n",
    "\n",
    "In the case of the projection, $A$, from $X$ to $Y$, a simple calculation shows that $A^{*}$ is just the inclusion from $Y$ into $X$. We can, therefore, implement this operator as follows:"
   ]
  },
  {
   "cell_type": "code",
   "execution_count": 7,
   "id": "a021fc79",
   "metadata": {},
   "outputs": [
    {
     "name": "stdout",
     "output_type": "stream",
     "text": [
      "(y,Ax) = 1.7842834033108008\n",
      "(A*y,x) = 1.7842834033108008\n",
      "<yp, Ax>    = 2.654451647298774\n",
      "<Ap(yp), x> = 2.654451647298774\n"
     ]
    }
   ],
   "source": [
    "def adjoint_mapping(y):\n",
    "    return np.concatenate([y, np.zeros(X.dim-Y.dim)])\n",
    "\n",
    "A = LinearOperator(X, Y, mapping, adjoint_mapping=adjoint_mapping)\n",
    "\n",
    "# Test the adjoint\n",
    "x = X.random()\n",
    "y = Y.random()\n",
    "print(f'(y,Ax) = {Y.inner_product(y, A(x))}')\n",
    "print(f'(A*y,x) = {Y.inner_product(A.adjoint(y), x)}')\n",
    "\n",
    "# Test the dual\n",
    "yp = Y.dual.random()\n",
    "print(f'<yp, Ax>    = {yp(A(x))}')\n",
    "print(f'<Ap(yp), x> = {A.dual(yp)(x)}')"
   ]
  },
  {
   "cell_type": "markdown",
   "id": "77a259b1",
   "metadata": {},
   "source": [
    "As a general rule, wheneven a ```LinearOperator``` is constructed, **either its dual or its adjoint mapping should be explicitly provided**. \n"
   ]
  },
  {
   "cell_type": "markdown",
   "id": "d167fcae",
   "metadata": {},
   "source": [
    "### Matrix representations\n",
    "\n",
    "If $X$ is modeled by a ```HilbertSpace```, recall that we have mappings $P_{X} \\in \\mathrm{Hom}(X, \\mathbb{R}^{n})$ and \n",
    "$I_{X} \\in \\mathrm{Hom}(\\mathbb{R}^{n},X)$ that, respectively, map vectors to and from their components. Given a linear operator, \n",
    "$A \\in \\mathrm{Hom}(X,Y)$ we can then define its **matrix representation** by\n",
    "$$\n",
    "\\hat{A} = P_{Y} A I_{X} \\in \\mathrm{Hom(\\mathbb{R}^{n}, \\mathbb{R}^{m})}. \n",
    "$$ \n",
    "This operator can be viewed as an $m\\times n$ matrix, and from a ```LinearOperator``` it can be accessed as follows:"
   ]
  },
  {
   "cell_type": "code",
   "execution_count": 8,
   "id": "7ee4e739",
   "metadata": {},
   "outputs": [
    {
     "name": "stdout",
     "output_type": "stream",
     "text": [
      "[[1. 0. 0. 0. 0.]\n",
      " [0. 1. 0. 0. 0.]\n",
      " [0. 0. 1. 0. 0.]]\n"
     ]
    }
   ],
   "source": [
    "Ah = A.matrix(dense=True)\n",
    "print(Ah)"
   ]
  },
  {
   "cell_type": "markdown",
   "id": "913f0e9c",
   "metadata": {},
   "source": [
    "Note the inclusion of the key-word argument ```dense``` when using the ```matrix``` method. Without this, the default is to return the matrix representation as a ```scipy``` ```LinearOperator``` instance. This latter option is useful when interfacing between ```pygeoinf``` operators and numerical algorithms provided by ```scipy```. \n",
    "\n",
    "The dense matrix representation is generated by successively acting the operator on the image of the standard Euclidean basis vectors. A ```LinearOperator``` can also be printed, the result just being its dense matrix representation:"
   ]
  },
  {
   "cell_type": "code",
   "execution_count": 9,
   "id": "a24bab0f",
   "metadata": {},
   "outputs": [
    {
     "name": "stdout",
     "output_type": "stream",
     "text": [
      "[[1. 0. 0. 0. 0.]\n",
      " [0. 1. 0. 0. 0.]\n",
      " [0. 0. 1. 0. 0.]]\n"
     ]
    }
   ],
   "source": [
    "print(A)"
   ]
  },
  {
   "cell_type": "markdown",
   "id": "ac231d81",
   "metadata": {},
   "source": [
    "If the matrix representation of an linear operator is available, this can be used to generate the correspondind ```LinearOperator``` using the ```from_matrix``` static method. This matrix is used internally to define the action of the operator, its dual, and its adjoint in an efficient manner. The matrix used can either be a dense ```numpy``` matrix or a ```scipy``` ```LinearOperator```. As an example, we can reconstruct our projection operator using its dense matrix representation: "
   ]
  },
  {
   "cell_type": "code",
   "execution_count": 10,
   "id": "46ac7a33",
   "metadata": {},
   "outputs": [
    {
     "name": "stdout",
     "output_type": "stream",
     "text": [
      "[[1. 0. 0. 0. 0.]\n",
      " [0. 1. 0. 0. 0.]\n",
      " [0. 0. 1. 0. 0.]]\n",
      "(y,Ax) = 0.569604008988349\n",
      "(A*y,x) = 0.569604008988349\n",
      "<yp, Ax>    = 0.10551025899413669\n",
      "<Ap(yp), x> = 0.10551025899413669\n"
     ]
    }
   ],
   "source": [
    "A = LinearOperator.from_matrix(X, Y, Ah)\n",
    "print(A)\n",
    "\n",
    "# Test the adjoint\n",
    "x = X.random()\n",
    "y = Y.random()\n",
    "print(f'(y,Ax) = {Y.inner_product(y, A(x))}')\n",
    "print(f'(A*y,x) = {Y.inner_product(A.adjoint(y), x)}')\n",
    "\n",
    "# Test the dual\n",
    "yp = Y.dual.random()\n",
    "print(f'<yp, Ax>    = {yp(A(x))}')\n",
    "print(f'<Ap(yp), x> = {A.dual(yp)(x)}')"
   ]
  },
  {
   "cell_type": "markdown",
   "id": "27558a72",
   "metadata": {},
   "source": [
    "### Galerkin matrix representation\n",
    "\n",
    "On a Hilbert space, a second useful matrix representation of a linear operator is available. Let $A\\in \\mathrm{Hom}(X,Y)$ \n",
    "and $\\{e_{j}\\}$ and $\\{f_{i}\\}$ be bases for $X$ and $Y$, respectively. The **Galerkin matrix representation** is the \n",
    "linear operator, $\\tilde{A} \\in \\mathrm{Hom}(\\mathbb{R}^{n}, \\mathbb{R}^{m})$, with components\n",
    "$$\n",
    "\\tilde{A}_{ij} = (f_{i}, A e_{j})_{Y}. \n",
    "$$\n",
    "Equivalently, we can express this matrix as\n",
    "$$\n",
    "\\tilde{A} = P_{Y'}J_{Y}^{-1}A I_{X}.\n",
    "$$\n",
    "\n",
    "From a ```LinearOperator``` its Galerkin matrix representation can be accessed from the ```matrix``` method using the key-word argument ```galerkin```:"
   ]
  },
  {
   "cell_type": "code",
   "execution_count": 11,
   "id": "23285748",
   "metadata": {},
   "outputs": [
    {
     "name": "stdout",
     "output_type": "stream",
     "text": [
      "[[1. 0. 0. 0. 0.]\n",
      " [0. 1. 0. 0. 0.]\n",
      " [0. 0. 1. 0. 0.]]\n"
     ]
    }
   ],
   "source": [
    "Ag = A.matrix(dense=True, galerkin=True)\n",
    "print(Ag)"
   ]
  },
  {
   "cell_type": "markdown",
   "id": "4d60c67f",
   "metadata": {},
   "source": [
    "In this example, the two matrix representations coincide because the mapping from Euclidean space to its dual is trivial. This is not the case in more general Hilbert spaces, however. The ```from_matrix``` method can also use Galerking representations to construct a ```LinearOperator```:"
   ]
  },
  {
   "cell_type": "code",
   "execution_count": 12,
   "id": "e548eb8b",
   "metadata": {},
   "outputs": [
    {
     "name": "stdout",
     "output_type": "stream",
     "text": [
      "[[1. 0. 0. 0. 0.]\n",
      " [0. 1. 0. 0. 0.]\n",
      " [0. 0. 1. 0. 0.]]\n",
      "(y,Ax) = -2.0265670784115875\n",
      "(A*y,x) = -2.0265670784115875\n",
      "<yp, Ax>    = 0.8109249250063615\n",
      "<Ap(yp), x> = 0.8109249250063615\n"
     ]
    }
   ],
   "source": [
    "A = LinearOperator.from_matrix(X, Y, Ag, galerkin=True)\n",
    "print(A)\n",
    "\n",
    "# Test the adjoint\n",
    "x = X.random()\n",
    "y = Y.random()\n",
    "print(f'(y,Ax) = {Y.inner_product(y, A(x))}')\n",
    "print(f'(A*y,x) = {Y.inner_product(A.adjoint(y), x)}')\n",
    "\n",
    "# Test the dual\n",
    "yp = Y.dual.random()\n",
    "print(f'<yp, Ax>    = {yp(A(x))}')\n",
    "print(f'<Ap(yp), x> = {A.dual(yp)(x)}')"
   ]
  },
  {
   "cell_type": "markdown",
   "id": "64ad31e1",
   "metadata": {},
   "source": [
    "### Self-dual and self-adjoint operators\n",
    "\n",
    "A linear operator $A \\in \\mathrm{Hom}(X, X')$ is said to be **self-dual** if $A' = A$. Similarly, an operator\n",
    "$A \\in \\mathrm{Hom}(X) = \\mathrm{Hom}(X,X)$ is self-adjoint if $A^{*} = A$. The following results hold:\n",
    "\n",
    "- The matrix representation of a self-dual operator is always symmetric.\n",
    "- The Galerkin matrix representation of a self-adjoint operator is always symmetric.\n",
    "\n",
    "These results follow readily from the definitions above along with the identities:\n",
    "$$\n",
    "I_{X}' = J_{\\mathbb{R}^{n}}^{-1}P_{X'}, \\quad P_{X}' = I_{X'}J_{\\mathbb{R}^{n}}.\n",
    "$$\n",
    "\n",
    "The property for self-adjoint operators is important in practice. This is because various methods that use matrix representations depend upon the matrices being symmetrix (e.g., Cholesky decompositions), and hence it is the Galerking representation that should be used. \n",
    "\n",
    "If an operator is known to be self-dual or self-adjoint, then its construction can be simplified using the static methods ```self_dual``` and ```self_adjoint```, respectively which only require the operators domain and mapping to be provided. "
   ]
  },
  {
   "cell_type": "markdown",
   "id": "718b2c6b",
   "metadata": {},
   "source": [
    "### Formal adjoints\n",
    "\n",
    "In addition to duals and adjoint, the further concept of a formal adjoint is often of use when considering function spaces. Consider, for example, the Sobolev space $H^{s}(\\mathbb{S}^{1})$ discussed in earlier tutorials. The derivative mapping:\n",
    "$$\n",
    "A u = \\frac{\\mathrm{d}u}{\\mathrm{d}\\theta},\n",
    "$$\n",
    "is continuous from $H^{s}(\\mathbb{S}^{1})$ to $H^{s-1}(\\mathbb{S}^{1})$. Determining the adjoint of this operator is possible, but it is complicated by the need to consider the inner products on the two spaces. Instead, it is easier to first compute its **formal adjoint**, $A^{\\dagger}$, this being the adjoint defined relative to the $L^{2}(\\mathbb{S}^{1})$ inner product and using smooth functions. It follows that \n",
    "for smooth $u$ and $v$ we have\n",
    "$$\n",
    "\\int_{0}^{2\\pi} (A^{\\dagger}v) u \\,\\mathrm{d} \\theta = \\int_{0}^{2\\pi} v \\frac{\\mathrm{d}u}{\\mathrm{d}\\theta} \\,\\mathrm{d} \\theta\n",
    "= -\\int_{0}^{2\\pi}  \\frac{\\mathrm{d}v}{\\mathrm{d}\\theta} u \\,\\mathrm{d} \\theta, \n",
    "$$\n",
    "and hence the formal adjoint is $A^{\\dagger} = -A$. From the formal adjoint the dual operator can be constructed, and hence the adjoint also. This is all done within the static methods ```from_formal_adjoint``` and ```formally_self_adjoint```, with the latter applicable in cases that the operator is equal to its formal adjoint. \n",
    "\n",
    "To implement these ideas in practice, we can use the Fourier expansions that underlie our implementation of $H^{s}(\\mathbf{S}^{1})$. Recall that each element of this space takes the form\n",
    "$$\n",
    "u = \\sum_{k=\\infty}^{\\infty} u_{k} \\phi_{k}, \n",
    "$$\n",
    "with basis functions defined by \n",
    "$$\n",
    "\\phi_{k}(\\theta) = \\frac{1}{\\sqrt{2\\pi}} \\mathrm{e}^{\\mathrm{i} k \\theta}\n",
    "$$\n",
    "It follows that \n",
    "$$\n",
    "\\frac{\\mathrm{d}u}{\\mathrm{d}\\theta} = \\sum_{k=\\infty}^{\\infty} \\mathrm{i} k u_{k} \\phi_{k}, \n",
    "$$\n",
    "and hence in terms of Fourier coefficients differentiation us just a wave-number dependent scaling. Such a mapping is implemented below, and then we construct the ```LinearOperator``` using ```from_formal_adjoint```. In doing this, we make use of the methods ```to_coefficient``` and ```from_coefficient``` that return a real functions Fourier coefficients for non-negative wavenumbers. \n"
   ]
  },
  {
   "cell_type": "code",
   "execution_count": 36,
   "id": "9b73f0cf",
   "metadata": {},
   "outputs": [
    {
     "data": {
      "image/png": "[encoded data removed]",
      "text/plain": [
       "<Figure size 640x480 with 1 Axes>"
      ]
     },
     "metadata": {},
     "output_type": "display_data"
    },
    {
     "data": {
      "image/png": "[encoded data removed]",
      "text/plain": [
       "<Figure size 640x480 with 1 Axes>"
      ]
     },
     "metadata": {},
     "output_type": "display_data"
    },
    {
     "name": "stdout",
     "output_type": "stream",
     "text": [
      "(v,Au) =  -18.286468062244953\n",
      "(A*v,u) = -18.286468062244953\n"
     ]
    }
   ],
   "source": [
    "import matplotlib.pyplot as plt\n",
    "from pygeoinf.homogeneous_space.circle import Sobolev\n",
    "\n",
    "\n",
    "# Set up the spaces. Note the length scales can vary between the two. \n",
    "exponent = 2\n",
    "length_scale_1 = 0.1\n",
    "length_scale_2 = 0.3\n",
    "X = Sobolev.from_sobolev_parameters(exponent,length_scale_1)\n",
    "Y = Sobolev.from_sobolev_parameters(exponent-1,length_scale_2)\n",
    "\n",
    "# Define the derivative mapping\n",
    "def mapping(u):\n",
    "    coeff = X.to_coefficient(u)\n",
    "    for k in range(coeff.size):\n",
    "        coeff[k] *= 1j * k\n",
    "    return Y.from_coefficient(coeff)\n",
    "\n",
    "def formal_adjoint(v):\n",
    "    coeff = Y.to_coefficient(v)\n",
    "    for k in range(coeff.size):\n",
    "        coeff[k] *= -1j * k\n",
    "    return X.from_coefficient(coeff)\n",
    "\n",
    "    \n",
    "# Set up the operator. \n",
    "A = LinearOperator.from_formal_adjoint(X, Y, mapping, formal_adjoint)\n",
    "\n",
    "# Define a function on the domain\n",
    "u = X.project_function(lambda th : np.sin(th))\n",
    "v = A(u)\n",
    "\n",
    "fig, ax = plt.subplots()\n",
    "X.plot(u, fig=fig, ax=ax)\n",
    "Y.plot(v, fig=fig, ax=ax)\n",
    "plt.show()\n",
    "\n",
    "# Check the adjoint identity using random functions. \n",
    "mu = X.heat_gaussian_measure(0.1, 1)\n",
    "nu = Y.heat_gaussian_measure(0.2,1)\n",
    "\n",
    "u = mu.sample()\n",
    "v = nu.sample()\n",
    "\n",
    "fig, ax = plt.subplots()\n",
    "X.plot(u, fig=fig, ax=ax)\n",
    "Y.plot(v, fig=fig, ax=ax)\n",
    "plt.show()\n",
    "\n",
    "print(f'(v,Au) =  {Y.inner_product(v, A(u))}')\n",
    "print(f'(A*v,u) = {X.inner_product(A.adjoint(v), u)}')\n"
   ]
  }
 ],
 "metadata": {
  "kernelspec": {
   "display_name": "pygeoinf-0ZCu7S8P-py3.10",
   "language": "python",
   "name": "python3"
  },
  "language_info": {
   "codemirror_mode": {
    "name": "ipython",
    "version": 3
   },
   "file_extension": ".py",
   "mimetype": "text/x-python",
   "name": "python",
   "nbconvert_exporter": "python",
   "pygments_lexer": "ipython3",
   "version": "3.10.13"
  }
 },
 "nbformat": 4,
 "nbformat_minor": 5
}
