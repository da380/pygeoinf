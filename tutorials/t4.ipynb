{
 "cells": [
  {
   "cell_type": "markdown",
   "id": "48f7a73d",
   "metadata": {},
   "source": [
    "# Tutorial 4 - Defining a custom ```HilbertSpace```\n",
    "\n",
    "Within this tutorial we show through a simple but useful example how a user can define their own ```HilbertSpace```. A key point is that instances of ```HilbertSpace``` should not, in general, be constructed directly. Rather the intention is for the user to define a new class derived from ```HilbertSpace```. \n",
    "\n",
    "We have already seen that ```pygeoinf``` has an implementation of Euclidean space. Here, we will generalise this to allow for a non-standard inner product. Elements of our space, $X$, will be vectors in $\\mathbb{R}^{n}$, but we use the inner product\n",
    "$$\n",
    "(x, y)_{X} = (Mx, y)_{\\mathbb{R}^{n}}, \n",
    "$$\n",
    "with $M$ an symmetric and positive-definite matrix that we call the **metric**. From this definition, it follows that the Riesz mapping, $J_{X}$ on a component-level is just multiplication by $M$. \n",
    "\n",
    "The implementation of the necessary class is given below. "
   ]
  },
  {
   "cell_type": "code",
   "execution_count": 6,
   "id": "3af891d7",
   "metadata": {},
   "outputs": [],
   "source": [
    "import numpy as np\n",
    "from scipy.linalg import cho_factor, cho_solve\n",
    "from pygeoinf import  HilbertSpace, LinearForm\n",
    "\n",
    "class GeneralisedEuclideanSpace(HilbertSpace):\n",
    "    \"\"\"\n",
    "    Class for a generalised Euclidean space whose inner\n",
    "    product is defined by a metrix tensor. \n",
    "    \"\"\"\n",
    "\n",
    "    def __init__(self, dim, metric, /, *, inverse_metric=None):\n",
    "        \"\"\"\n",
    "        Args:\n",
    "            dim (int): Dimension of the space. \n",
    "            metric (matrix-like): The metric tensor. \n",
    "        \"\"\"        \n",
    "        self._metric = metric\n",
    "        self._factor = cho_factor(metric)                        \n",
    "        super().__init__(dim, self._to_components, self._from_components, self._inner_product, self._to_dual, self._from_dual)\n",
    "\n",
    "    def _to_components(self, x):\n",
    "        return x\n",
    "\n",
    "    def _from_components(self, c):\n",
    "        return c\n",
    "\n",
    "    def _inner_product(self, x1, x2):\n",
    "        return np.dot(self._metric @ x1, x2)    \n",
    "\n",
    "    def _from_dual(self, xp):\n",
    "        cp = self.dual.to_components(xp)\n",
    "        c = cho_solve(self._factor, cp)        \n",
    "        return self.from_components(c)\n",
    "\n",
    "    def _to_dual(self, x):\n",
    "        cp = self._metric @ x\n",
    "        return self.dual.from_components(cp)"
   ]
  },
  {
   "cell_type": "markdown",
   "id": "aadf3c6d",
   "metadata": {},
   "source": [
    "Before discussing how this class has been defined, let's see it in action:"
   ]
  },
  {
   "cell_type": "code",
   "execution_count": 7,
   "id": "aa99a8ba",
   "metadata": {},
   "outputs": [
    {
     "name": "stdout",
     "output_type": "stream",
     "text": [
      "The metric is:\n",
      " [[ 6.76766443 -4.57721065  0.09136889 -3.52186613]\n",
      " [-4.57721065 10.27548365  3.54982226  6.54660035]\n",
      " [ 0.09136889  3.54982226 10.98445619  2.77562685]\n",
      " [-3.52186613  6.54660035  2.77562685  5.6913453 ]]\n",
      "x      = [ 0.41947337 -0.25107355 -0.79619042 -1.23571486]\n",
      "y      = [-0.23816025 -0.20301065  0.57807871 -0.59881688]\n",
      "(x,y)  = 1.0327941304767894\n",
      "xp     = [  8.26734679 -15.41598594 -13.02854183 -12.36381471]\n",
      "<xp,y> = 1.0327941304767894\n",
      "zp     = [ 0.82876711 -0.36423126 -0.65252455  1.33937719]\n",
      "<zp,y> = -1.3026887782920733\n",
      "z      = [ 0.3640404  -0.60051484 -0.18169014  1.23997281]\n",
      "(z,y)  = -1.3026887782920729\n"
     ]
    }
   ],
   "source": [
    "# Set the dimension of the space. \n",
    "dim = 4\n",
    "\n",
    "# Generate a metric tensor as a self-adjoint matrix. \n",
    "metric = np.random.randn(dim, dim)\n",
    "metric = np.identity(dim) + 5 * metric @ metric.T\n",
    "\n",
    "print(f'The metric is:\\n {metric}')\n",
    "\n",
    "# Construct the Hilbert space. \n",
    "X = GeneralisedEuclideanSpace(dim, metric)\n",
    "\n",
    "# Test the basic identities on random vectors. \n",
    "x = X.random()\n",
    "y = X.random()\n",
    "\n",
    "print(f'x      = {x}')\n",
    "print(f'y      = {y}')\n",
    "print(f'(x,y)  = {X.inner_product(x,y)}')\n",
    "\n",
    "xp = X.to_dual(x)\n",
    "print(f'xp     = {xp}')\n",
    "print(f'<xp,y> = {xp(y)}')\n",
    "\n",
    "zp = X.dual.random()\n",
    "print(f'zp     = {zp}')\n",
    "print(f'<zp,y> = {zp(y)}')\n",
    "z = X.from_dual(zp)\n",
    "print(f'z      = {z}')\n",
    "print(f'(z,y)  = {X.inner_product(z,y)}')\n",
    "\n"
   ]
  },
  {
   "cell_type": "markdown",
   "id": "106def7f",
   "metadata": {},
   "source": [
    "### The constructor\n",
    "\n",
    "The ```__init__``` method for the class takes in two arguments:\n",
    "\n",
    "- The dimension of the space\n",
    "- The metric tensor, $M$, assumed to be a numpy matrix. \n",
    "\n",
    "The Cholesky factorisation of the matrix is computed and stored. This allows for efficient solution of the linear equation $y = Mx$ as required within the Riesz mapping. The base class is then initialised, with implementations for the necessary mappings provided through private methods. As a general comment, these methods make use of properties derived from the base class. But there is no issue of circularity because these methods cannot be called until the base class has been constructed.\n",
    "\n",
    "The implementation could be improved in various ways. We might, for example, allow the metric to be given in a more general form (e.g., as a ```scipy.sparse``` ```LinearOperator```). We might also allow the user to optionally provide the inverse metric directly. Such steps would be particularly useful if the dimension of the space is large. \n",
    "\n",
    "### To and from component mappings\n",
    "\n",
    "These are just the identity mappings. This is identical to what is done in ```EuclideanSpace```. \n",
    "\n",
    "### Inner product\n",
    "\n",
    "The metric is used along with the standard  ```numpy``` inner product. In ```EuclideanSpace``` the only difference is that the metric is the identity, and hence the matrix-vector product it not needed. \n",
    "\n",
    "### To and from dual mappings. \n",
    "\n",
    "This is the only point at which this implementation of this space differs significantly from that for ```EuclideanSpace```. To map a vector to the dual space, we need to form its components, multiply by the metric, and then form the corresponding dual vector. In ```EuclideanSpace``` the metric is the identity and so the middle step is skipped. For the inverse mapping the process is analogous, but now we need to multiply by the inverse metric in the middle step. Within our implementation this is done efficiently using back-substitution having stored the Choelsky factorisation of the metric. "
   ]
  }
 ],
 "metadata": {
  "kernelspec": {
   "display_name": "pygeoinf-0ZCu7S8P-py3.10",
   "language": "python",
   "name": "python3"
  },
  "language_info": {
   "codemirror_mode": {
    "name": "ipython",
    "version": 3
   },
   "file_extension": ".py",
   "mimetype": "text/x-python",
   "name": "python",
   "nbconvert_exporter": "python",
   "pygments_lexer": "ipython3",
   "version": "3.10.13"
  }
 },
 "nbformat": 4,
 "nbformat_minor": 5
}
