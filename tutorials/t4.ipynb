{
 "cells": [
  {
   "cell_type": "markdown",
   "id": "a6e066c5",
   "metadata": {},
   "source": [
    "# Tutorial 4 - Linear operators"
   ]
  },
  {
   "cell_type": "markdown",
   "id": "ee2d456e",
   "metadata": {},
   "source": []
  }
 ],
 "metadata": {
  "language_info": {
   "name": "python"
  }
 },
 "nbformat": 4,
 "nbformat_minor": 5
}
