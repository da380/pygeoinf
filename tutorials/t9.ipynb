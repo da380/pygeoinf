{
 "cells": [
  {
   "cell_type": "markdown",
   "id": "c47d63de",
   "metadata": {},
   "source": [
    "# Tutorial 9 - Linear minimum norm inversions"
   ]
  },
  {
   "cell_type": "markdown",
   "id": "6643a2eb",
   "metadata": {},
   "source": []
  }
 ],
 "metadata": {
  "language_info": {
   "name": "python"
  }
 },
 "nbformat": 4,
 "nbformat_minor": 5
}
