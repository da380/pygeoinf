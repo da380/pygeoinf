{
 "cells": [
  {
   "cell_type": "code",
   "execution_count": 1,
   "metadata": {},
   "outputs": [],
   "source": [
    "from pygeoinf.linalg import *\n",
    "import numpy as np"
   ]
  },
  {
   "cell_type": "code",
   "execution_count": 10,
   "metadata": {},
   "outputs": [
    {
     "name": "stdout",
     "output_type": "stream",
     "text": [
      "None\n"
     ]
    }
   ],
   "source": [
    "# Construct the spaces\n",
    "dim_M = 3\n",
    "M = EuclideanSpace(dim_M)\n",
    "dim_D = 2\n",
    "D = EuclideanSpace(dim_D)\n",
    "\n",
    "# Construct forward operator\n",
    "G_representation = np.array([[1, 2, 3], [4, 5, 6]])\n",
    "def G_mapping(x):\n",
    "    return G_representation @ x\n",
    "G = LinearOperator(M, D, G_mapping)\n",
    "\n",
    "# Create measures\n",
    "def C_0_mapping(x):\n",
    "    C_0_representation = np.array([[1, 0, 0], [0, 1, 0], [0, 0, 1]])\n",
    "    return C_0_representation @ x\n",
    "C_0 = LinearOperator(M, M, C_0_mapping)\n",
    "mu_0 = GaussianMeasure(M, C_0)\n",
    "print(mu_0.sample_using_dense_matrix())"
   ]
  }
 ],
 "metadata": {
  "kernelspec": {
   "display_name": "inferences",
   "language": "python",
   "name": "python3"
  },
  "language_info": {
   "codemirror_mode": {
    "name": "ipython",
    "version": 3
   },
   "file_extension": ".py",
   "mimetype": "text/x-python",
   "name": "python",
   "nbconvert_exporter": "python",
   "pygments_lexer": "ipython3",
   "version": "3.12.7"
  }
 },
 "nbformat": 4,
 "nbformat_minor": 2
}
