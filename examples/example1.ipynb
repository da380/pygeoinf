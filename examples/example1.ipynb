{
 "cells": [
  {
   "cell_type": "markdown",
   "id": "a59d7953",
   "metadata": {},
   "source": [
    "# Example 1\n",
    "\n",
    "This example sets up and solves a simple inverse problem on Euclidean space using a regularised least squares method. "
   ]
  },
  {
   "cell_type": "code",
   "execution_count": null,
   "id": "2987ecec",
   "metadata": {
    "vscode": {
     "languageId": "plaintext"
    }
   },
   "outputs": [],
   "source": []
  }
 ],
 "metadata": {
  "language_info": {
   "name": "python"
  }
 },
 "nbformat": 4,
 "nbformat_minor": 5
}
