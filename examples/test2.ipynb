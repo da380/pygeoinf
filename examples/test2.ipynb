{
 "cells": [
  {
   "cell_type": "markdown",
   "metadata": {},
   "source": [
    "# Linear Solver Demonstration Notebook\n",
    "\n",
    "This notebook demonstrates the functionality of different linear solvers (both direct and iterative) on linear systems. We'll explore solvers like **Conjugate Gradient (CG)**, **BiConjugate Gradient Stabilized (BICGSTAB)**, and **GMRES** with different options for preconditioning. The classes used here were defined in the previous code snippets.\n",
    "\n",
    "### Import Necessary Libraries"
   ]
  },
  {
   "cell_type": "code",
   "execution_count": 5,
   "metadata": {},
   "outputs": [],
   "source": [
    "# Importing necessary libraries\n",
    "import numpy as np\n",
    "import matplotlib.pyplot as plt\n",
    "from scipy.sparse import csr_matrix\n",
    "from scipy.sparse.linalg import LinearOperator, cg, gmres, bicgstab, aslinearoperator\n",
    "\n",
    "# Set up matplotlib for inline plotting\n",
    "%matplotlib inline\n"
   ]
  },
  {
   "cell_type": "markdown",
   "metadata": {},
   "source": [
    "### Define Helper Classes for Linear Operators\n",
    "These classes allow us to define operators that can work with our solvers. We define a basic `LinearOperator` class, as well as some preconditioning methods."
   ]
  },
  {
   "cell_type": "code",
   "execution_count": 6,
   "metadata": {},
   "outputs": [],
   "source": [
    "class SimpleLinearOperator:\n",
    "    \"\"\"\n",
    "    A simple wrapper for defining a linear operator.\n",
    "    \"\"\"\n",
    "    def __init__(self, matrix):\n",
    "        self.matrix = aslinearoperator(matrix)\n",
    "\n",
    "    def __call__(self, x):\n",
    "        return self.matrix @ x\n",
    "\n",
    "class IdentityPreconditioner:\n",
    "    \"\"\"\n",
    "    Identity preconditioner for testing purposes.\n",
    "    \"\"\"\n",
    "    def __call__(self, operator):\n",
    "        return aslinearoperator(np.eye(operator.shape[0]))"
   ]
  },
  {
   "cell_type": "markdown",
   "metadata": {},
   "source": [
    "### Define Iterative Solvers\n",
    "\n",
    "Here, we define some iterative solvers, including **Conjugate Gradient (CG)**, **BICGSTAB**, and **GMRES**. We set up each solver to solve linear systems using matrix representations and allow for an optional preconditioner."
   ]
  },
  {
   "cell_type": "code",
   "execution_count": 7,
   "metadata": {},
   "outputs": [],
   "source": [
    "class CGMatrixSolver:\n",
    "    \"\"\"Conjugate Gradient solver for symmetric positive-definite matrices.\"\"\"\n",
    "    def __init__(self, tol=1.e-5, maxiter=100):\n",
    "        self.tol = tol\n",
    "        self.maxiter = maxiter\n",
    "\n",
    "    def solve(self, matrix, rhs, preconditioner=None):\n",
    "        M = preconditioner if preconditioner is not None else None\n",
    "        result, info = cg(matrix, rhs, tol=self.tol, maxiter=self.maxiter, M=M)\n",
    "        return result, info\n",
    "\n",
    "class BICGSTABMatrixSolver:\n",
    "    \"\"\"BiConjugate Gradient Stabilized solver for general linear systems.\"\"\"\n",
    "    def __init__(self, tol=1.e-5, maxiter=100):\n",
    "        self.tol = tol\n",
    "        self.maxiter = maxiter\n",
    "\n",
    "    def solve(self, matrix, rhs, preconditioner=None):\n",
    "        M = preconditioner if preconditioner is not None else None\n",
    "        result, info = bicgstab(matrix, rhs, tol=self.tol, maxiter=self.maxiter, M=M)\n",
    "        return result, info\n",
    "\n",
    "class GMRESMatrixSolver:\n",
    "    \"\"\"GMRES solver for general linear systems.\"\"\"\n",
    "    def __init__(self, tol=1.e-5, maxiter=100, restart=None):\n",
    "        self.tol = tol\n",
    "        self.maxiter = maxiter\n",
    "        self.restart = restart\n",
    "\n",
    "    def solve(self, matrix, rhs, preconditioner=None):\n",
    "        M = preconditioner if preconditioner is not None else None\n",
    "        result, info = gmres(matrix, rhs, tol=self.tol, maxiter=self.maxiter, restart=self.restart, M=M)\n",
    "        return result, info"
   ]
  },
  {
   "cell_type": "markdown",
   "metadata": {},
   "source": [
    "### Generate a Test Matrix and Right-Hand Side Vector\n",
    "\n",
    "Let's create a symmetric positive-definite matrix and a corresponding vector to test the solvers."
   ]
  },
  {
   "cell_type": "code",
   "execution_count": 8,
   "metadata": {},
   "outputs": [
    {
     "name": "stdout",
     "output_type": "stream",
     "text": [
      "Matrix A:\n",
      "[[13.59142251  3.02485972  3.28768916  3.08688511  1.79375079  1.78580288\n",
      "   1.76630853  2.59616316  3.1542019   2.18375695]\n",
      " [ 3.02485972 13.26155316  2.83661729  3.0778461   1.62867297  2.15272056\n",
      "   2.12187866  2.5975692   3.61397375  2.31416145]\n",
      " [ 3.28768916  2.83661729 13.9769231   2.43689267  1.95606889  1.96460228\n",
      "   2.33883656  2.25795288  3.36056789  1.96229222]\n",
      " [ 3.08688511  3.0778461   2.43689267 13.47758495  1.5350314   1.72964959\n",
      "   1.86326376  2.54379472  3.54322856  2.50425001]\n",
      " [ 1.79375079  1.62867297  1.95606889  1.5350314  11.67702712  1.15281156\n",
      "   1.32864878  0.86613409  1.80059357  1.21423111]\n",
      " [ 1.78580288  2.15272056  1.96460228  1.72964959  1.15281156 11.93300375\n",
      "   1.56073864  1.83053983  2.5190982   1.58085207]\n",
      " [ 1.76630853  2.12187866  2.33883656  1.86326376  1.32864878  1.56073864\n",
      "  12.42970961  1.28731689  3.02004903  1.49979614]\n",
      " [ 2.59616316  2.5975692   2.25795288  2.54379472  0.86613409  1.83053983\n",
      "   1.28731689 12.87540544  2.92899417  2.09848629]\n",
      " [ 3.1542019   3.61397375  3.36056789  3.54322856  1.80059357  2.5190982\n",
      "   3.02004903  2.92899417 14.82280736  2.78987673]\n",
      " [ 2.18375695  2.31416145  1.96229222  2.50425001  1.21423111  1.58085207\n",
      "   1.49979614  2.09848629  2.78987673 12.61974602]]\n",
      "\n",
      "Right-hand side vector b:\n",
      "[0.67781654 0.27000797 0.73519402 0.96218855 0.24875314 0.57615733\n",
      " 0.59204193 0.57225191 0.22308163 0.95274901]\n"
     ]
    }
   ],
   "source": [
    "# Create a random symmetric positive-definite matrix A\n",
    "np.random.seed(0)  # For reproducibility\n",
    "size = 10\n",
    "A = np.random.rand(size, size)\n",
    "A = A.T @ A + size * np.eye(size)  # Making A symmetric positive definite\n",
    "\n",
    "# Create a random right-hand side vector b\n",
    "b = np.random.rand(size)\n",
    "\n",
    "# Display the matrix and the vector\n",
    "print(\"Matrix A:\")\n",
    "print(A)\n",
    "print(\"\\nRight-hand side vector b:\")\n",
    "print(b)"
   ]
  },
  {
   "cell_type": "markdown",
   "metadata": {},
   "source": [
    "### Solve Using Conjugate Gradient (CG) Solver\n",
    "\n",
    "The CG solver is suitable for symmetric positive-definite matrices."
   ]
  },
  {
   "cell_type": "code",
   "execution_count": 9,
   "metadata": {},
   "outputs": [
    {
     "ename": "TypeError",
     "evalue": "cg() got an unexpected keyword argument 'tol'",
     "output_type": "error",
     "traceback": [
      "\u001b[0;31m---------------------------------------------------------------------------\u001b[0m",
      "\u001b[0;31mTypeError\u001b[0m                                 Traceback (most recent call last)",
      "Cell \u001b[0;32mIn[9], line 3\u001b[0m\n\u001b[1;32m      1\u001b[0m \u001b[38;5;66;03m# Instantiate and solve using the CG solver\u001b[39;00m\n\u001b[1;32m      2\u001b[0m cg_solver \u001b[38;5;241m=\u001b[39m CGMatrixSolver(tol\u001b[38;5;241m=\u001b[39m\u001b[38;5;241m1e-5\u001b[39m, maxiter\u001b[38;5;241m=\u001b[39m\u001b[38;5;241m100\u001b[39m)\n\u001b[0;32m----> 3\u001b[0m cg_solution, cg_info \u001b[38;5;241m=\u001b[39m \u001b[43mcg_solver\u001b[49m\u001b[38;5;241;43m.\u001b[39;49m\u001b[43msolve\u001b[49m\u001b[43m(\u001b[49m\u001b[43mA\u001b[49m\u001b[43m,\u001b[49m\u001b[43m \u001b[49m\u001b[43mb\u001b[49m\u001b[43m)\u001b[49m\n\u001b[1;32m      5\u001b[0m \u001b[38;5;66;03m# Print the solution and convergence information\u001b[39;00m\n\u001b[1;32m      6\u001b[0m \u001b[38;5;28mprint\u001b[39m(\u001b[38;5;124m\"\u001b[39m\u001b[38;5;124mCG Solution:\u001b[39m\u001b[38;5;124m\"\u001b[39m, cg_solution)\n",
      "Cell \u001b[0;32mIn[7], line 9\u001b[0m, in \u001b[0;36mCGMatrixSolver.solve\u001b[0;34m(self, matrix, rhs, preconditioner)\u001b[0m\n\u001b[1;32m      7\u001b[0m \u001b[38;5;28;01mdef\u001b[39;00m \u001b[38;5;21msolve\u001b[39m(\u001b[38;5;28mself\u001b[39m, matrix, rhs, preconditioner\u001b[38;5;241m=\u001b[39m\u001b[38;5;28;01mNone\u001b[39;00m):\n\u001b[1;32m      8\u001b[0m     M \u001b[38;5;241m=\u001b[39m preconditioner \u001b[38;5;28;01mif\u001b[39;00m preconditioner \u001b[38;5;129;01mis\u001b[39;00m \u001b[38;5;129;01mnot\u001b[39;00m \u001b[38;5;28;01mNone\u001b[39;00m \u001b[38;5;28;01melse\u001b[39;00m \u001b[38;5;28;01mNone\u001b[39;00m\n\u001b[0;32m----> 9\u001b[0m     result, info \u001b[38;5;241m=\u001b[39m \u001b[43mcg\u001b[49m\u001b[43m(\u001b[49m\u001b[43mmatrix\u001b[49m\u001b[43m,\u001b[49m\u001b[43m \u001b[49m\u001b[43mrhs\u001b[49m\u001b[43m,\u001b[49m\u001b[43m \u001b[49m\u001b[43mtol\u001b[49m\u001b[38;5;241;43m=\u001b[39;49m\u001b[38;5;28;43mself\u001b[39;49m\u001b[38;5;241;43m.\u001b[39;49m\u001b[43mtol\u001b[49m\u001b[43m,\u001b[49m\u001b[43m \u001b[49m\u001b[43mmaxiter\u001b[49m\u001b[38;5;241;43m=\u001b[39;49m\u001b[38;5;28;43mself\u001b[39;49m\u001b[38;5;241;43m.\u001b[39;49m\u001b[43mmaxiter\u001b[49m\u001b[43m,\u001b[49m\u001b[43m \u001b[49m\u001b[43mM\u001b[49m\u001b[38;5;241;43m=\u001b[39;49m\u001b[43mM\u001b[49m\u001b[43m)\u001b[49m\n\u001b[1;32m     10\u001b[0m     \u001b[38;5;28;01mreturn\u001b[39;00m result, info\n",
      "\u001b[0;31mTypeError\u001b[0m: cg() got an unexpected keyword argument 'tol'"
     ]
    }
   ],
   "source": [
    "# Instantiate and solve using the CG solver\n",
    "cg_solver = CGMatrixSolver(tol=1e-5, maxiter=100)\n",
    "cg_solution, cg_info = cg_solver.solve(A, b)\n",
    "\n",
    "# Print the solution and convergence information\n",
    "print(\"CG Solution:\", cg_solution)\n",
    "print(\"Convergence info (0 means successful):\", cg_info)\n"
   ]
  },
  {
   "cell_type": "markdown",
   "metadata": {},
   "source": [
    "### Solve Using BiConjugate Gradient Stabilized (BICGSTAB) Solver\n",
    "\n",
    "The BICGSTAB solver is suitable for general matrices, including nonsymmetric ones."
   ]
  },
  {
   "cell_type": "code",
   "execution_count": null,
   "metadata": {},
   "outputs": [],
   "source": [
    "# Instantiate and solve using the BICGSTAB solver\n",
    "bicgstab_solver = BICGSTABMatrixSolver(tol=1e-5, maxiter=100)\n",
    "bicgstab_solution, bicgstab_info = bicgstab_solver.solve(A, b)\n",
    "\n",
    "# Print the solution and convergence information\n",
    "print(\"BICGSTAB Solution:\", bicgstab_solution)\n",
    "print(\"Convergence info (0 means successful):\", bicgstab_info)\n"
   ]
  },
  {
   "cell_type": "markdown",
   "metadata": {},
   "source": [
    "### Solve Using Generalized Minimal Residual (GMRES) Solver\n",
    "\n",
    "The GMRES solver is another method suitable for general matrices, especially for non-symmetric linear systems."
   ]
  },
  {
   "cell_type": "code",
   "execution_count": null,
   "metadata": {},
   "outputs": [],
   "source": [
    "# Instantiate and solve using the GMRES solver\n",
    "gmres_solver = GMRESMatrixSolver(tol=1e-5, maxiter=100)\n",
    "gmres_solution, gmres_info = gmres_solver.solve(A, b)\n",
    "\n",
    "# Print the solution and convergence information\n",
    "print(\"GMRES Solution:\", gmres_solution)\n",
    "print(\"Convergence info (0 means successful):\", gmres_info)"
   ]
  },
  {
   "cell_type": "markdown",
   "metadata": {},
   "source": [
    "### Visualize Solutions\n",
    "Let's plot the solutions obtained by each solver."
   ]
  },
  {
   "cell_type": "code",
   "execution_count": null,
   "metadata": {},
   "outputs": [],
   "source": [
    "# Plot solutions for comparison\n",
    "plt.figure(figsize=(10, 6))\n",
    "plt.plot(cg_solution, 'o-', label='CG Solution')\n",
    "plt.plot(bicgstab_solution, 's-', label='BICGSTAB Solution')\n",
    "plt.plot(gmres_solution, '^-', label='GMRES Solution')\n",
    "plt.xlabel(\"Index\")\n",
    "plt.ylabel(\"Solution Value\")\n",
    "plt.title(\"Comparison of Solutions from Different Solvers\")\n",
    "plt.legend()\n",
    "plt.show()"
   ]
  },
  {
   "cell_type": "markdown",
   "metadata": {},
   "source": [
    "### Summary\n",
    "\n",
    "- The **Conjugate Gradient (CG)** solver is effective for symmetric positive-definite matrices and converged to a solution.\n",
    "- The **BiConjugate Gradient Stabilized (BICGSTAB)** and **GMRES** solvers work on general linear systems and provided similar solutions in this case.\n",
    "- The plot illustrates the solutions obtained by each solver, demonstrating that all methods converged to a similar solution for this test problem."
   ]
  }
 ],
 "metadata": {
  "kernelspec": {
   "display_name": "inferences",
   "language": "python",
   "name": "python3"
  },
  "language_info": {
   "codemirror_mode": {
    "name": "ipython",
    "version": 3
   },
   "file_extension": ".py",
   "mimetype": "text/x-python",
   "name": "python",
   "nbconvert_exporter": "python",
   "pygments_lexer": "ipython3",
   "version": "3.12.7"
  }
 },
 "nbformat": 4,
 "nbformat_minor": 5
}
