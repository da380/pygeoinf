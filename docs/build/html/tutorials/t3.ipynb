{
 "cells": [
  {
   "cell_type": "code",
   "execution_count": 1,
   "id": "eaa9770a",
   "metadata": {},
   "outputs": [],
   "source": [
    "# Uncomment and run this when using colab. \n",
    "#%pip install pygeoinf"
   ]
  },
  {
   "cell_type": "markdown",
   "id": "5383e00d",
   "metadata": {},
   "source": [
    "# Tutorial 3 - Dual spaces\n",
    "\n",
    "The dual, $X'$, of a Hilbert space, $X$, is the set of all continuous linear functional on $E$. The Riesz representation theorem states that every Hilbert space is isometrically isomorphic to its dual. This means that there is a continuous linear mapping,  $J_{X}\\in \\mathrm{Hom}(X',X)$, such that\n",
    "$$\n",
    "\\langle u',u \\rangle = (J_{X}u', u)_{X}, \n",
    "$$\n",
    "for every $u' \\in X'$ and $u \\in X$ while also $\\|u'\\|_{X'} = \\|J_{X}u'\\|_{X}$. Within this tutorial we will look at the ```LinearForm``` class that is used to define dual vectors for a given ```HilbertSpace```. We will also see that each ```HilbertSpace``` can automatically generate its dual space. Each ```HilbertSpace``` also provides the mappings to and from its dual as defined through the Riesz representation theorem. \n",
    "\n",
    "### The ```LinearForm``` class\n",
    "\n",
    "To begin, we use ```Euclideanspace``` as an example. Construction of a ```LinearForm``` can be done by specifying its action on a vector. In the example below, we define a linear form that maps a vector in ```X``` to the value of its zeroth-component. "
   ]
  },
  {
   "cell_type": "code",
   "execution_count": 2,
   "id": "b80f4f6a",
   "metadata": {},
   "outputs": [
    {
     "name": "stdout",
     "output_type": "stream",
     "text": [
      "x      =  [ 0.04388682  0.80789837  0.49392391  0.38373418 -1.12005244]\n",
      "<xp,x> =  0.04388681882524307\n"
     ]
    }
   ],
   "source": [
    "# Set up the space. \n",
    "from pygeoinf import EuclideanSpace, LinearForm\n",
    "X = EuclideanSpace(5)\n",
    "\n",
    "# Define the linear form in terms of its mapping. \n",
    "xp = LinearForm(X, mapping=lambda x : x[0])\n",
    "\n",
    "# Test its action on a random vector. \n",
    "x = X.random()\n",
    "print(f\"x      =  {x}\")\n",
    "print(f\"<xp,x> =  {xp(x)}\")"
   ]
  },
  {
   "cell_type": "markdown",
   "id": "173362ec",
   "metadata": {},
   "source": [
    "Note that the action of a ```LinearForm``` on a vector is through the object's ```__call__``` method. There is no check within the class that the mapping asigned to a ```LinearForm``` is well-defined, but in a later tutorial we show how this can be done. \n",
    "\n",
    "Recall that each ```HilbertSpace``` is associated with a mapping from a vector to its components. We shall write this mapping as $P_{X} \\in \\mathrm{Hom}(X,\\mathbb{R}^{n})$ where $n$ is the dimension of the space. The inverse mapping from a components into the space is then written \n",
    "$I_{X}(\\mathbb{R}^{n}, x)$. Within this notation we can see $P_{X}$ has standing for a co-ordinate **projection** while $I_{X}$ is a co-ordinate **inclusion**. These mappings induce corresponding co-ordinate mappings on  the dual space. The co-ordinate projection and inclusion, $P_{X'}$ and $I_{X'}$, on the dual space are defined such that for any $x'\\in X'$ and $\\mathbf{x} \\in \\mathbb{R}^{n}$ we have \n",
    "$$\n",
    "\\langle x', I_{X}\\mathbf{x} \\rangle = (P_{X'}x', \\mathbf{x})_{\\mathbb{R}^{n}}\n",
    "$$\n",
    "while for $\\mathbf{x}' \\in \\mathbb{R}^{n}$ and $x \\in X$\n",
    "$$\n",
    "\\langle I_{X'}\\mathbf{x}', x \\rangle = (\\mathbf{x}', P_{X}x)_{\\mathbb{R}^{n}}.\n",
    "$$\n",
    "\n",
    "\n",
    "In the code below, we see that a ```LinearForm``` can be defined directly in terms of its components:"
   ]
  },
  {
   "cell_type": "code",
   "execution_count": 3,
   "id": "19087865",
   "metadata": {},
   "outputs": [
    {
     "name": "stdout",
     "output_type": "stream",
     "text": [
      "x      =  [-0.621658    0.7811031   0.30798937  1.33008542 -1.03973981]\n",
      "<xp,x> =  -0.6216580043508921\n"
     ]
    }
   ],
   "source": [
    "import numpy as np\n",
    "\n",
    "# Set the component vector. \n",
    "cp = np.zeros(X.dim)\n",
    "cp[0] = 1\n",
    "\n",
    "# Define the linear form\n",
    "xp = LinearForm(X, components=cp)\n",
    "\n",
    "# Test its action on a random vector. \n",
    "x = X.random()\n",
    "print(f\"x      =  {x}\")\n",
    "print(f\"<xp,x> =  {xp(x)}\")\n"
   ]
  },
  {
   "cell_type": "markdown",
   "id": "7f5a503d",
   "metadata": {},
   "source": [
    "The components of a form can be accessed through its ```components``` property:"
   ]
  },
  {
   "cell_type": "code",
   "execution_count": 4,
   "id": "fe8a2ded",
   "metadata": {},
   "outputs": [
    {
     "name": "stdout",
     "output_type": "stream",
     "text": [
      "The components of the linear form are: [1. 0. 0. 0. 0.]\n"
     ]
    }
   ],
   "source": [
    "print(f'The components of the linear form are: {xp.components}')"
   ]
  },
  {
   "cell_type": "markdown",
   "id": "e725cef7",
   "metadata": {},
   "source": [
    "We can also call ```print``` directly on a ```LinearForm``` with the result being that its components are printed:"
   ]
  },
  {
   "cell_type": "code",
   "execution_count": 5,
   "id": "a7275748",
   "metadata": {},
   "outputs": [
    {
     "name": "stdout",
     "output_type": "stream",
     "text": [
      "The components of the form are: [1. 0. 0. 0. 0.]\n"
     ]
    }
   ],
   "source": [
    "print(f'The components of the form are: {xp}')"
   ]
  },
  {
   "cell_type": "markdown",
   "id": "4e5958eb",
   "metadata": {},
   "source": [
    "Linear forms over a Hilbert space form a vector space in a natural way. This is implemented in ```LinearForm``` through suitable overloads:"
   ]
  },
  {
   "cell_type": "code",
   "execution_count": 6,
   "id": "df7509f5",
   "metadata": {},
   "outputs": [
    {
     "name": "stdout",
     "output_type": "stream",
     "text": [
      "<xp1, x>              = -0.5463755034742701\n",
      "<xp2, x>              = -2.5448648979535577\n",
      "<4 xp1 - xp2, x>      = -1.6765290343063692\n",
      "4 <xp1, x> - <xp2, x> = -1.6765290343063688\n"
     ]
    }
   ],
   "source": [
    "# Define two linear forms\n",
    "xp1 = LinearForm(X, mapping= lambda x : x[0])\n",
    "xp2 = LinearForm(X, mapping= lambda x : sum(x))\n",
    "\n",
    "# Print their action on a random vector. \n",
    "x = X.random()\n",
    "a1 = xp1(x)\n",
    "a2 = xp2(x)\n",
    "print(f'<xp1, x>              = {a1}')\n",
    "print(f'<xp2, x>              = {a2}')\n",
    "\n",
    "# Form a linear combination of the forms\n",
    "xp3 = 4 * xp1 - xp2 / 5\n",
    "a3 = 4 * a1 - a2 / 5\n",
    "print(f\"<4 xp1 - xp2, x>      = {xp3(x)}\")\n",
    "print(f\"4 <xp1, x> - <xp2, x> = {a3}\")"
   ]
  },
  {
   "cell_type": "markdown",
   "id": "9eee29f3",
   "metadata": {},
   "source": [
    "Algebriac combinations of forms is generally done lazily. If, however, all the forms involved have their components stored, the components of the new form are determined explicitly which can aid with computational efficiency. "
   ]
  },
  {
   "cell_type": "markdown",
   "id": "b7a87591",
   "metadata": {},
   "source": [
    "We can similarly define instances of ```LinearForm``` on more complicated ```HilbertSpaces```. Here we set of an instance of the Sobolev space $H^{s}(\\mathbb{S}^{1})$ for $s > 0.5$  and define a linear form that maps a function to its value at a point within the numerical grid. That this linear form is well-defined is discussed below. "
   ]
  },
  {
   "cell_type": "code",
   "execution_count": 7,
   "id": "8a25fa28",
   "metadata": {},
   "outputs": [
    {
     "name": "stdout",
     "output_type": "stream",
     "text": [
      "<vp,u>  = 0.0015629807833259259\n",
      "u(th)   = 0.0015629807833258728\n"
     ]
    }
   ],
   "source": [
    "# Construct a Sobolev space on the unit circle. \n",
    "from pygeoinf.symmetric_space.circle import  Sobolev\n",
    "Y = Sobolev.from_sobolev_parameters(2, 0.05)\n",
    "\n",
    "# Set up a linear form that evaluates the function at\n",
    "#  a specified grid point. \n",
    "i = Y.dim // 4\n",
    "th = Y.angles()[i]\n",
    "\n",
    "vp = LinearForm(Y, mapping=lambda u : u[i])\n",
    "\n",
    "# Define a function. \n",
    "f = lambda th :  np.cos(th)\n",
    "u = Y.project_function(f)\n",
    "\n",
    "# Print the action of the form and the corresponding function value. \n",
    "print(f'<vp,u>  = {vp(u)}')\n",
    "print(f'u(th)   = {f(th)}')"
   ]
  },
  {
   "cell_type": "markdown",
   "id": "aa63b2cb",
   "metadata": {},
   "source": [
    "## The dual of a ```HilbertSpace```\n",
    "\n",
    "For each ```HilbertSpace``` there is a corresponding dual space which is another instance of ```HilbertSpace```. This can be generated using the ```dual``` property. This is illustrated below:"
   ]
  },
  {
   "cell_type": "code",
   "execution_count": 8,
   "id": "57b4f84d",
   "metadata": {},
   "outputs": [
    {
     "name": "stdout",
     "output_type": "stream",
     "text": [
      "The dimension of the dual space is 5\n",
      "The linear form has components [ 2.  0. -1.  0.  0.]\n",
      "The linear form has norm: 2.23606797749979\n"
     ]
    }
   ],
   "source": [
    "# Form the dual space. \n",
    "Xp = X.dual\n",
    "print(f\"The dimension of the dual space is {Xp.dim}\")\n",
    "\n",
    "# Define a linear form an get its components. \n",
    "xp = LinearForm(X, mapping=lambda x : 2 * x[0] - x[2])\n",
    "cp = X.to_components(xp)\n",
    "print(f\"The linear form has components {cp}\")\n",
    "\n",
    "# Print the norm of the linear form. \n",
    "print(f\"The linear form has norm: {Xp.norm(xp)}\")\n",
    "\n",
    "\n",
    "\n",
    "\n",
    "\n"
   ]
  },
  {
   "cell_type": "markdown",
   "id": "04f5df00",
   "metadata": {},
   "source": [
    "Each ```HilbertSpace``` can map between itself and its dual space using the ```from_dual``` and ```to_dual``` methods. These mappings for a Hilbert space, $X$, are implementation of the operator $J_{X} \\in \\mathrm{Hom}(X',X)$  and its inverse. In the case of ```EuclideanSpace``` these mappings are *almost* trivial, with a vector and the corresponding form having identical components. But note that the vector and the corresponding dual vector are still different kinds of object. "
   ]
  },
  {
   "cell_type": "code",
   "execution_count": 9,
   "id": "baf3d50d",
   "metadata": {},
   "outputs": [
    {
     "name": "stdout",
     "output_type": "stream",
     "text": [
      "x      = [ 0.1680331  -1.25345309 -1.4820198  -0.02613382 -0.14268024]\n",
      "yp     = [-0.25107731 -0.02923271  1.60879873 -0.08422208 -0.15520114]\n",
      "<yp,x> = -2.3654738583602257\n",
      "(y,x)  = -2.3654738583602257\n",
      "||yp|| =  1.638080727089822\n",
      "||y||  =  1.638080727089822\n"
     ]
    }
   ],
   "source": [
    "# Generate a random vector and dual vector\n",
    "x = X.random()\n",
    "yp = X.dual.random()\n",
    "\n",
    "print(f'x      = {x}')\n",
    "print(f'yp     = {yp}')\n",
    "\n",
    "# Print the value of the dual pairing.\n",
    "print(f'<yp,x> = {yp(x)}')\n",
    "\n",
    "# Map the dual vector to X. \n",
    "y = X.from_dual(yp)\n",
    "\n",
    "# Print the inner product of y and x. \n",
    "print(f'(y,x)  = {X.inner_product(y,x)}')\n",
    "\n",
    "# Print the dual norm and that of its representation. \n",
    "print(f'||yp|| =  {Xp.norm(yp)}')\n",
    "print(f'||y||  =  {X.norm(y)}')"
   ]
  },
  {
   "cell_type": "markdown",
   "id": "4fc56414",
   "metadata": {},
   "source": [
    "In more complicated Hilbert spaces the mappings to and from the dual space are more involved. For example, in $H^{s}(\\mathbb{S}^{1})$ it can be shown that \n",
    "$$\n",
    "H^{s}(\\mathbb{S}^{1})' \\cong H^{-s}(\\mathbb{S}^{1}), \n",
    "$$\n",
    "in terms of which the necessary mapping from $H^{s}(\\mathbb{S}^{1})'$ to $H^{s}(\\mathbb{S}^{1})$ can be written\n",
    "$$\n",
    "J_{H^{s}(\\mathbb{S}^{1})} = (1+\\lambda^{2}\\Delta)^{-s}.\n",
    "$$\n",
    "A further key property of this space is that when $s > 1/2 + k$ we have the continuous embedding\n",
    "$$\n",
    "H^{s}(\\mathbb{S}^{1}) \\subseteq C^{k}(\\mathbb{S}^{1}).\n",
    "$$\n",
    "This means that  point evaluation defines a continuous linear form on this space so long as  $s > 0.5$. This justifies our definition of the form ```vp``` above, and we can plot its representation as follows:\n"
   ]
  },
  {
   "cell_type": "code",
   "execution_count": 10,
   "id": "96a8d348",
   "metadata": {},
   "outputs": [
    {
     "data": {
      "image/png": "[encoded data removed]",
      "text/plain": [
       "<Figure size 1000x800 with 1 Axes>"
      ]
     },
     "metadata": {},
     "output_type": "display_data"
    },
    {
     "name": "stdout",
     "output_type": "stream",
     "text": [
      "<vp,u> = 0.0015629807833259259\n",
      "(v,u)  = 0.0015629807833259643\n"
     ]
    }
   ],
   "source": [
    "import matplotlib.pyplot as plt\n",
    "\n",
    "# Convert the linear form to the space and plot its form. \n",
    "v = Y.from_dual(vp)\n",
    "Y.plot(v)\n",
    "plt.show()\n",
    "\n",
    "# Check that the vector does the right thing. \n",
    "print(f'<vp,u> = {vp(u)}')\n",
    "print(f'(v,u)  = {Y.inner_product(v,u)}')\n"
   ]
  },
  {
   "cell_type": "markdown",
   "id": "18e863e6",
   "metadata": {},
   "source": [
    "The Dirac measure, $\\delta_{\\theta}$, occurs frequently in applications and so it has been implemented directly within ```Sobolev```:"
   ]
  },
  {
   "cell_type": "code",
   "execution_count": 11,
   "id": "0254f65c",
   "metadata": {},
   "outputs": [
    {
     "data": {
      "image/png": "[encoded data removed]",
      "text/plain": [
       "<Figure size 640x480 with 1 Axes>"
      ]
     },
     "metadata": {},
     "output_type": "display_data"
    }
   ],
   "source": [
    "# Set the base point\n",
    "th = 1\n",
    "\n",
    "# Get the Dirac measure\n",
    "vp = Y.dirac(th)\n",
    "\n",
    "# Form its representation. \n",
    "v = Y.from_dual(vp)\n",
    "\n",
    "# This can also be done directly. \n",
    "w = Y.dirac_representation(th)\n",
    "\n",
    "# Plot both\n",
    "fig, ax = plt.subplots()\n",
    "Y.plot(v, fig=fig, ax=ax, color = 'b')\n",
    "Y.plot(w, fig=fig, ax=ax, color = 'r', linestyle=\"--\")\n",
    "plt.show()"
   ]
  },
  {
   "cell_type": "markdown",
   "id": "dd8e7960",
   "metadata": {},
   "source": [
    "Within the previous tutorial, we noted that the static method ```from_sobolev_parameters``` required $s>0.5$. The reason is that this method chooses $k_{\\mathrm{max}}$ based on an error estimate linked to the representation of the Dirac measure. \n",
    "\n",
    "### Double duals\n",
    "\n",
    "If $X$ is a Hilbert space and $X'$ its dual, we can also form the double dual $X''$. Strictly, $X$ and $X''$ are not the same objects, but they are canonically isomorphic. Within the ```HilbertSpace``` class, however, the dual of a dual space is set equal to the orignal space. \n",
    "\n",
    "This is seen below. "
   ]
  },
  {
   "cell_type": "code",
   "execution_count": 12,
   "id": "7c216477",
   "metadata": {},
   "outputs": [
    {
     "name": "stdout",
     "output_type": "stream",
     "text": [
      "True\n",
      "True\n"
     ]
    }
   ],
   "source": [
    "print(X == X.dual.dual)\n",
    "print(Y == Y.dual.dual)"
   ]
  },
  {
   "cell_type": "markdown",
   "id": "44b170cd",
   "metadata": {},
   "source": [
    "### Constructing ```EuclideanSpace```"
   ]
  },
  {
   "cell_type": "markdown",
   "id": "29e6e0a1",
   "metadata": {},
   "source": [
    "Having now introduced dual spaces, we can explain in full detail how the ```EuclideanSpace``` class is implemented, this forming a model for the implementation fo any other ```HilbertSpace```. \n",
    "\n",
    "The first point to note is that ```HilbertSpaces``` are not meant to be constructed directly. Rather, the intention is that new classes are defined that inherit from ```HilbertSpace```. This is due to an apparent circularity in the definition of a ```HilbertSpace``` class. To construct a ```HilbertSpace``` we need to provide the ```from_dual``` and ```to_dual``` mappings. But ```LinearForms``` cannot be constructed until the space is already set up. By, however, inheriting from ```HilbertSpace``` within a new class, we can insure that the space can be refered to in its methods, and that these methods cannot be called until the class has been set up. Below we see the implementation of ```EuclideanSpace``` from within the ```pygeoinf``` library. The ```to_component``` and ```from_component``` mappings are trivial, as noted above. Lastly, the mappings ```from_dual``` and ```to_dual``` are very simple, just reflecting the fact that the components of a dual vector and its representation are equal. Note that the inner product is determined internally using the ```to_dual``` mapping. \n",
    "\n",
    "\n",
    "```python\n",
    "class EuclideanSpace(HilbertSpace):\n",
    "    \"\"\"\n",
    "    An n-dimensional Euclidean space, R^n.\n",
    "\n",
    "    This is a concrete implementation of HilbertSpace where vectors are\n",
    "    represented directly by NumPy arrays.\n",
    "    \"\"\"\n",
    "\n",
    "    def __init__(self, dim: int) -> None:\n",
    "        \"\"\"\n",
    "        Args:\n",
    "            dim (int): Dimension of the space.\n",
    "        \"\"\"\n",
    "        super().__init__(\n",
    "            dim,\n",
    "            lambda x: x,\n",
    "            lambda x: x,\n",
    "            self._to_dual_impl,\n",
    "            self._from_dual_impl,\n",
    "        )\n",
    "\n",
    "    def _to_dual_impl(self, x: np.ndarray) -> LinearForm:\n",
    "        return self.dual.from_components(x)\n",
    "\n",
    "    def _from_dual_impl(self, xp: LinearForm) -> np.ndarray:\n",
    "        cp = self.dual.to_components(xp)\n",
    "        return self.from_components(cp)\n",
    "\n",
    "    def __eq__(self, other: object) -> bool:\n",
    "        \"\"\"Checks for equality with another EuclideanSpace.\"\"\"\n",
    "        return isinstance(other, EuclideanSpace) and self.dim == other.dim\n",
    "```\n",
    "\n",
    "To illustrate the contruction of new ```HilbertSpaces``` further, we can generalise Euclidean space by using an inner product of the form\n",
    "$$\n",
    "(x,y)_{X} = (M x, y)_{\\mathbb{R}^{n}}, \n",
    "$$\n",
    "with $M$ a symmetric matrix and we call the **metric** for the generalised Euclidean space. In this case, the components of a dual vector and its representation are not equal, but related through the action of the inverse metric. The code below implements such a space and checks that the to and from dual mappings work as they should. "
   ]
  },
  {
   "cell_type": "code",
   "execution_count": 13,
   "id": "ab0a78f9",
   "metadata": {},
   "outputs": [
    {
     "name": "stdout",
     "output_type": "stream",
     "text": [
      "The metric is:\n",
      " [[  6.72970833 -10.30815292  -3.73970333   3.92085708]\n",
      " [-10.30815292  35.5580565    5.13660413 -21.50307659]\n",
      " [ -3.73970333   5.13660413  12.33759879 -10.18498392]\n",
      " [  3.92085708 -21.50307659 -10.18498392  30.35892642]]\n",
      "x      = [-2.20163386 -0.99411176  1.99211338 -0.20871871]\n",
      "y      = [ 1.80526181 -0.88838663  0.14218069 -0.44965178]\n",
      "(x,y)  = -14.527237948999378\n",
      "xp     = [-12.83716703   2.06688879  29.83079131 -13.88194925]\n",
      "<xp,y> = -14.527237948999378\n",
      "zp     = [-0.72228526 -0.12056812  0.06306008  0.54996723]\n",
      "<zp,y> = -1.435130705483572\n",
      "z      = [-0.26208832 -0.0904634  -0.0645403  -0.0337629 ]\n",
      "(z,y)  = -1.435130705483572\n"
     ]
    }
   ],
   "source": [
    "from scipy.linalg import cho_factor, cho_solve\n",
    "from pygeoinf import  HilbertSpace\n",
    "\n",
    "class GeneralisedEuclideanSpace(HilbertSpace):\n",
    "    \"\"\"\n",
    "    Class for a generalised Euclidean space whose inner\n",
    "    product is defined by a metric tensor. \n",
    "    \"\"\"\n",
    "\n",
    "    def __init__(self, dim, metric, /, *, inverse_metric=None):\n",
    "        \"\"\"\n",
    "        Args:\n",
    "            dim (int): Dimension of the space. \n",
    "            metric (matrix-like): The metric tensor. \n",
    "        \"\"\"        \n",
    "        self._metric = metric\n",
    "        self._factor = cho_factor(metric)                        \n",
    "        super().__init__(\n",
    "            dim, \n",
    "            lambda x: x, \n",
    "            lambda x: x,               \n",
    "            self._to_dual, \n",
    "            self._from_dual\n",
    "        )\n",
    "    \n",
    "\n",
    "    def _from_dual(self, xp):\n",
    "        cp = self.dual.to_components(xp)\n",
    "        c = cho_solve(self._factor, cp)        \n",
    "        return self.from_components(c)\n",
    "\n",
    "    def _to_dual(self, x):\n",
    "        cp = self._metric @ x\n",
    "        return self.dual.from_components(cp)\n",
    "\n",
    "\n",
    "# Set the dimension of the space. \n",
    "dim = 4\n",
    "\n",
    "# Generate a metric tensor as a self-adjoint matrix. \n",
    "metric = np.random.randn(dim, dim)\n",
    "metric = np.identity(dim) + 5 * metric @ metric.T\n",
    "\n",
    "print(f'The metric is:\\n {metric}')\n",
    "\n",
    "# Construct the Hilbert space. \n",
    "X = GeneralisedEuclideanSpace(dim, metric)\n",
    "\n",
    "# Test the basic identities on random vectors. \n",
    "x = X.random()\n",
    "y = X.random()\n",
    "\n",
    "print(f'x      = {x}')\n",
    "print(f'y      = {y}')\n",
    "print(f'(x,y)  = {X.inner_product(x,y)}')\n",
    "\n",
    "xp = X.to_dual(x)\n",
    "print(f'xp     = {xp}')\n",
    "print(f'<xp,y> = {xp(y)}')\n",
    "\n",
    "zp = X.dual.random()\n",
    "print(f'zp     = {zp}')\n",
    "print(f'<zp,y> = {zp(y)}')\n",
    "z = X.from_dual(zp)\n",
    "print(f'z      = {z}')\n",
    "print(f'(z,y)  = {X.inner_product(z,y)}')"
   ]
  },
  {
   "cell_type": "markdown",
   "id": "4b8f3eca",
   "metadata": {},
   "source": [
    "The implementation could be improved in various ways. We might, for example, allow the metric to be given in a more general form (e.g., as a ```scipy.sparse``` ```LinearOperator```) and its inverse computed using iterative methods. We might also allow the user to optionally provide the inverse metric directly. Such steps would be particularly useful if the dimension of the space is large. "
   ]
  }
 ],
 "metadata": {
  "kernelspec": {
   "display_name": "pygeoinf-0ZCu7S8P-py3.11",
   "language": "python",
   "name": "python3"
  },
  "language_info": {
   "codemirror_mode": {
    "name": "ipython",
    "version": 3
   },
   "file_extension": ".py",
   "mimetype": "text/x-python",
   "name": "python",
   "nbconvert_exporter": "python",
   "pygments_lexer": "ipython3",
   "version": "3.11.6"
  }
 },
 "nbformat": 4,
 "nbformat_minor": 5
}
