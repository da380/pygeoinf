{
 "cells": [
  {
   "cell_type": "markdown",
   "id": "1ee17ef3",
   "metadata": {},
   "source": [
    "# Tutorial 5: Solving Linear Systems\n",
    "\n",
    "In previous tutorials, we've built `HilbertSpace`s and the `LinearOperator`s that act on them. Now, we'll focus on the final piece of the puzzle: solving linear systems. The `linear_solvers` module provides a unified interface for inverting `LinearOperator`s.\n",
    "\n",
    "### The Solver Design\n",
    "\n",
    "The solvers in this library are designed as callable classes. You first create an instance of a solver (e.g., `CholeskySolver`), and then you call that instance with the operator you want to invert. The result is a *new* `LinearOperator` that represents the inverse of the original.\n",
    "\n",
    "`A_inv = solver(A)`\n",
    "\n",
    "This \"functional\" approach is very flexible and fits well with the operator algebra.\n",
    "\n",
    "In this tutorial, we will:\n",
    "1.  Set up a simple linear system in `EuclideanSpace`.\n",
    "2.  Solve it using a **direct solver** (`CholeskySolver`).\n",
    "3.  Solve it again using an **iterative solver** (`CGSolver`).\n",
    "4.  Discuss when to choose each type of solver.\n",
    "5.  Demonstrate how **preconditioning** can accelerate iterative solvers."
   ]
  },
  {
   "cell_type": "code",
   "execution_count": null,
   "id": "9fc53446",
   "metadata": {},
   "outputs": [],
   "source": [
    "# To run in colab, uncomment the line below to install pygeoinf. \n",
    "#%pip install pygeoinf --quiet\n",
    "\n",
    "import numpy as np\n",
    "import time\n",
    "import pygeoinf as inf\n",
    "\n",
    "\n",
    "# For reproducibility\n",
    "np.random.seed(0)"
   ]
  },
  {
   "cell_type": "markdown",
   "id": "60c6c8b0",
   "metadata": {},
   "source": [
    "## 1. Setting up a Linear System\n",
    "\n",
    "Let's create a simple, well-posed linear system to solve. We'll define a positive-definite symmetric operator `A` and a right-hand-side vector `y`. Our goal is to find the vector `x` such that `A(x) = y`."
   ]
  },
  {
   "cell_type": "code",
   "execution_count": null,
   "id": "ecac62a7",
   "metadata": {},
   "outputs": [],
   "source": [
    "# Create a 100-dimensional space\n",
    "space = inf.EuclideanSpace(100)\n",
    "\n",
    "# Create a symmetric, positive-definite matrix for our operator\n",
    "M = np.random.randn(100, 100)\n",
    "M_symm = M @ M.T + 0.1 * np.identity(100) # Ensure it's positive-definite\n",
    "\n",
    "# Create the LinearOperator\n",
    "A = inf.LinearOperator.from_matrix(space, space, M_symm, galerkin=True)\n",
    "\n",
    "# Create a \"true\" solution x_true and compute the right-hand-side y\n",
    "x_true = space.random()\n",
    "y = A(x_true)\n",
    "\n",
    "print(f\"Setup complete. We will solve for x in A(x) = y.\")"
   ]
  },
  {
   "cell_type": "markdown",
   "id": "fe8105ae",
   "metadata": {},
   "source": [
    "## 2. Direct Solvers\n",
    "\n",
    "Direct solvers, like `LUSolver` or `CholeskySolver`, work by first factorizing the matrix representation of the operator (e.g., into lower and upper triangular matrices) and then solving the system via substitution.\n",
    "\n",
    "* **Pros:** They are exact (to machine precision) and very robust.\n",
    "* **Cons:** They require forming and storing the entire matrix, which can be prohibitively slow and memory-intensive for large problems.\n",
    "\n",
    "The `CholeskySolver` is an excellent choice for symmetric, positive-definite operators."
   ]
  },
  {
   "cell_type": "code",
   "execution_count": null,
   "id": "b832cd6c",
   "metadata": {},
   "outputs": [],
   "source": [
    "# 1. Create an instance of the solver\n",
    "cholesky_solver = inf.CholeskySolver(galerkin=True)\n",
    "\n",
    "# 2. Call the solver on the operator to get its inverse\n",
    "A_inv_direct = cholesky_solver(A)\n",
    "\n",
    "# 3. Apply the inverse operator to y to find the solution x\n",
    "start_time = time.time()\n",
    "x_direct = A_inv_direct(y)\n",
    "end_time = time.time()\n",
    "\n",
    "print(f\"Direct solve took: {end_time - start_time:.6f} seconds.\")\n",
    "error_direct = space.norm(space.subtract(x_direct, x_true))\n",
    "print(f\"Error in direct solution: {error_direct:.2e}\")"
   ]
  },
  {
   "cell_type": "markdown",
   "id": "52a23bd5",
   "metadata": {},
   "source": [
    "## 3. Iterative Solvers\n",
    "\n",
    "Iterative solvers, like `CGSolver` (Conjugate Gradient), start with an initial guess and progressively refine the solution in a series of steps until a desired tolerance is met.\n",
    "\n",
    "* **Pros:** They do not require the matrix to be stored explicitly; they only need the *action* of the operator on a vector. This makes them extremely efficient in terms of memory for very large problems.\n",
    "* **Cons:** They are approximate and their performance can depend heavily on the properties of the operator (its \"condition number\").\n",
    "\n",
    "The `CGSolver` is a matrix-free implementation of Conjugate Gradient, suitable for self-adjoint operators."
   ]
  },
  {
   "cell_type": "code",
   "execution_count": null,
   "id": "696e983e",
   "metadata": {},
   "outputs": [],
   "source": [
    "# 1. Create an instance of the solver with a desired tolerance\n",
    "cg_solver = inf.CGSolver(rtol=1e-9)\n",
    "\n",
    "# 2. Get the inverse operator\n",
    "A_inv_iterative = cg_solver(A)\n",
    "\n",
    "# 3. Apply the inverse to solve for x\n",
    "start_time = time.time()\n",
    "x_iterative = A_inv_iterative(y)\n",
    "end_time = time.time()\n",
    "\n",
    "print(f\"Iterative solve took: {end_time - start_time:.6f} seconds.\")\n",
    "error_iterative = space.norm(space.subtract(x_iterative, x_true))\n",
    "print(f\"Error in iterative solution: {error_iterative:.2e}\")"
   ]
  },
  {
   "cell_type": "markdown",
   "id": "c125c075",
   "metadata": {},
   "source": [
    "## 4. Choosing the Right Solver\n",
    "\n",
    "The choice of solver is a practical trade-off:\n",
    "\n",
    "* For **small to medium-sized problems** (e.g., dimensions up to a few thousand), a **direct solver** is often the best choice. It's robust, easy to use, and often faster because the overhead of factorizing the matrix is less than the cost of many iterations.\n",
    "* For **large-scale problems** (e.g., function spaces with millions of degrees of freedom), an **iterative solver** is the *only* feasible option. Forming a million-by-million dense matrix is impossible on modern computers.\n",
    "\n",
    "\n",
    "## 5. Preconditioning\n",
    "\n",
    "The performance of iterative solvers can be dramatically improved with a **preconditioner**. A preconditioner is an operator `P` that is an approximation of the inverse of `A`. The solver then solves a modified, better-conditioned system.\n",
    "\n",
    "A perfect preconditioner would be `P = A_inv`, but that's what we're trying to find! A good preconditioner is a cheap approximation of the inverse. The simplest choice is the **Jacobi preconditioner**, which is just the inverse of the diagonal of `A`."
   ]
  },
  {
   "cell_type": "code",
   "execution_count": null,
   "id": "37887441",
   "metadata": {},
   "outputs": [],
   "source": [
    "# 1. Create the Jacobi preconditioner\n",
    "# Get the diagonal of the matrix of A\n",
    "diag_A = A.matrix(dense=True, galerkin=True).diagonal()\n",
    "# The preconditioner is the inverse of the diagonal\n",
    "preconditioner = inf.DiagonalSparseMatrixLinearOperator.from_diagonal_values(space, space, 1.0 / diag_A, galerkin=True)\n",
    "\n",
    "# 2. Create a new inverse operator, this time providing the preconditioner\n",
    "A_inv_preconditioned = cg_solver(A, preconditioner=preconditioner)\n",
    "\n",
    "# 3. Solve the system again\n",
    "start_time = time.time()\n",
    "x_preconditioned = A_inv_preconditioned(y)\n",
    "end_time = time.time()\n",
    "\n",
    "print(f\"Preconditioned iterative solve took: {end_time - start_time:.6f} seconds.\")\n",
    "error_preconditioned = space.norm(space.subtract(x_preconditioned, x_true))\n",
    "print(f\"Error in preconditioned solution: {error_preconditioned:.2e}\")\n",
    "\n",
    "print(\"\\nNote: For this simple, well-conditioned problem, the speed-up is minimal,\")\n",
    "print(\"but for ill-conditioned problems, a good preconditioner can reduce the\")\n",
    "print(\"solve time by orders of magnitude.\")"
   ]
  }
 ],
 "metadata": {
  "kernelspec": {
   "display_name": "pygeoinf-0ZCu7S8P-py3.11",
   "language": "python",
   "name": "python3"
  },
  "language_info": {
   "codemirror_mode": {
    "name": "ipython",
    "version": 3
   },
   "file_extension": ".py",
   "mimetype": "text/x-python",
   "name": "python",
   "nbconvert_exporter": "python",
   "pygments_lexer": "ipython3",
   "version": "3.11.6"
  }
 },
 "nbformat": 4,
 "nbformat_minor": 5
}
