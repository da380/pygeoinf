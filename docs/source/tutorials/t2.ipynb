{
 "cells": [
  {
   "cell_type": "code",
   "execution_count": null,
   "id": "47dfc0de",
   "metadata": {},
   "outputs": [],
   "source": [
    "# Uncomment and run this when using colab. \n",
    "#%pip install pygeoinf"
   ]
  },
  {
   "cell_type": "markdown",
   "id": "eae234de",
   "metadata": {},
   "source": [
    "# Tutorial 2 - Hilbert spaces\n",
    "\n",
    "Hilbert spaces are complete inner product spaces. Within all inverse problems considered we will assume that both the model and data space are Hilbert spaces. This is a restriction, but one that is difficult to avoid in practice. The data space in any real inverse problem is necessarily finite dimensional and so can always be identified with $\\mathbb{R}^{n}$ for some \n",
    "suitable $n \\in \\mathbb{N}$. In most cases of interest, however, the model space will be comprised of functions and be infinite-dimensional. Computationally we cannot deal directly with infinite-dimensional spaces, but we can ensure that we work with convergent discretisations. This means, roughly speaking, that the underlying mathematical problems are well-defined, and that the numerical methods can be shown to converge to the exact values as the size of the discretised model space is suitably increased. A principal aim of ```pygeoinf``` is to facilitate the implementation of such methods in the context of geophysical inverse problems. \n",
    "\n",
    "In this tutorial we look into the representation of Hilbert spaces within the ```pygeoinf``` library through two examples. \n",
    "Hilbert spaces are modeled by the ```HilbertSpace``` class. Importantly this class defines only the *structure* of the Hilbert space but not its elements. To construct a class instance the user must provide the following data:\n",
    "\n",
    "- The dimension of the space. \n",
    "- A mapping from elements of the space to a chosen co-ordinate representation. \n",
    "- A mapping from this co-ordinate representation to elements of the space. \n",
    "- The inner product for the space. \n",
    "- A mapping from elements of the space to their associated dual vector.\n",
    "- A mapping from elements of the dual space into the their representation within the space. \n",
    "\n",
    "In the case of infinite-dimensional spaces, the dimension, $n$, is understood as being that of an approximating space that is isomorphic to $\\mathbb{R}^{n}$  through the co-ordinate mappings provided. \n",
    "\n",
    "Discussion of the final two points in the above list will be given in the following tutorial once Linear forms and dual spaces have been introduced.  \n",
    "\n",
    "\n",
    "## Euclidean space\n",
    "\n",
    "The simplest Hilbert space is Euclidean space. This is implemented in ```pygeoinf``` as ```EuclideanSpace``` that inherits from ```HilbertSpace```. Constructuion of an instance of this class requires only its dimension: "
   ]
  },
  {
   "cell_type": "code",
   "execution_count": null,
   "id": "ea88bdc5",
   "metadata": {},
   "outputs": [],
   "source": [
    "import numpy as np\n",
    "import pygeoinf as inf\n",
    "\n",
    "# Set up Euclidean space. \n",
    "dim = 4\n",
    "X = inf.EuclideanSpace(dim)\n",
    "\n",
    "# Print its dimension. \n",
    "print(f'Dimension of the vector space = {X.dim}')"
   ]
  },
  {
   "cell_type": "markdown",
   "id": "f7f2787a",
   "metadata": {},
   "source": [
    "Elements of ```EuclideanSpace``` are just ```numpy``` vectors. In the following code block we generate a random element and get its components. For ```EuclideanSpace```, a vector and the vector of its components are the same and so the ```to_component``` and ```from_component``` methods are trivial. "
   ]
  },
  {
   "cell_type": "code",
   "execution_count": null,
   "id": "d0c44c4f",
   "metadata": {},
   "outputs": [],
   "source": [
    "# Generate a random element of the space and print its value. \n",
    "x = X.random()\n",
    "print(f'The vector is equal to:               {x}')\n",
    "\n",
    "# Now get its component vector which, in this case, is the same thing. \n",
    "c = X.to_components(x)\n",
    "print(f'The vector\\'s components are equal to: {c}')"
   ]
  },
  {
   "cell_type": "markdown",
   "id": "7541aa7f",
   "metadata": {},
   "source": [
    "Note that the ```random``` method for ```HilbertSpaces``` internally generates a component vector drawn from a standard Gaussian distribution and then maps this to an element of the space. This method is only meant to provide a quick means of generating elements of the space for testing purposes. \n",
    "\n",
    "If needed, we can access the zero vector is the space as follows:"
   ]
  },
  {
   "cell_type": "code",
   "execution_count": null,
   "id": "f848177e",
   "metadata": {},
   "outputs": [],
   "source": [
    "# Generate a the zero vector -- note that this is a property of the class. \n",
    "x = X.zero\n",
    "print(f'The vector is equal to:               {x}')\n",
    "\n",
    "# Now get its component vector, which in this case is the same thing. \n",
    "c = X.to_components(x)\n",
    "print(f'The vector\\'s components are equal to: {c}')"
   ]
  },
  {
   "cell_type": "markdown",
   "id": "77d6eab6",
   "metadata": {},
   "source": [
    "Given two element of the space, we can compute their inner product:"
   ]
  },
  {
   "cell_type": "code",
   "execution_count": null,
   "id": "1e2fe557",
   "metadata": {},
   "outputs": [],
   "source": [
    "x1 = X.random()\n",
    "x2 = X.random()\n",
    "print(f'x1       =  {x1} ')\n",
    "print(f'x2       =  {x2} ')\n",
    "\n",
    "print(f'(x1, x2) =  {X.inner_product(x1, x2)}')\n",
    "\n",
    "# Check the inner product is symmetric.\n",
    "print(f'(x2, x1) =  {X.inner_product(x2, x1)}')"
   ]
  },
  {
   "cell_type": "markdown",
   "id": "6e25fb9c",
   "metadata": {},
   "source": [
    "The inner product defines a norm, and we can access this as follows:"
   ]
  },
  {
   "cell_type": "code",
   "execution_count": null,
   "id": "fc27b69b",
   "metadata": {},
   "outputs": [],
   "source": [
    "x = X.random()\n",
    "print(f'x       =  {x}')\n",
    "print(f'||x||   =  {X.norm(x)}')\n",
    "print(f'||x||^2 =  {X.squared_norm(x)}')"
   ]
  },
  {
   "cell_type": "markdown",
   "id": "b6531a3a",
   "metadata": {},
   "source": [
    "We can use these methods to verify that standard Hilbert space inequalities are satified. "
   ]
  },
  {
   "cell_type": "code",
   "execution_count": null,
   "id": "571d972b",
   "metadata": {},
   "outputs": [],
   "source": [
    "x1 = X.random()\n",
    "x2 = X.random()\n",
    "print(f\"x1 =  {x1} \")\n",
    "print(f\"x2 =  {x2} \")\n",
    "\n",
    "print(\n",
    "    f\"The triangle inequality, |x1 + x2| <= |x1| + |x2|, is {X.norm(x1+x2) <= X.norm(x1) + X.norm(x2)}.\"\n",
    ")\n",
    "\n",
    "print(\n",
    "    f\"The Cauchy-Scwharz inequality, |(x1,x2)| <= |x1||x2|, is {np.abs(X.inner_product(x1,x2)) <= X.norm(x1) * X.norm(x2)}.\"\n",
    ")\n"
   ]
  },
  {
   "cell_type": "markdown",
   "id": "ee576b8b",
   "metadata": {},
   "source": [
    "For ```HilbertSpaces``` whose elements have the standard vector operations already overloaded we can directly add, subtract or scalar multiply them. \n",
    "\n",
    "Such operations are also available through methods within the ```HilbertSpace``` class. For example"
   ]
  },
  {
   "cell_type": "code",
   "execution_count": null,
   "id": "d89322d3",
   "metadata": {},
   "outputs": [],
   "source": [
    "x1 = X.random()\n",
    "x2 = X.random()  \n",
    "print(f\"x1      = {x1} \")\n",
    "print(f\"x2      = {x2} \")\n",
    "\n",
    "x3 = X.add(x1,x2)\n",
    "print(f\"x1 + x2 = {x3} \")\n",
    "\n",
    "print(f\"2 * x1  = {X.multiply(2,x1)} \")\n",
    "\n",
    "# Form a deep copy of x3\n",
    "x4 = X.copy(x3)\n",
    "print(f\"x4      = {x4} \")\n",
    "\n"
   ]
  },
  {
   "cell_type": "markdown",
   "id": "ae54b3c2",
   "metadata": {},
   "source": [
    "Custom implementation for these operations can be provided when a ```HilbertSpace``` is constructed. \n",
    "\n",
    "The ```HilbertSpace``` class also provides convenient methods for generating certain element of the space. For example, if we want a particular basis vector we write:"
   ]
  },
  {
   "cell_type": "code",
   "execution_count": null,
   "id": "4ecd0a79",
   "metadata": {},
   "outputs": [],
   "source": [
    "i = 2\n",
    "x = X.basis_vector(2)\n",
    "print(f\"The {i}th basis vector is: {x} \")"
   ]
  },
  {
   "cell_type": "markdown",
   "id": "9d8a0612",
   "metadata": {},
   "source": [
    "## Sobolev spaces on the unit circle \n",
    "\n",
    "### Mathematical definitions\n",
    "\n",
    " \n",
    "Within the example inverse problem in Tutorial 1, the data space was represented by an instance of ```EuclideanSpace```. The model space, however, provides a more interesting example of a Hilbert space, $H^{s}(\\mathbb{S}^{1})$, that is defined by\n",
    "$$\n",
    "H^{s}(\\mathbb{S}^{1}) = \\{\n",
    "u \\in \\mathcal{D}'(\\mathbb{S}^{1}) \\,|\\, (1+\\lambda^{2}\\Delta)^{s/2} u \\in L^{2}(\\mathbb{S}^{1})\n",
    "\\},\n",
    "$$\n",
    "where the **order**, $s\\in \\mathbb{R}$, and **scale** $\\lambda > 0$. Here $\\mathcal{D}'(\\mathbb{S}^{1})$ is the space of distributions on $\\mathbb{S}^{1}$, $L^{2}(\\mathbb{S}^{2})$ the Hilbert space of square-integrable functions that has inner product\n",
    "$$\n",
    "(u,v)_{L^{2}(\\mathbb{S}^{1})} = \\int_{0}^{2\\pi} \\overline{u} v \\, \\mathrm{d} \\theta, \n",
    "$$\n",
    "and $\\Delta = -\\frac{\\mathrm{d}^{2}}{\\mathrm{d}\\theta^{2}}$ is the Laplacian. The latter operator extends to a non-negative self-adjoint operator on $L^{2}(\\mathbb{S}^{1})$ and $(1+\\lambda^{2}\\Delta)^{s/2}$ is defined through the spectral theorem. The inner product on this space is given by\n",
    "$$\n",
    "(u,v)_{H^{s}(\\mathbb{S}^{1})} = \\left((1+\\lambda^{2}\\Delta)^{s/2} u,(1+\\lambda^{2}\\Delta)^{s/2} v\\right)_{L^{2}(\\mathbb{S}^{1})}.\n",
    "$$\n",
    "Clearly we have $H^{0}(\\mathbb{S}^{1}) = L^{2}(\\mathbb{S}^{1})$, while for any $t > s$ we have the  continuous and compact inclusion\n",
    "$$\n",
    "H^{t}(\\mathbb{S}^{1}) \\subseteq H^{s}(\\mathbb{S}^{1}).\n",
    "$$\n",
    "Note that the topology of $H^{s}(\\mathbb{S}^{1})$ is independent of the scale. \n",
    "\n",
    "To work with this space practically, we can use Fourier decomposition. For any $u \\in \\mathcal{D}'(\\mathbb{S}^{1})$ we have the convergent Fourier expansion\n",
    "$$\n",
    "u = \\sum_{k=-\\infty}^{\\infty} u_{k} \\phi_{k}, \\quad u_{k} = (\\phi_{k},u)_{L^{2}(\\mathbb{S}^{1})},\n",
    "$$\n",
    "where $L^{2}(\\mathbb{S}^{1}) \\subseteq \\mathcal{D}'(\\mathbb{S}^{1})$ in the standard way, and the basis functions\n",
    "$$\n",
    "\\phi_{k}(\\theta) = \\frac{1}{\\sqrt{2\\pi}} \\mathrm{e}^{\\mathrm{i} k \\theta}\n",
    "$$\n",
    "are complete and orthonormal in $L^{2}(\\mathbb{S}^{1})$. It can be shown that such a $u \\in \\mathcal{D}'(\\mathbb{S}^{1})$ belongs to $L^{2}(\\mathbb{S}^{1})$ if and only if its Fourier coefficients are square-summable. It follows that we can equivalently characterise elements of $H^{s}(\\mathbb{S}^{1})$ through\n",
    "$$\n",
    "\\sum_{k=-\\infty}^{\\infty}(1 + \\lambda^{2}k^{2})^{s}|u_{k}|^{2} < \\infty, \n",
    "$$\n",
    "while the space's inner product can be written \n",
    "$$\n",
    "(u,v)_{H^{s}(\\mathbb{S}^{1})} = \\sum_{k=-\\infty}^{\\infty}(1 + \\lambda^{2}k^{2})^{s} \\overline{u_{k}} v_{k}.\n",
    "$$\n",
    "In the above discussion we have considered complex-valued functions for convenience. The definitions all specialise to the real case where we have the symmetry $\\overline{u_{k}}  = u_{-k}$ for the Fourier coefficients. \n",
    "\n",
    "### Implementation as a ```HilbertSpace```\n",
    "\n",
    "An implementation of $H^{1}(\\mathbb{S}^{1})$ can be found in the class ```Sobolev``` which inherits from ```HilbertSpace``` and is contained in the sub-package ```pygeoinf.symmetric_space.circle```. Elements of the space are numpy vectors of function values on an equally spaced grid. The components are then Fourier coefficients for non-negative indices, with the mapping from a vector to its components performed using a real FFT. To construct an instance of this space, the user provides:\n",
    "\n",
    "- A maximum degree, $k_{\\mathrm{max}} \\in \\mathbb{N}$, for the Fourier expansions. The number of spatial points is equal to twice this value. \n",
    "- The Sobolev order, $s \\in \\mathbb{R}$. \n",
    "- The Sobolev scale, $\\lambda >0$. \n",
    "- An optional radius, $a > 0$, for the circle with default value $a = 1$. When $a \\ne 1$ the above definitions are transformed in the obvious manner. \n",
    "\n",
    "The code below constructs an instance of the ``Sobolev``` class and prints its dimension:"
   ]
  },
  {
   "cell_type": "code",
   "execution_count": null,
   "id": "6784fe0e",
   "metadata": {},
   "outputs": [],
   "source": [
    "from pygeoinf.symmetric_space.circle import Sobolev\n",
    "kmax = 245\n",
    "order = 2\n",
    "scale = 0.1\n",
    "Y = Sobolev(kmax, order, scale)\n",
    "print(f'The dimension of the space is equal to: {Y.dim}')"
   ]
  },
  {
   "cell_type": "markdown",
   "id": "7d6ca0ce",
   "metadata": {},
   "source": [
    "We can then visualise the first few basis vectors as follows:"
   ]
  },
  {
   "cell_type": "code",
   "execution_count": null,
   "id": "63def435",
   "metadata": {},
   "outputs": [],
   "source": [
    "import matplotlib.pyplot as plt\n",
    "\n",
    "m = 4\n",
    "fig, axs = plt.subplots(m,m, figsize=(15,15))\n",
    "\n",
    "for j in range(m):\n",
    "    for i in range(m):\n",
    "        ax = axs[i,j]\n",
    "        k = i + m * j\n",
    "        u = Y.basis_vector(k)\n",
    "        Y.plot(u, fig=fig, ax=ax)\n",
    "        ax.set_title(f'Basis function {k}')\n",
    "\n",
    "plt.tight_layout()\n",
    "plt.show()"
   ]
  },
  {
   "cell_type": "markdown",
   "id": "37dd2732",
   "metadata": {},
   "source": [
    "Note that each of the basis vector shown is a cosine function. This is because the real and imaginary parts of the Fourier coefficients are separated out in the component vector, with the real parts being stored first. \n",
    "\n",
    "Elements of this space can also be defined by projecting a given function:"
   ]
  },
  {
   "cell_type": "code",
   "execution_count": null,
   "id": "a09d18d8",
   "metadata": {},
   "outputs": [],
   "source": [
    "u = Y.project_function(lambda th: np.sin(th)*np.cos(th))\n",
    "Y.plot(u)\n",
    "plt.show()"
   ]
  },
  {
   "cell_type": "markdown",
   "id": "cd4d588c",
   "metadata": {},
   "source": [
    "All the vector operations work on this space just as with ```EuclideanSpace```. For example:"
   ]
  },
  {
   "cell_type": "code",
   "execution_count": null,
   "id": "dde8d2cb",
   "metadata": {},
   "outputs": [],
   "source": [
    "v = u +  Y.project_function(lambda th: np.cos(5*th))\n",
    "print(f'||u|| = {Y.norm(u)}')\n",
    "print(f'||v|| =  {Y.norm(v)}')\n",
    "print(f'(u,v) =  {Y.inner_product(u,v)}')"
   ]
  },
  {
   "cell_type": "markdown",
   "id": "b1c15ea4",
   "metadata": {},
   "source": [
    "The appropriate choice of $k_{\\mathrm{max}}$ in the construction of the ```Sobolev``` class depends on the application. For convenience, a static method is provided that determines an generally sensible choice of $k_{\\mathrm{max}}$ based on the Sobolev parameters. This is shown below:"
   ]
  },
  {
   "cell_type": "code",
   "execution_count": null,
   "id": "e785f1e7",
   "metadata": {},
   "outputs": [],
   "source": [
    "Y = Sobolev.from_sobolev_parameters(2, 0.1)\n",
    "print(f'Dimension of space = {Y.dim}')"
   ]
  },
  {
   "cell_type": "markdown",
   "id": "252f4db0",
   "metadata": {},
   "source": [
    " The user can optionally provide a relative tolerance through the keyword argument ```rtol``` and ensure that $k_{\\mathrm{max}}$ is a power of 2 by setting the key-word argument ```power_of_two``` equal to ```True```. Note, however, that this method is only available when $s > 0.5$."
   ]
  }
 ],
 "metadata": {
  "kernelspec": {
   "display_name": "pygeoinf-0ZCu7S8P-py3.11",
   "language": "python",
   "name": "python3"
  },
  "language_info": {
   "codemirror_mode": {
    "name": "ipython",
    "version": 3
   },
   "file_extension": ".py",
   "mimetype": "text/x-python",
   "name": "python",
   "nbconvert_exporter": "python",
   "pygments_lexer": "ipython3",
   "version": "3.11.6"
  }
 },
 "nbformat": 4,
 "nbformat_minor": 5
}
