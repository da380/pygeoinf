{
 "cells": [
  {
   "cell_type": "markdown",
   "id": "6487135c",
   "metadata": {},
   "source": [
    "# Tutorial 4: Linear Operators, Duals, and Adjoints\n",
    "\n",
    "In previous tutorials, we introduced the `HilbertSpace` and the concept of a `dual` space. Now, we'll focus on the `LinearOperator` class, which defines linear maps between these spaces.\n",
    "\n",
    "### The Theory in Outline\n",
    "\n",
    "Given a linear operator $A: X \\to Y$, we can define two related operators:\n",
    "\n",
    "1.  **The Dual Operator ($A'$)**: The dual (or transpose) operator maps between the dual spaces, $A': Y' \\to X'$. It is defined by the relation:\n",
    "    $$\n",
    "    \\langle y', A(x) \\rangle = \\langle A'(y'), x \\rangle\n",
    "    $$\n",
    "    This relation holds for any $x \\in X$ and $y' \\in Y'$.\n",
    "\n",
    "2.  **The Adjoint Operator ($A^*$)**: The adjoint operator maps between the original primal spaces, but in reverse, $A^*: Y \\to X$. It is defined by the inner product:\n",
    "    $$\n",
    "    \\langle y, A(x) \\rangle_Y = \\langle A^*(y), x \\rangle_X\n",
    "    $$\n",
    "\n",
    "A key feature of this library is that if you provide just the forward mapping for `A`, the library can automatically derive its `dual` and `adjoint` operators.\n",
    "\n",
    "In this tutorial, we will:\n",
    "1.  Create a `LinearOperator` from a simple mapping.\n",
    "2.  Combine operators using standard arithmetic operations.\n",
    "3.  Numerically verify the defining relations for the dual and adjoint.\n",
    "4.  Create an operator on a `Sobolev` space using `from_formal_adjoint`."
   ]
  },
  {
   "cell_type": "code",
   "execution_count": null,
   "id": "8bec0929",
   "metadata": {},
   "outputs": [],
   "source": [
    "# To run in colab, uncomment the line below to install pygeoinf. \n",
    "#%pip install pygeoinf --quiet\n",
    "\n",
    "import numpy as np\n",
    "import pygeoinf as inf\n",
    "import matplotlib.pyplot as plt\n",
    "from pygeoinf.symmetric_space.circle import Lebesgue, Sobolev\n",
    "from pygeoinf import EuclideanSpace\n",
    "\n",
    "# For reproducibility\n",
    "np.random.seed(123)"
   ]
  },
  {
   "cell_type": "markdown",
   "id": "6678541e",
   "metadata": {},
   "source": []
  },
  {
   "cell_type": "markdown",
   "id": "a1bf397e",
   "metadata": {},
   "source": [
    "## 1. Defining a `LinearOperator`\n",
    "\n",
    "The most direct way to create a `LinearOperator` is from its constituent parts: a `domain` space, a `codomain` space, and a `mapping` function that defines its action. To illustrate this, lets start with a simple example between Euclidean spaces, namely the projection from $\\mathbb{R}^{m}$ to $\\mathbb{R}^{n}$ where $m > n$. \n"
   ]
  },
  {
   "cell_type": "code",
   "execution_count": null,
   "id": "ce06e434",
   "metadata": {},
   "outputs": [],
   "source": [
    "# Set up the domain and codomain\n",
    "domain = inf.EuclideanSpace(4)\n",
    "codomain = inf.EuclideanSpace(2)\n",
    "\n",
    "# Set up the linear operator\n",
    "A = inf.LinearOperator(domain, codomain, lambda x : x[:codomain.dim])\n",
    "\n",
    "# We can test the operator by acting it on a random vector \n",
    "x = domain.random()\n",
    "print(f'Input vector  {x}')\n",
    "y = A(x)\n",
    "print(f'Output vector {y}')"
   ]
  },
  {
   "cell_type": "markdown",
   "id": "738ca4c7",
   "metadata": {},
   "source": [
    "As a second, and more elaborate, example we consider the linear operator\n",
    "$$\n",
    "(Au)(x) =  a(x) u(x), \n",
    "$$\n",
    "for functions on $L^{2}(\\mathbb{S}^{1})$ with $a$ a given smooth function. "
   ]
  },
  {
   "cell_type": "code",
   "execution_count": null,
   "id": "ce57381a",
   "metadata": {},
   "outputs": [],
   "source": [
    "# Set the domain and codomain (in this case equal)\n",
    "domain = Lebesgue(256)\n",
    "\n",
    "# Set the smooth scaling function as an element of the space. \n",
    "a = domain.project_function(lambda th : np.exp(-(th-np.pi)**2))\n",
    "\n",
    "# Set up the linear operator\n",
    "A = inf.LinearOperator(domain, domain, lambda u : a*u)\n",
    "\n",
    "# Define a input vector \n",
    "u = domain.project_function(lambda th : np.cos(10*th))\n",
    "\n",
    "# Get the result of acting the operator\n",
    "v = A(u)\n",
    "\n",
    "# Plot the input and outputs\n",
    "fig, ax = domain.plot(u, label='input')\n",
    "domain.plot(v, fig=fig, ax=ax, label='output')\n",
    "ax.legend()\n",
    "ax.set_title(\"Operator Test\")\n",
    "plt.show()\n"
   ]
  },
  {
   "cell_type": "markdown",
   "id": "dea8a89c",
   "metadata": {},
   "source": [
    "A `LinearOperator` that has been constructed may not have been done so consistently. For example, the mapping may not be linear. To address this point, a `check` method is available that runs a series of tests on randomised inputs. This is shown below using the operator defined in the previous code-block:"
   ]
  },
  {
   "cell_type": "code",
   "execution_count": null,
   "id": "0597c10b",
   "metadata": {},
   "outputs": [],
   "source": [
    "A.check()"
   ]
  },
  {
   "cell_type": "markdown",
   "id": "a0fc0d4e",
   "metadata": {},
   "source": [
    "Within the output you will see reference to \"non-linear operator checks\". This is because  the `LinearOperator` class inherits from a more general `NonLinearOperator` class that will be discussed in a later tutorial (currently to be written)."
   ]
  },
  {
   "cell_type": "markdown",
   "id": "0374f271",
   "metadata": {},
   "source": [
    "## 2. Operator Arithmetic\n",
    "\n",
    "`LinearOperator` objects support standard arithmetic operations, allowing you to build complex operators from simpler ones. You can use:\n",
    "* `+` and `-` for addition and subtraction.\n",
    "* `*` for scalar multiplication.\n",
    "* `@` for composition (matrix multiplication)."
   ]
  },
  {
   "cell_type": "code",
   "execution_count": null,
   "id": "9cb7d9d1",
   "metadata": {},
   "outputs": [],
   "source": [
    "# Define two simple operators on EuclideanSpace\n",
    "space = EuclideanSpace(2)\n",
    "M1 = np.array([[1, 2], [3, 4]])\n",
    "M2 = np.array([[0, 1], [1, 0]])\n",
    "\n",
    "A = inf.LinearOperator.from_matrix(space, space, M1)\n",
    "B = inf.LinearOperator.from_matrix(space, space, M2)\n",
    "\n",
    "# --- Demonstrate arithmetic ---\n",
    "\n",
    "# Addition: C = A + B\n",
    "C = A + B\n",
    "print(f\"Matrix of C = A + B:\\n{C.matrix(dense=True)}\\n\")\n",
    "\n",
    "# Scalar Multiplication: D = 3 * A\n",
    "D = 3 * A\n",
    "print(f\"Matrix of D = 3 * A:\\n{D.matrix(dense=True)}\\n\")\n",
    "\n",
    "# Composition: E = A @ B\n",
    "E = A @ B\n",
    "print(f\"Matrix of E = A @ B:\\n{E.matrix(dense=True)}\\n\")\n",
    "\n",
    "# We can verify the composition result\n",
    "assert np.allclose(E.matrix(dense=True), M1 @ M2)"
   ]
  },
  {
   "cell_type": "markdown",
   "id": "43093d94",
   "metadata": {},
   "source": [
    "## 3. Duals and Adjoints\n",
    "\n",
    "The concepts of dual and adjoint operators are easiest to understand in a simple `EuclideanSpace`.\n",
    "\n",
    "### Providing Mappings vs. Automatic Derivation\n",
    "\n",
    "When creating a `LinearOperator`, you can optionally provide the `dual_mapping` and `adjoint_mapping` directly in the constructor. This is highly recommended if you know them, as it is much more efficient.\n",
    "\n",
    "If you **do not** provide them, the library will implement them for you. The default method, however, can be very slow as it involves repeated applications\n",
    "of the operator. This is fine, if wasteful, for operators on low-dimensional spaces, but for operators on high-dimensional spaces it is not a reasonable option. \n",
    "\n",
    "Let's create an operator and verify the defining relations."
   ]
  },
  {
   "cell_type": "code",
   "execution_count": null,
   "id": "fe938f60",
   "metadata": {},
   "outputs": [],
   "source": [
    "# Define domain and codomain\n",
    "domain = EuclideanSpace(3)\n",
    "codomain = EuclideanSpace(2)\n",
    "\n",
    "# Create an operator from a matrix\n",
    "M = np.array([[1, 2, 3], [4, 5, 6]])\n",
    "# We know the adjoint is the transpose, so we can provide it for efficiency\n",
    "adjoint_map = lambda y: M.T @ y\n",
    "A = inf.LinearOperator(domain, codomain, lambda x: M @ x, adjoint_mapping=adjoint_map)\n",
    "\n",
    "# Get the dual and adjoint operators\n",
    "A_dual = A.dual\n",
    "A_adjoint = A.adjoint\n",
    "\n",
    "# Create random vectors for testing\n",
    "x = domain.random()\n",
    "y = codomain.random()\n",
    "\n",
    "# --- Verification ---\n",
    "\n",
    "# 1. Dual Relation: <y', A(x)> = <A'(y'), x>\n",
    "# For Euclidean space, the dual of y is a LinearForm with the same components\n",
    "y_prime = codomain.to_dual(y) \n",
    "lhs_dual = codomain.duality_product(y_prime, A(x))\n",
    "rhs_dual = domain.duality_product(A_dual(y_prime), x)\n",
    "\n",
    "print(f\"--- Dual Operator Verification ---\")\n",
    "print(f\"<y', A(x)> = {lhs_dual:.4f}\")\n",
    "print(f\"<A'(y'), x> = {rhs_dual:.4f}\")\n",
    "assert np.isclose(lhs_dual, rhs_dual)\n",
    "\n",
    "# 2. Adjoint Relation: <y, A(x)>_Y = <A*(y), x>_X\n",
    "lhs_adjoint = codomain.inner_product(y, A(x))\n",
    "rhs_adjoint = domain.inner_product(A_adjoint(y), x)\n",
    "\n",
    "print(f\"\\n--- Adjoint Operator Verification ---\")\n",
    "print(f\"<y, A(x)>_Y = {lhs_adjoint:.4f}\")\n",
    "print(f\"<A*(y), x>_X = {rhs_adjoint:.4f}\")\n",
    "assert np.isclose(lhs_adjoint, rhs_adjoint)"
   ]
  },
  {
   "cell_type": "markdown",
   "id": "46395e1e",
   "metadata": {},
   "source": [
    "## 4. Adjoints in Function Spaces (`from_formal_adjoint`)\n",
    "\n",
    "In a simple `EuclideanSpace`, the dual and adjoint are effectively the same. This is not true for more complex spaces, like a `Sobolev` space, which has a non-trivial inner product.\n",
    "\n",
    "A common task is to define an operator in terms of its simple action on the underlying L² space of functions, and then \"lift\" it to be a proper operator on the `Sobolev` space with the correct adjoint. The `from_formal_adjoint` static\n",
    "method is designed for exactly this purpose. Here we illustrate this approach using the derivative operator for functions on the unit sphere. This operator maps a Sobolev space with order $s$ into one with order $s-1$. It is not \n",
    "a well-defined operator from $L^{2}(\\mathbb{S}^{1})$ to itself. But it's **formal adjoint** can be defined relative to the $L^{2}(\\mathbb{S}^{1})$ inner-product by resticting attention to smooth functions, and in this manner we \n",
    "see that the operators formal adjoint is equal to the negative of itself. The following code implements this idea practically. "
   ]
  },
  {
   "cell_type": "code",
   "execution_count": null,
   "id": "4a47731d",
   "metadata": {},
   "outputs": [],
   "source": [
    "# Set the domain and codomain\n",
    "order = 2\n",
    "scale = 0.1\n",
    "domain = Sobolev.from_sobolev_parameters(order, scale)\n",
    "codomain = Sobolev(domain.kmax, order-1, scale)\n",
    "\n",
    "# Get the underlying Lebesgue space on which the Sobolev spaces are built\n",
    "lebesgue = domain.underlying_space\n",
    "\n",
    "# Define the action of the derivative operator in the Fourier domain\n",
    "def mapping(u):\n",
    "    coeff = lebesgue.to_coefficients(u)\n",
    "    k = np.arange(coeff.size)\n",
    "    diff_coeff = 1j * k * coeff\n",
    "    return lebesgue.from_coefficients(diff_coeff)\n",
    "\n",
    "# Set the formal L2 operator\n",
    "A_L2 = inf.LinearOperator(lebesgue, lebesgue, mapping, adjoint_mapping=lambda u : -mapping(u))\n",
    "\n",
    "# Set the full operator using the static method. \n",
    "A = inf.LinearOperator.from_formal_adjoint(domain, codomain, A_L2)\n",
    "\n",
    "# Run checks on the operator. \n",
    "A.check()\n",
    "\n",
    "\n",
    "# Define a function on which the operator can act\n",
    "u = domain.project_function(lambda th : np.sin(th))\n",
    "\n",
    "# get the result of the derivative operator\n",
    "v = A(u)\n",
    "v_exact = codomain.project_function(lambda th : np.cos(th))\n",
    "\n",
    "# Plot the results and compare to the expected function. \n",
    "fig, ax = domain.plot(u, label='input')\n",
    "codomain.plot(v, fig=fig, ax=ax, label='output')\n",
    "codomain.plot(v_exact, fig=fig, ax=ax, linestyle='--', label='exact')\n",
    "ax.legend()\n",
    "ax.set_title(\"Operator Test\")\n",
    "plt.show()\n",
    "\n",
    "\n",
    "# We can also check that the adjoint identity holds \n",
    "u = domain.project_function(lambda th : np.sin(2*th))\n",
    "v = codomain.project_function(lambda th : np.exp(-(th-np.pi)**2))\n",
    "\n",
    "lhs = codomain.inner_product(A(u), v)\n",
    "rhs = domain.inner_product(u, A.adjoint(v))\n",
    "print(f'<Au,v>  = {lhs}')\n",
    "print(f'<v,A*u> = {rhs}')\n",
    "print(f'Relative difference = {np.abs(lhs-rhs)/np.abs(lhs)}')"
   ]
  },
  {
   "cell_type": "markdown",
   "id": "cf414ca7",
   "metadata": {},
   "source": [
    "The derivative operator for functions on a circle arises quite often within applications, and so it is implemented as a property of the `Sobolev`  class. This is shown below where we compare our implementation against that in the library."
   ]
  },
  {
   "cell_type": "code",
   "execution_count": null,
   "id": "66c5b955",
   "metadata": {},
   "outputs": [],
   "source": [
    "# Get the derivative operator and repeat the above tests. \n",
    "A = domain.derivative_operator\n",
    "\n",
    "# Define a function on which the operator can act\n",
    "u = domain.project_function(lambda th : np.sin(th))\n",
    "\n",
    "# get the result of the derivative operator\n",
    "v = A(u)\n",
    "v_exact = codomain.project_function(lambda th : np.cos(th))\n",
    "\n",
    "# Plot the results and compare to the expected function. \n",
    "fig, ax = domain.plot(u, label='input')\n",
    "codomain.plot(v, fig=fig, ax=ax, label='output')\n",
    "codomain.plot(v_exact, fig=fig, ax=ax, linestyle='--', label='exact')\n",
    "ax.legend()\n",
    "ax.set_title(\"Operator Test\")\n",
    "plt.show()\n",
    "\n",
    "\n",
    "# We can also check that the adjoint identity holds \n",
    "u = domain.project_function(lambda th : np.sin(2*th))\n",
    "v = codomain.project_function(lambda th : np.exp(-(th-np.pi)**2))\n",
    "\n",
    "lhs = codomain.inner_product(A(u), v)\n",
    "rhs = domain.inner_product(u, A.adjoint(v))\n",
    "print(f'<Au,v>  = {lhs}')\n",
    "print(f'<v,A*u> = {rhs}')\n",
    "print(f'Relative difference = {np.abs(lhs-rhs)/np.abs(lhs)}')"
   ]
  }
 ],
 "metadata": {
  "kernelspec": {
   "display_name": "pygeoinf-0ZCu7S8P-py3.11",
   "language": "python",
   "name": "python3"
  },
  "language_info": {
   "codemirror_mode": {
    "name": "ipython",
    "version": 3
   },
   "file_extension": ".py",
   "mimetype": "text/x-python",
   "name": "python",
   "nbconvert_exporter": "python",
   "pygments_lexer": "ipython3",
   "version": "3.11.6"
  }
 },
 "nbformat": 4,
 "nbformat_minor": 5
}
