{
 "cells": [
  {
   "cell_type": "markdown",
   "id": "8fcdc7de",
   "metadata": {},
   "source": [
    "# Tutorial 2: The HilbertSpace Abstraction\n",
    "\n",
    "In this tutorial, we'll dive into the `HilbertSpace` class, which is the foundation for all vector spaces in the library. The key design idea is to provide a single, consistent interface for manipulating vectors, regardless of what that \"vector\" actually represents.\n",
    "\n",
    "We will demonstrate this by:\n",
    "1.  Creating a simple `EuclideanSpace` (for standard vectors) and a `Sobolev` space (for smooth functions on a circle).\n",
    "2.  Generating random vectors in each space.\n",
    "3.  Performing basic vector arithmetic (`+`, `*`, norms).\n",
    "4.  Showing that the code for these operations is **identical** for both spaces, highlighting the power of the abstraction.\n",
    "\n"
   ]
  },
  {
   "cell_type": "code",
   "execution_count": null,
   "id": "a179bf41",
   "metadata": {},
   "outputs": [],
   "source": [
    "# To run in colab, uncomment the line below to install pygeoinf. \n",
    "#%pip install pygeoinf\n",
    "\n",
    "import numpy as np\n",
    "import matplotlib.pyplot as plt\n",
    "import pygeoinf as inf\n",
    "from pygeoinf.symmetric_space.circle import Sobolev\n",
    "from pygeoinf.hilbert_space import EuclideanSpace\n",
    "\n",
    "# For reproducibility\n",
    "np.random.seed(0)"
   ]
  },
  {
   "cell_type": "markdown",
   "id": "5efd7c87",
   "metadata": {},
   "source": [
    "## 1. Defining Two Different Hilbert Spaces\n",
    "\n",
    "Let's start by creating two very different types of `HilbertSpace`.\n",
    "\n",
    "* **`EuclideanSpace`**: This is a simple, finite-dimensional space $\\mathbb{R}^n$ where a vector is just a NumPy array.\n",
    "* **`Sobolev`**: This is an infinite-dimensional function space, approximated by a high-dimensional vector. A \"vector\" here is a smooth function on a circle."
   ]
  },
  {
   "cell_type": "markdown",
   "id": "69c2a328",
   "metadata": {},
   "source": []
  },
  {
   "cell_type": "code",
   "execution_count": null,
   "id": "3474bf7d",
   "metadata": {},
   "outputs": [],
   "source": [
    "# A simple 5-dimensional Euclidean space\n",
    "euclidean_space = EuclideanSpace(5)\n",
    "\n",
    "# A space of smooth functions on a circle\n",
    "# We'll use the convenient helper method to set it up.\n",
    "sobolev_space = Sobolev.from_sobolev_parameters(2.0, 0.1)\n",
    "\n",
    "print(f\"Euclidean Space Dimension: {euclidean_space.dim}\")\n",
    "print(f\"Sobolev Space Dimension: {sobolev_space.dim}\")"
   ]
  },
  {
   "cell_type": "markdown",
   "id": "afe98448",
   "metadata": {},
   "source": [
    "## 2. Generating and Inspecting Vectors\n",
    "\n",
    "Every `HilbertSpace` has methods to create vectors. The `.random()` method generates a random vector, and the `.zero` property gives the additive identity.\n",
    "\n",
    "Let's generate two random vectors, `x` and `y`, in our `EuclideanSpace`."
   ]
  },
  {
   "cell_type": "code",
   "execution_count": null,
   "id": "fbc31454",
   "metadata": {},
   "outputs": [],
   "source": [
    "# Generate vectors in the Euclidean space\n",
    "x_euc = euclidean_space.random()\n",
    "y_euc = euclidean_space.random()\n",
    "\n",
    "print(\"--- Euclidean Space ---\")\n",
    "print(f\"Type of a vector: {type(x_euc)}\")\n",
    "print(f\"A random vector x:\\n{x_euc}\")\n",
    "print(f\"A random vector y:\\n{y_euc}\")"
   ]
  },
  {
   "cell_type": "markdown",
   "id": "725c82dd",
   "metadata": {},
   "source": [
    "Now, let's do the **exact same thing** for the `Sobolev` space. Notice that the syntax does not change at all. The library handles the complexity of creating a \"random smooth function\" behind the scenes."
   ]
  },
  {
   "cell_type": "code",
   "execution_count": null,
   "id": "ae3763b7",
   "metadata": {},
   "outputs": [],
   "source": [
    "# Generate vectors (functions) in the Sobolev space\n",
    "x_sob = sobolev_space.random()\n",
    "y_sob = sobolev_space.random()\n",
    "\n",
    "print(\"--- Sobolev Space ---\")\n",
    "print(f\"Type of a vector: {type(x_sob)}\")\n",
    "print(f\"A 'vector' in this space is a NumPy array representing function values on a grid.\")\n",
    "print(f\"Shape of the vector: {x_sob.shape}\")"
   ]
  },
  {
   "cell_type": "markdown",
   "id": "32743b31",
   "metadata": {},
   "source": [
    "### A Note on `.random()`\n",
    "\n",
    "It's important to understand what the default `.random()` method does. It generates a vector whose **components** are drawn from a standard normal (Gaussian) distribution.\n",
    "\n",
    "* For `EuclideanSpace`, this is fine; it's a standard random vector.\n",
    "* For `Sobolev`, this produces a function that looks like \"white noise.\" It is **not** a smooth function and does not have the statistical properties consistent with the Sobolev inner product.\n",
    "\n",
    "The correct way to generate \"nice\" random functions with desired properties (like smoothness) is by sampling from a `GaussianMeasure`, which we will cover in a later tutorial. For now, we use `.random()` simply to get some vectors to manipulate."
   ]
  },
  {
   "cell_type": "markdown",
   "id": "637820de",
   "metadata": {},
   "source": [
    "## 3. Vector Manipulation\n",
    "\n",
    "All `HilbertSpace` objects support standard vector operations like addition, scalar multiplication, and calculating norms. The power of the abstraction is that the syntax is identical, no matter how complex the underlying space is.\n",
    "\n",
    "### A Note on Syntax: `space.add(x, y)` vs `x + y`\n",
    "\n",
    "For the examples here (`EuclideanSpace` and `Sobolev`), the underlying vector representation is a NumPy array, which already supports standard arithmetic like `+` and `*`. You are free to use that direct syntax.\n",
    "\n",
    "However, the `HilbertSpace` methods (`.add()`, `.multiply()`, etc.) provide a common, abstract interface. This ensures that your code will work for *any* `HilbertSpace`, even one whose underlying vector type does not support standard Python operators. We will use the `HilbertSpace` methods in these tutorials to emphasize the abstract nature of the library."
   ]
  },
  {
   "cell_type": "code",
   "execution_count": null,
   "id": "b0f313bc",
   "metadata": {},
   "outputs": [],
   "source": [
    "# --- Euclidean Space ---\n",
    "z_euc = euclidean_space.add(x_euc, y_euc)\n",
    "z_euc_scaled = euclidean_space.multiply(3.0, z_euc)\n",
    "\n",
    "print(\"--- Euclidean Space ---\")\n",
    "print(f\"x + y = \\n{z_euc}\")\n",
    "print(f\"3 * (x + y) = \\n{z_euc_scaled}\")\n",
    "\n",
    "# --- Sobolev Space ---\n",
    "# Note the identical syntax!\n",
    "z_sob = sobolev_space.add(x_sob, y_sob)\n",
    "z_sob_scaled = sobolev_space.multiply(3.0, z_sob)\n",
    "\n",
    "print(\"\\n--- Sobolev Space ---\")\n",
    "print(f\"The same operations work seamlessly on the function vectors.\")"
   ]
  },
  {
   "cell_type": "markdown",
   "id": "55b05187",
   "metadata": {},
   "source": [
    "### Norms and Inner Products\n",
    "\n",
    "We can also compute the length (norm) of a vector and the inner product between two vectors. For `EuclideanSpace`, this is the standard dot product. For the `Sobolev` space, it's a much more complex weighted inner product that accounts for the function's smoothness—but the method call is the same."
   ]
  },
  {
   "cell_type": "code",
   "execution_count": null,
   "id": "b21ea4f9",
   "metadata": {},
   "outputs": [],
   "source": [
    "# --- Euclidean Space ---\n",
    "norm_x_euc = euclidean_space.norm(x_euc)\n",
    "inner_prod_euc = euclidean_space.inner_product(x_euc, y_euc)\n",
    "\n",
    "print(\"--- Euclidean Space ---\")\n",
    "print(f\"Norm of x: {norm_x_euc:.4f}\")\n",
    "print(f\"Inner product of x and y: {inner_prod_euc:.4f}\")\n",
    "\n",
    "# --- Sobolev Space ---\n",
    "# Identical syntax for a much more complex operation!\n",
    "norm_x_sob = sobolev_space.norm(x_sob)\n",
    "inner_prod_sob = sobolev_space.inner_product(x_sob, y_sob)\n",
    "\n",
    "print(\"\\n--- Sobolev Space ---\")\n",
    "print(f\"Sobolev norm of the function x: {norm_x_sob:.4f}\")\n",
    "print(f\"Sobolev inner product of functions x and y: {inner_prod_sob:.4f}\")"
   ]
  },
  {
   "cell_type": "markdown",
   "id": "5ec23052",
   "metadata": {},
   "source": [
    "## 4. Visualization\n",
    "\n",
    "Let's visualize the results of our operations on the `Sobolev` space to see what the resulting functions look like."
   ]
  },
  {
   "cell_type": "code",
   "execution_count": null,
   "id": "be8b1af4",
   "metadata": {},
   "outputs": [],
   "source": [
    "fig, ax = plt.subplots(figsize=(12, 8))\n",
    "\n",
    "# Plot the two random functions and their sum\n",
    "sobolev_space.plot(x_sob, ax=ax, label='Random function x(θ)')\n",
    "sobolev_space.plot(y_sob, ax=ax, label='Random function y(θ)')\n",
    "sobolev_space.plot(z_sob, ax=ax, label='z(θ) = x(θ) + y(θ)', linewidth=3, linestyle='--')\n",
    "\n",
    "ax.set_title(\"Vector Operations in a Function Space\", fontsize=16)\n",
    "ax.set_xlabel(\"Angle (radians)\")\n",
    "ax.set_ylabel(\"Function Value\")\n",
    "ax.legend()\n",
    "ax.grid(True, linestyle=':', alpha=0.7)\n",
    "plt.show()"
   ]
  }
 ],
 "metadata": {
  "kernelspec": {
   "display_name": "pygeoinf-0ZCu7S8P-py3.11",
   "language": "python",
   "name": "python3"
  },
  "language_info": {
   "codemirror_mode": {
    "name": "ipython",
    "version": 3
   },
   "file_extension": ".py",
   "mimetype": "text/x-python",
   "name": "python",
   "nbconvert_exporter": "python",
   "pygments_lexer": "ipython3",
   "version": "3.11.6"
  }
 },
 "nbformat": 4,
 "nbformat_minor": 5
}
