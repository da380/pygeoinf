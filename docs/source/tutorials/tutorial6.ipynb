{
 "cells": [
  {
   "cell_type": "markdown",
   "id": "344f4122",
   "metadata": {},
   "source": [
    "# Tutorial 6: Probabilistic Modeling with Gaussian Measures\n",
    "\n",
    "In this tutorial, we explore the `GaussianMeasure` class, a powerful tool for defining probability distributions on `HilbertSpace`s.\n",
    "\n",
    "### The Theory in Outline\n",
    "\n",
    "A Gaussian measure on a `HilbertSpace`, $X$, is a probability measure that is completely defined by two quantities:\n",
    "1.  **The Expectation ($\\mu$)**: A vector $\\mu \\in X$ that represents the mean of the distribution.\n",
    "2.  **The Covariance ($C$)**: A self-adjoint, positive semi-definite `LinearOperator`, $C: X \\to X$, that describes the variance and correlation structure of the distribution.\n",
    "\n",
    "We denote this as $u \\sim \\mathcal{N}(\\mu, C)$. A key property of Gaussian measures is that they remain Gaussian under affine transformations. If $u \\sim \\mathcal{N}(\\mu_u, C_u)$ and we have a map $v = A(u) + b$, then the distribution for $v$ is also Gaussian:\n",
    "$$\n",
    "v \\sim \\mathcal{N}(A(\\mu_u) + b, A C_u A^*)\n",
    "$$\n",
    "This property is implemented in the `.affine_mapping()` method and is the foundation of Bayesian inversion.\n",
    "\n",
    "In this tutorial, we will:\n",
    "1.  Create and sample from a `GaussianMeasure` on `EuclideanSpace`.\n",
    "2.  Create an **invariant Gaussian measure** on a `Sobolev` space on the circle, whose samples are smooth random functions.\n",
    "3.  Do the same for a `Sobolev` space on the sphere.\n",
    "4.  Demonstrate the effect of an **affine transformation** on a measure of random functions.\n",
    "5.  Introduce **low-rank approximations** for computational efficiency."
   ]
  },
  {
   "cell_type": "markdown",
   "id": "65333262",
   "metadata": {},
   "source": []
  },
  {
   "cell_type": "code",
   "execution_count": null,
   "id": "c4736723",
   "metadata": {},
   "outputs": [],
   "source": [
    "# To run in colab, uncomment the line below to install pygeoinf. \n",
    "#%pip install pygeoinf[sphere] --quiet\n",
    "\n",
    "import numpy as np\n",
    "import matplotlib.pyplot as plt\n",
    "import pygeoinf as inf\n",
    "from pygeoinf.symmetric_space.circle import Sobolev as CircleSobolev\n",
    "from pygeoinf.symmetric_space.sphere import Sobolev as SphereSobolev\n",
    "import cartopy.crs as ccrs\n",
    "\n",
    "# For reproducibility\n",
    "np.random.seed(2)"
   ]
  },
  {
   "cell_type": "markdown",
   "id": "3a496f4a",
   "metadata": {},
   "source": [
    "## 1. Gaussian Measures on Euclidean Space\n",
    "\n",
    "Let's start with a simple 2D example. We can create a `GaussianMeasure` from a mean vector and a covariance matrix. We can then draw samples and visualize the distribution."
   ]
  },
  {
   "cell_type": "code",
   "execution_count": null,
   "id": "32476ea9",
   "metadata": {},
   "outputs": [],
   "source": [
    "space = inf.EuclideanSpace(2)\n",
    "mean = np.array([1.0, 2.0])\n",
    "cov_matrix = np.array([[1.0, 0.8], [0.8, 1.0]])\n",
    "\n",
    "# Create the measure from the covariance matrix\n",
    "measure = inf.GaussianMeasure.from_covariance_matrix(space, cov_matrix, expectation=mean)\n",
    "\n",
    "# Draw samples\n",
    "samples = np.stack(measure.samples(500), axis=0)\n",
    "\n",
    "# Plot the results\n",
    "plt.figure(figsize=(8, 8))\n",
    "plt.scatter(samples[:, 0], samples[:, 1], alpha=0.5, label='Samples')\n",
    "plt.plot(mean[0], mean[1], 'ro', markersize=10, label='Mean')\n",
    "plt.title('Samples from a 2D Gaussian Measure')\n",
    "plt.xlabel('x-coordinate')\n",
    "plt.ylabel('y-coordinate')\n",
    "plt.grid(True, linestyle=':')\n",
    "plt.legend()\n",
    "plt.axis('equal')\n",
    "plt.show()"
   ]
  },
  {
   "cell_type": "markdown",
   "id": "fcc7f620",
   "metadata": {},
   "source": [
    "## 2. Random Functions on the Circle\n",
    "\n",
    "Now for the exciting part: creating a distribution over *functions*. We'll use our `CircleSobolev` space and one of its powerful helper methods to create a `GaussianMeasure` whose samples are smooth, random functions.\n",
    "\n",
    "The `point_value_scaled_sobolev_kernel_gaussian_measure` method creates a measure with a special covariance operator that enforces smoothness. We can control the typical \"amplitude\" of the random functions directly."
   ]
  },
  {
   "cell_type": "code",
   "execution_count": null,
   "id": "d0d499a9",
   "metadata": {},
   "outputs": [],
   "source": [
    "# Create a Sobolev space on the circle\n",
    "circle_space = CircleSobolev.from_sobolev_parameters(2.0, 0.2, radius=1.0)\n",
    "\n",
    "# Create an invariant Gaussian measure on this space\n",
    "# The samples will be smooth functions with a typical standard deviation of 1.5\n",
    "circle_measure = circle_space.point_value_scaled_sobolev_kernel_gaussian_measure(\n",
    "    order=2.0, scale=0.2, amplitude=1.5\n",
    ")\n",
    "\n",
    "# --- Draw and plot some random functions ---\n",
    "fig, ax = plt.subplots(figsize=(12, 8))\n",
    "ax.set_title(\"Random Smooth Functions on a Circle\", fontsize=16)\n",
    "\n",
    "for i in range(5):\n",
    "    # Each sample is a complete function\n",
    "    random_function = circle_measure.sample()\n",
    "    circle_space.plot(random_function, ax=ax, label=f'Sample {i+1}')\n",
    "\n",
    "ax.legend()\n",
    "ax.grid(True, linestyle=':')\n",
    "ax.set_xlabel('Angle (radians)')\n",
    "ax.set_ylabel('Function Value')\n",
    "plt.show()"
   ]
  },
  {
   "cell_type": "markdown",
   "id": "be8d2e0c",
   "metadata": {},
   "source": [
    "## 3. Random Fields on the Sphere\n",
    "\n",
    "We can do the exact same thing for the sphere. The syntax is identical, but now each \"sample\" is a 2D random field on the surface of the sphere. We will use the built-in `cartopy` plotting to visualize one of these random fields."
   ]
  },
  {
   "cell_type": "code",
   "execution_count": null,
   "id": "80704001",
   "metadata": {},
   "outputs": [],
   "source": [
    "# Create a Sobolev space on the sphere\n",
    "sphere_space = SphereSobolev(128, 2, 0.1)\n",
    "\n",
    "# Create an invariant Gaussian measure\n",
    "# The samples will be smooth 2D fields with a typical amplitude of 1.0\n",
    "sphere_measure = sphere_space.point_value_scaled_sobolev_kernel_gaussian_measure(\n",
    "    order=2.0, scale=0.2, amplitude=1.0\n",
    ")\n",
    "\n",
    "# --- Draw and plot one random field ---\n",
    "# A single sample from the measure\n",
    "random_field = sphere_measure.sample()\n",
    "\n",
    "print(\"Drawing one sample from the measure on the sphere...\")\n",
    "print(f\"The sample is a {type(random_field)} object.\")\n",
    "\n",
    "# Use the space's built-in plotting method\n",
    "fig, ax, im = sphere_space.plot(\n",
    "    random_field,\n",
    "    figsize=(12, 8),\n",
    "    coasts=True,\n",
    "    borders=True,\n",
    "    symmetric=True # Center the colormap at zero\n",
    ")\n",
    "\n",
    "ax.set_title(\"A Random Smooth Field on the Sphere\", fontsize=16)\n",
    "fig.colorbar(im, ax=ax, orientation='horizontal', shrink=0.7, label='Field Amplitude')\n",
    "plt.show()"
   ]
  },
  {
   "cell_type": "markdown",
   "id": "b24b711c",
   "metadata": {},
   "source": [
    "## 4. Affine Transformations of Measures\n",
    "\n",
    "Finally, we'll demonstrate the `affine_mapping` method on a measure of functions. We will define a \"prior\" distribution of functions, then apply a transformation $y = A(x) + b$ where $A$ is the differentiation operator and $b$ is a sine wave.\n",
    "\n",
    "The result is a new \"posterior\" `GaussianMeasure` whose samples are the derivatives of the prior samples plus a sine wave."
   ]
  },
  {
   "cell_type": "code",
   "execution_count": null,
   "id": "e54712d1",
   "metadata": {},
   "outputs": [],
   "source": [
    "# --- Define the Prior Measure ---\n",
    "# Use the circle_space from before\n",
    "space = circle_space\n",
    "# Define a mean function mu_x(theta) = 2*cos(theta)\n",
    "prior_mean = space.project_function(lambda theta: 2 * np.cos(theta))\n",
    "\n",
    "# Create a prior measure with this mean\n",
    "prior_measure = space.point_value_scaled_sobolev_kernel_gaussian_measure(\n",
    "    2.0, 0.2, amplitude=0.5\n",
    ")\n",
    "# Manually set the non-zero mean\n",
    "prior_measure = inf.GaussianMeasure(\n",
    "    covariance_factor=prior_measure.covariance_factor,\n",
    "    expectation=prior_mean\n",
    ")\n",
    "\n",
    "# --- Define the Affine Transformation ---\n",
    "\n",
    "# Define the basic differentiation mapping\n",
    "diff_operator = space.derivative_operator\n",
    "\n",
    "\n",
    "# 3. The Translation Vector (b = sin(theta))\n",
    "translation_func = space.project_function(lambda theta: np.sin(theta))\n",
    "\n",
    "\n",
    "# --- Apply the Transformation ---\n",
    "posterior_measure = prior_measure.affine_mapping(\n",
    "    operator=diff_operator,\n",
    "    translation=translation_func\n",
    ")\n",
    "\n",
    "# --- Visualize the Result ---\n",
    "fig, ax = plt.subplots(figsize=(12, 8))\n",
    "ax.set_title(\"Affine Transformation of a Gaussian Measure of Functions\", fontsize=16)\n",
    "# Plot the posterior mean: d/dtheta(2cos(theta)) + sin(theta) = -sin(theta)\n",
    "space.plot(posterior_measure.expectation, ax=ax, color='r', linewidth=3, label='Posterior Mean: -sin(θ)')\n",
    "\n",
    "# Draw and plot some samples from the new, transformed measure\n",
    "for i in range(10):\n",
    "    posterior_sample = posterior_measure.sample()\n",
    "    space.plot(posterior_sample, ax=ax, linestyle='--')\n",
    "\n",
    "ax.legend()\n",
    "ax.grid(True, linestyle=':')\n",
    "plt.show()"
   ]
  },
  {
   "cell_type": "code",
   "execution_count": null,
   "id": "343dee88",
   "metadata": {},
   "outputs": [],
   "source": []
  }
 ],
 "metadata": {
  "kernelspec": {
   "display_name": "pygeoinf-0ZCu7S8P-py3.11",
   "language": "python",
   "name": "python3"
  },
  "language_info": {
   "codemirror_mode": {
    "name": "ipython",
    "version": 3
   },
   "file_extension": ".py",
   "mimetype": "text/x-python",
   "name": "python",
   "nbconvert_exporter": "python",
   "pygments_lexer": "ipython3",
   "version": "3.11.6"
  }
 },
 "nbformat": 4,
 "nbformat_minor": 5
}
