{
 "cells": [
  {
   "cell_type": "markdown",
   "id": "9a14e38f",
   "metadata": {},
   "source": [
    "# Tutorial 10: A Guide to Symmetric Spaces\n",
    "\n",
    "This tutorial explores the `symmetric_space` module, which provides the foundation for working with function spaces on geometric manifolds like the circle and the sphere.\n",
    "\n",
    "### Mathematical Background\n",
    "\n",
    "1.  **The L² Space:** The space $L^2(X)$ is the space of all \"square-integrable\" functions on a manifold $X$. This means that for any function $u \\in L^2(X)$, the integral of its square over the manifold is finite. The inner product between two functions $u$ and $v$ is defined as:\n",
    "    $$\n",
    "    \\langle u, v \\rangle_{L^2} = \\int_X u(x) v(x) dV\n",
    "    $$\n",
    "    where $dV$ is the volume element. The L² space is the natural setting for functions with finite energy or power.\n",
    "\n",
    "2.  **The Sobolev Space ($H^s$):** A Sobolev space $H^s(X)$ is a refinement of L² that also considers the smoothness of functions. It contains functions whose derivatives up to a certain order are also in L². The Sobolev `order`, $s$, controls this smoothness requirement. The inner product in a Sobolev space includes terms related to the derivatives, which penalizes functions that are not smooth. For this reason, samples from a `GaussianMeasure` with a Sobolev covariance are guaranteed to be smooth.\n",
    "\n",
    "3.  **The Laplace-Beltrami Operator ($\\Delta$):** On a geometric manifold, the Laplacian $\\Delta$ is a differential operator that measures the \"curvature\" of a function. Its eigenfunctions form a natural basis for the function space (e.g., Fourier modes on the circle, spherical harmonics on the sphere). Operators that are functions of the Laplacian, $f(\\Delta)$, are **invariant** under the symmetries of the space (like rotation).\n",
    "\n",
    "In this tutorial, we will:\n",
    "1.  See how L² and Sobolev spaces are implemented for the circle and sphere.\n",
    "2.  Explore how to create invariant operators using `invariant_automorphism`.\n",
    "3.  Demonstrate the creation of invariant `GaussianMeasure`s on these spaces."
   ]
  },
  {
   "cell_type": "code",
   "execution_count": null,
   "id": "bb0f4a00",
   "metadata": {},
   "outputs": [],
   "source": [
    "# To run in colab, uncomment the line below to install pygeoinf. \n",
    "#%pip install pygeoinf[sphere] --quiet\n",
    "\n",
    "import numpy as np\n",
    "import matplotlib.pyplot as plt\n",
    "import pygeoinf as inf\n",
    "from pygeoinf.symmetric_space.circle import Sobolev as CircleSobolev\n",
    "from pygeoinf.symmetric_space.sphere import Sobolev as SphereSobolev"
   ]
  },
  {
   "cell_type": "markdown",
   "id": "30d9ae61",
   "metadata": {},
   "source": [
    "## 1. Practical Implementations\n",
    "\n",
    "The library provides concrete implementations of these function spaces for the circle and the sphere.\n",
    "\n",
    "* **Circle:** Functions are represented by a truncated **Fourier series**. The basis functions are sines and cosines. The Laplacian eigenvalues are $\\lambda_k = (k/R)^2$.\n",
    "* **Sphere:** Functions are represented by a truncated **spherical harmonic expansion**. The basis functions are the spherical harmonics $Y_{lm}$. The Laplacian eigenvalues are $\\lambda_l = l(l+1)/R^2$.\n",
    "\n",
    "In both cases, a `Sobolev` space is implemented as a `MassWeightedHilbertSpace` over the corresponding `Lebesgue` (L²) space."
   ]
  },
  {
   "cell_type": "markdown",
   "id": "8fa85d79",
   "metadata": {},
   "source": []
  },
  {
   "cell_type": "code",
   "execution_count": null,
   "id": "070f5373",
   "metadata": {},
   "outputs": [],
   "source": [
    "# Create instances of the Sobolev spaces for both geometries\n",
    "circle_space = CircleSobolev.from_sobolev_parameters(3.0, 0.2)\n",
    "sphere_space = SphereSobolev.from_sobolev_parameters(3.0, 0.2)\n",
    "\n",
    "print(f\"A 'vector' in the circle space is a {type(circle_space.zero)} with shape {circle_space.zero.shape}\")\n",
    "print(f\"A 'vector' in the sphere space is a {type(sphere_space.zero)} object\")"
   ]
  },
  {
   "cell_type": "markdown",
   "id": "038cb39b",
   "metadata": {},
   "source": [
    "## 2. Invariant Operators: Functions of the Laplacian\n",
    "\n",
    "A key feature of the symmetric space framework is the ability to create **invariant operators** of the form $f(\\Delta)$ using the `invariant_automorphism` method. Because these operators are diagonal in the natural basis (Fourier or spherical harmonic), they are very efficient to represent.\n",
    "\n",
    "For example, we can create an operator that represents the inverse Laplacian, $(\\Delta)^{-1}$, which acts as a smoothing operator."
   ]
  },
  {
   "cell_type": "code",
   "execution_count": null,
   "id": "3cf2bcdf",
   "metadata": {},
   "outputs": [],
   "source": [
    "# Create a test function on the circle (a mix of high and low frequencies)\n",
    "np.random.seed(1)\n",
    "test_func_circle = circle_space.random()\n",
    "\n",
    "# Create a smoothing operator C = (I - 0.1*Δ)^-1\n",
    "# The function f takes the eigenvalue as input\n",
    "smoothing_op = circle_space.invariant_automorphism(lambda eig: (1 + 0.1 * eig)**-1.0)\n",
    "\n",
    "# Apply the operator\n",
    "smoothed_func_circle = smoothing_op(test_func_circle)\n",
    "\n",
    "# Plot the results\n",
    "fig, ax = plt.subplots(figsize=(12, 8))\n",
    "circle_space.plot(test_func_circle, ax=ax, label='Original Function')\n",
    "circle_space.plot(smoothed_func_circle, ax=ax, label='Smoothed Function', linewidth=3)\n",
    "ax.set_title(\"Action of an Invariant Smoothing Operator\", fontsize=16)\n",
    "ax.legend()\n",
    "plt.show()"
   ]
  },
  {
   "cell_type": "markdown",
   "id": "67d2078b",
   "metadata": {},
   "source": [
    "## 3. Invariant Gaussian Measures\n",
    "\n",
    "This same principle allows us to create `GaussianMeasure`s whose statistics are invariant under the symmetries of the space (i.e., rotationally invariant). This is done by defining the covariance operator to be a function of the Laplacian, $C = f(\\Delta)$.\n",
    "\n",
    "The `symmetric_space` module provides several convenient methods for this, such as the `heat_kernel_gaussian_measure`. A heat kernel produces very smooth, correlated random functions. Let's create and visualize samples on both the circle and the sphere."
   ]
  },
  {
   "cell_type": "code",
   "execution_count": null,
   "id": "5248332d",
   "metadata": {},
   "outputs": [],
   "source": [
    "\n",
    "# --- 1. Invariant Measure on the Circle ---\n",
    "circle_measure = circle_space.point_value_scaled_heat_kernel_gaussian_measure(\n",
    "    scale=0.2, amplitude=1.0\n",
    ")\n",
    "circle_sample = circle_measure.sample()\n",
    "\n",
    "# --- 2. Invariant Measure on the Sphere ---\n",
    "sphere_measure = sphere_space.point_value_scaled_heat_kernel_gaussian_measure(\n",
    "    scale=0.2, amplitude=1.0\n",
    ")\n",
    "sphere_sample = sphere_measure.sample()\n",
    "\n",
    "# --- Plot the results in two separate figures ---\n",
    "\n",
    "# Figure 1: Plot the sample on the circle\n",
    "fig1, ax1 = plt.subplots(figsize=(12, 8))\n",
    "circle_space.plot(circle_sample, fig=fig1, ax=ax1)\n",
    "ax1.set_title('Random Function on a Circle', fontsize=16)\n",
    "ax1.grid(True, linestyle=\":\")\n",
    "plt.show()\n",
    "\n",
    "# Figure 2: Plot the sample on the sphere\n",
    "\n",
    "fig2, ax2, im = sphere_space.plot(sphere_sample, figsize=(12,8), coasts=True, symmetric=True)\n",
    "ax2.set_title('Random Field on a Sphere', fontsize=16)\n",
    "fig2.colorbar(im, ax=ax2, orientation='horizontal', shrink=0.7, label='Field Amplitude')\n",
    "plt.show()\n",
    "\n"
   ]
  }
 ],
 "metadata": {
  "kernelspec": {
   "display_name": "pygeoinf-0ZCu7S8P-py3.11",
   "language": "python",
   "name": "python3"
  },
  "language_info": {
   "codemirror_mode": {
    "name": "ipython",
    "version": 3
   },
   "file_extension": ".py",
   "mimetype": "text/x-python",
   "name": "python",
   "nbconvert_exporter": "python",
   "pygments_lexer": "ipython3",
   "version": "3.11.6"
  }
 },
 "nbformat": 4,
 "nbformat_minor": 5
}
