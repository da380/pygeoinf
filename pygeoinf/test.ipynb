{
 "cells": [
  {
   "cell_type": "code",
   "execution_count": 4,
   "metadata": {},
   "outputs": [],
   "source": [
    "from pygeoinf.linalg import VectorSpace\n",
    "import numpy as np"
   ]
  },
  {
   "cell_type": "code",
   "execution_count": 5,
   "metadata": {},
   "outputs": [
    {
     "name": "stdout",
     "output_type": "stream",
     "text": [
      "Vector v1: [1 2 3]\n",
      "Vector v2: [4 5 6]\n"
     ]
    }
   ],
   "source": [
    "# Define the real n-dimensional vector space with standard basis\n",
    "dim = 3\n",
    "\n",
    "def to_components(v):\n",
    "    return np.array(v)\n",
    "\n",
    "def from_components(c):\n",
    "    return np.array(c)\n",
    "\n",
    "Rn = VectorSpace(dim, to_components, from_components)\n",
    "\n",
    "# Create some example vectors\n",
    "v1 = np.array([1, 2, 3])\n",
    "v2 = np.array([4, 5, 6])\n",
    "\n",
    "print(\"Vector v1:\", v1)\n",
    "print(\"Vector v2:\", v2)\n"
   ]
  },
  {
   "cell_type": "code",
   "execution_count": null,
   "metadata": {},
   "outputs": [],
   "source": []
  }
 ],
 "metadata": {
  "kernelspec": {
   "display_name": "inferences",
   "language": "python",
   "name": "python3"
  },
  "language_info": {
   "codemirror_mode": {
    "name": "ipython",
    "version": 3
   },
   "file_extension": ".py",
   "mimetype": "text/x-python",
   "name": "python",
   "nbconvert_exporter": "python",
   "pygments_lexer": "ipython3",
   "version": "3.12.7"
  }
 },
 "nbformat": 4,
 "nbformat_minor": 2
}
