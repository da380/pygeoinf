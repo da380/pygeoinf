{
 "cells": [
  {
   "cell_type": "code",
   "execution_count": null,
   "id": "dd3ae27a",
   "metadata": {},
   "outputs": [],
   "source": [
    "print('Create details unit tests for interval_domain.py and make sure thay all pass!')"
   ]
  }
 ],
 "metadata": {
  "language_info": {
   "name": "python"
  }
 },
 "nbformat": 4,
 "nbformat_minor": 5
}
