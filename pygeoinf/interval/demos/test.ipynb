{
 "cells": [
  {
   "cell_type": "code",
   "execution_count": 40,
   "id": "c08e2f83",
   "metadata": {},
   "outputs": [],
   "source": [
    "from pygeoinf.interval.function_providers import NormalModesProvider, BumpFunctionProvider, SineFunctionProvider, HatFunctionProvider\n",
    "from pygeoinf.interval.interval_domain import IntervalDomain\n",
    "from pygeoinf.interval.l2_space import L2Space\n",
    "from pygeoinf.hilbert_space import EuclideanSpace\n",
    "from pygeoinf.interval.operators import SOLAOperator\n",
    "from pygeoinf.interval.functions import Function\n",
    "from pygeoinf.gaussian_measure import GaussianMeasure\n",
    "import matplotlib.pyplot as plt\n",
    "import numpy as np\n",
    "from pygeoinf.interval.boundary_conditions import BoundaryConditions\n",
    "from pygeoinf.interval.operators import LaplacianInverseOperator\n",
    "from pygeoinf.forward_problem import LinearForwardProblem\n",
    "from pygeoinf.linear_bayesian import LinearBayesianInference\n",
    "from pygeoinf.linear_solvers import CholeskySolver\n",
    "from pygeoinf.interval.providers import BasisProvider\n",
    "# Set-up folder for saving figures\n",
    "import os\n",
    "figures_folder = 'pli_figures'\n",
    "if not os.path.exists(figures_folder):\n",
    "    os.makedirs(figures_folder)"
   ]
  },
  {
   "cell_type": "code",
   "execution_count": 41,
   "id": "2f58206c",
   "metadata": {},
   "outputs": [
    {
     "name": "stdout",
     "output_type": "stream",
     "text": [
      "Basis provider set successfully. Space now has 30 basis functions of type 'hat_homogeneous'.\n"
     ]
    }
   ],
   "source": [
    "# Create a function domain and spaces\n",
    "function_domain = IntervalDomain(0, 1)\n",
    "bcs = BoundaryConditions(bc_type='dirichlet', left=0, right=0)\n",
    "# We instantiate a space with no basis because we want to add a custom basis later.\n",
    "N = 30 # Number of basis fuctions, even though we have not decided yet which will be those basis functions\n",
    "M = L2Space(N, function_domain, basis_type='none')\n",
    "# Then we select a function provider that gives us Sine functions as eigenfunctions of the negative laplacian operator\n",
    "function_provider = HatFunctionProvider(M, homogeneous=True)\n",
    "# We use this function provider to form the basis provider\n",
    "basis_provider = BasisProvider(M, function_provider, orthonormal=True, basis_type='hat_homogeneous')\n",
    "# Now we set this basis provider as that of our space and then our space will officially have a basis\n",
    "M.set_basis_provider(basis_provider)"
   ]
  },
  {
   "cell_type": "code",
   "execution_count": 42,
   "id": "12d17430",
   "metadata": {},
   "outputs": [
    {
     "name": "stdout",
     "output_type": "stream",
     "text": [
      "Setting up GeneralFEMSolver with 30 basis functions from BasisProvider\n",
      "Using analytical stiffness matrix computation for hat functions\n",
      "LaplacianInverseOperator initialized with general FEM solver, dirichlet(left=0, right=0) BCs\n"
     ]
    }
   ],
   "source": [
    "laplacian = LaplacianInverseOperator(M, bcs, fem_type='general')"
   ]
  },
  {
   "cell_type": "code",
   "execution_count": 43,
   "id": "864b7438",
   "metadata": {},
   "outputs": [],
   "source": [
    "C_0_mat = np.zeros((N, N))\n",
    "for i in range(N):\n",
    "    phi_i = M.get_basis_function(i)\n",
    "    for j in range(i, N):\n",
    "        phi_j = M.get_basis_function(j)\n",
    "        if i == j:\n",
    "            C_0_mat[i, i] = M.inner_product(phi_i, laplacian(phi_j))\n",
    "        else:\n",
    "            C_0_mat[i, j] = M.inner_product(phi_i, laplacian(phi_j))\n",
    "            C_0_mat[j, i] = C_0_mat[i, j]"
   ]
  },
  {
   "cell_type": "code",
   "execution_count": null,
   "id": "056480cc",
   "metadata": {},
   "outputs": [],
   "source": [
    "C_0_mat_ = laplacian.matrix(dense=True)"
   ]
  },
  {
   "cell_type": "code",
   "execution_count": 49,
   "id": "73ce0cd2",
   "metadata": {},
   "outputs": [
    {
     "name": "stdout",
     "output_type": "stream",
     "text": [
      "6.011681265775485e-08\n",
      "-5.960420566945164e-08\n",
      "True\n",
      "False\n"
     ]
    }
   ],
   "source": [
    "from scipy.linalg import eigh\n",
    "\n",
    "print(np.min(eigh(C_0_mat)[0]))\n",
    "print(np.min(eigh(C_0_mat_)[0]))\n",
    "print(np.allclose(C_0_mat, C_0_mat.T))\n",
    "print(np.allclose(C_0_mat_, C_0_mat_.T))"
   ]
  },
  {
   "cell_type": "code",
   "execution_count": 46,
   "id": "745f19e4",
   "metadata": {},
   "outputs": [
    {
     "data": {
      "text/plain": [
       "<matplotlib.image.AxesImage at 0x7f5ecaef6cd0>"
      ]
     },
     "execution_count": 46,
     "metadata": {},
     "output_type": "execute_result"
    },
    {
     "data": {
      "image/png": "[encoded data removed]",
      "text/plain": [
       "<Figure size 640x480 with 1 Axes>"
      ]
     },
     "metadata": {},
     "output_type": "display_data"
    }
   ],
   "source": [
    "plt.imshow(C_0_mat, cmap='hot', interpolation='nearest')"
   ]
  },
  {
   "cell_type": "code",
   "execution_count": 47,
   "id": "bb7ee474",
   "metadata": {},
   "outputs": [
    {
     "data": {
      "text/plain": [
       "<matplotlib.image.AxesImage at 0x7f5ec8f2fe90>"
      ]
     },
     "execution_count": 47,
     "metadata": {},
     "output_type": "execute_result"
    },
    {
     "data": {
      "image/png": "[encoded data removed]",
      "text/plain": [
       "<Figure size 640x480 with 1 Axes>"
      ]
     },
     "metadata": {},
     "output_type": "display_data"
    }
   ],
   "source": [
    "plt.imshow(C_0_mat_, cmap='hot', interpolation='nearest')"
   ]
  }
 ],
 "metadata": {
  "kernelspec": {
   "display_name": "inferences3",
   "language": "python",
   "name": "python3"
  },
  "language_info": {
   "codemirror_mode": {
    "name": "ipython",
    "version": 3
   },
   "file_extension": ".py",
   "mimetype": "text/x-python",
   "name": "python",
   "nbconvert_exporter": "python",
   "pygments_lexer": "ipython3",
   "version": "3.11.13"
  }
 },
 "nbformat": 4,
 "nbformat_minor": 5
}
