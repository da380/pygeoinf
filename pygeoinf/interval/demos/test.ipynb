{
 "cells": [
  {
   "cell_type": "code",
   "execution_count": 5,
   "id": "9b915d27",
   "metadata": {},
   "outputs": [],
   "source": [
    "from pygeoinf.interval.l2_space import L2Space\n",
    "from pygeoinf.interval.interval_domain import IntervalDomain\n",
    "from pygeoinf.hilbert_space import EuclideanSpace\n",
    "from pygeoinf.interval.function_providers import NormalModesProvider\n",
    "from pygeoinf.interval.operators import SOLAOperator\n",
    "import numpy as np\n",
    "import matplotlib.pyplot as plt\n",
    "from pygeoinf.interval.operators import LaplacianInverseOperator, LaplacianOperator\n",
    "from pygeoinf.interval.boundary_conditions import BoundaryConditions\n",
    "from pygeoinf.interval.sobolev_space import Sobolev"
   ]
  },
  {
   "cell_type": "code",
   "execution_count": 6,
   "id": "6fb53a0c",
   "metadata": {},
   "outputs": [],
   "source": [
    "function_domain = IntervalDomain(0, 1)\n",
    "N = 30 # DOF of the discretized model space\n",
    "basis_type = 'sine'  # Specify basis type for Sobolev space\n",
    "M = L2Space(N, function_domain, basis_type=basis_type) # Continuous model space\n",
    "N_d = 50\n",
    "D = EuclideanSpace(N_d)\n",
    "N_p = 1\n",
    "P = EuclideanSpace(N_p)\n",
    "\n",
    "RANDOM_STATE = 42\n",
    "sensitvity_function_provider = NormalModesProvider(M, random_state=RANDOM_STATE, n_modes_range=(1, 5),\n",
    "                                                   coeff_range=(-1, 1), freq_range=(5, 20),\n",
    "                                                   gaussian_width_percent_range=(10, 30))\n",
    "G = SOLAOperator(M, D, function_provider=sensitvity_function_provider, random_state=RANDOM_STATE)"
   ]
  },
  {
   "cell_type": "code",
   "execution_count": null,
   "id": "3987317f",
   "metadata": {},
   "outputs": [],
   "source": [
    "G."
   ]
  }
 ],
 "metadata": {
  "kernelspec": {
   "display_name": "inferences3",
   "language": "python",
   "name": "python3"
  },
  "language_info": {
   "codemirror_mode": {
    "name": "ipython",
    "version": 3
   },
   "file_extension": ".py",
   "mimetype": "text/x-python",
   "name": "python",
   "nbconvert_exporter": "python",
   "pygments_lexer": "ipython3",
   "version": "3.11.13"
  }
 },
 "nbformat": 4,
 "nbformat_minor": 5
}
