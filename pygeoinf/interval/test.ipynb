{
 "cells": [
  {
   "cell_type": "code",
   "execution_count": 1,
   "id": "c6f28b98",
   "metadata": {},
   "outputs": [],
   "source": [
    "from pygeoinf.interval.fem_solvers import NativeFEMSolver"
   ]
  },
  {
   "cell_type": "code",
   "execution_count": 2,
   "id": "c986e835",
   "metadata": {},
   "outputs": [],
   "source": [
    "solver = NativeFEMSolver(interval=(0, 1), dof=4, boundary_conditions=\"dirichlet\")"
   ]
  },
  {
   "cell_type": "code",
   "execution_count": 3,
   "id": "27758662",
   "metadata": {},
   "outputs": [
    {
     "name": "stdout",
     "output_type": "stream",
     "text": [
      "0.2\n",
      "4\n"
     ]
    },
    {
     "data": {
      "text/plain": [
       "array([[10., -5.,  0.,  0.],\n",
       "       [-5., 10., -5.,  0.],\n",
       "       [ 0., -5., 10., -5.],\n",
       "       [ 0.,  0., -5., 10.]])"
      ]
     },
     "execution_count": 3,
     "metadata": {},
     "output_type": "execute_result"
    }
   ],
   "source": [
    "solver.setup()\n",
    "print(solver._h)\n",
    "print(solver._dof)\n",
    "solver._assemble_stiffness_matrix()"
   ]
  }
 ],
 "metadata": {
  "kernelspec": {
   "display_name": "inferences2",
   "language": "python",
   "name": "python3"
  },
  "language_info": {
   "codemirror_mode": {
    "name": "ipython",
    "version": 3
   },
   "file_extension": ".py",
   "mimetype": "text/x-python",
   "name": "python",
   "nbconvert_exporter": "python",
   "pygments_lexer": "ipython3",
   "version": "3.11.13"
  }
 },
 "nbformat": 4,
 "nbformat_minor": 5
}
