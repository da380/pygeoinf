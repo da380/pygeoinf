{
 "cells": [
  {
   "cell_type": "code",
   "execution_count": 10,
   "id": "ce8e006e",
   "metadata": {},
   "outputs": [],
   "source": [
    "from pygeoinf.interval.interval_domain import IntervalDomain\n",
    "from pygeoinf.interval.l2_space import L2Space\n",
    "from pygeoinf.interval.function_providers import FourierFunctionProvider"
   ]
  },
  {
   "cell_type": "code",
   "execution_count": 11,
   "id": "669e6bf9",
   "metadata": {},
   "outputs": [],
   "source": [
    "function_domain = IntervalDomain(0, 1)\n",
    "M = L2Space(10, function_domain)\n",
    "provider = FourierFunctionProvider(M)"
   ]
  },
  {
   "cell_type": "code",
   "execution_count": null,
   "id": "ff4f687a",
   "metadata": {},
   "outputs": [],
   "source": [
    "method = 'trapz'\n",
    "n_points = 100\n",
    "vectorized = True\n",
    "N_functions = 10"
   ]
  },
  {
   "cell_type": "code",
   "execution_count": null,
   "id": "c27245e9",
   "metadata": {},
   "outputs": [
    {
     "data": {
      "text/plain": [
       "-6.245004513516506e-17"
      ]
     },
     "execution_count": 13,
     "metadata": {},
     "output_type": "execute_result"
    }
   ],
   "source": [
    "for i in range(N_functions):\n",
    "    for j in range(i+1, N_functions):\n",
    "        f1 = provider.get_function_by_index(i).integrate(method=method, n_points=n_points, vectorized=vectorized)\n",
    "        f2 = provider.get_function_by_index(j).integrate(method=method, n_points=n_points, vectorized=vectorized)"
   ]
  }
 ],
 "metadata": {
  "kernelspec": {
   "display_name": "inferences3",
   "language": "python",
   "name": "python3"
  },
  "language_info": {
   "codemirror_mode": {
    "name": "ipython",
    "version": 3
   },
   "file_extension": ".py",
   "mimetype": "text/x-python",
   "name": "python",
   "nbconvert_exporter": "python",
   "pygments_lexer": "ipython3",
   "version": "3.11.13"
  }
 },
 "nbformat": 4,
 "nbformat_minor": 5
}
