{
 "cells": [
  {
   "cell_type": "code",
   "execution_count": 40,
   "id": "10f61cc7",
   "metadata": {},
   "outputs": [],
   "source": [
    "from pygeoinf.interval.function_providers import NormalModesProvider, BumpFunctionProvider\n",
    "from pygeoinf.interval.interval_domain import IntervalDomain\n",
    "from pygeoinf.interval.l2_space import L2Space\n",
    "from pygeoinf.hilbert_space import EuclideanSpace\n",
    "from pygeoinf.interval.operators import SOLAOperator\n",
    "from pygeoinf.interval.functions import Function\n",
    "from pygeoinf.gaussian_measure import GaussianMeasure\n",
    "import matplotlib.pyplot as plt\n",
    "import numpy as np\n",
    "from pygeoinf.interval.boundary_conditions import BoundaryConditions\n",
    "from pygeoinf.interval.operators import LaplacianInverseOperator\n",
    "from pygeoinf.forward_problem import LinearForwardProblem\n",
    "from pygeoinf.bayesian import LinearBayesianInference\n",
    "from pygeoinf.linear_solvers import CholeskySolver"
   ]
  },
  {
   "cell_type": "markdown",
   "id": "c4035c36",
   "metadata": {},
   "source": [
    "## 1. SPACE SETUPS"
   ]
  },
  {
   "cell_type": "code",
   "execution_count": 41,
   "id": "4fd0b8cd",
   "metadata": {},
   "outputs": [],
   "source": [
    "# Parameters for setting up the spaces\n",
    "N = 30\n",
    "N_d = 100\n",
    "N_p = 10\n",
    "endpoints = (0, 1)\n",
    "basis_type = 'sine'\n",
    "# Create a function domain and spaces\n",
    "function_domain = IntervalDomain(endpoints[0], endpoints[1])\n",
    "M = L2Space(N, function_domain, basis_type=basis_type) # model space\n",
    "D = EuclideanSpace(N_d) # data space\n",
    "P = EuclideanSpace(N_p) # property space"
   ]
  },
  {
   "cell_type": "markdown",
   "id": "dc95d8e5",
   "metadata": {},
   "source": [
    "## 2. MAPPINGS SETUP"
   ]
  },
  {
   "cell_type": "code",
   "execution_count": 42,
   "id": "f226aa01",
   "metadata": {},
   "outputs": [],
   "source": [
    "# Parameters for setting up the mappings\n",
    "integration_method_G = 'trapz'\n",
    "integration_method_T = 'trapz'\n",
    "n_points_G = 1000\n",
    "n_points_T = 1000\n",
    "\n",
    "# Create forward and property mappings\n",
    "normal_modes_provider = NormalModesProvider(M, gaussian_width_percent_range=(5, 10),\n",
    "                                            freq_range=(5, 10), random_state=39)\n",
    "G = SOLAOperator(M, D, normal_modes_provider, integration_method=integration_method_G, n_points=n_points_G)\n",
    "width = 0.1 # width of the bump target functions\n",
    "centers = np.linspace(function_domain.a + width / 2, function_domain.b - width / 2, N_p) # centers of the bumps\n",
    "target_provider = BumpFunctionProvider(M, centers=centers, default_width=width, default_k=0.0)\n",
    "T = SOLAOperator(M, P, target_provider, integration_method=integration_method_T, n_points=n_points_T)"
   ]
  },
  {
   "cell_type": "markdown",
   "id": "d7ae77ad",
   "metadata": {},
   "source": [
    "## 3.TRUE MODEL, FAKE DATA, AND DATA MEASURE SETUP"
   ]
  },
  {
   "cell_type": "code",
   "execution_count": 43,
   "id": "fc096020",
   "metadata": {},
   "outputs": [],
   "source": [
    "# Data noise parameters\n",
    "true_data_noise = 0.1\n",
    "assumed_data_noise = 0.1\n",
    "\n",
    "# Create the synthetic true model\n",
    "m_bar = Function(M, evaluate_callable=lambda x: np.exp(-((x - function_domain.center)/0.5)**2) * np.sin(5 * np.pi * x) + x)\n",
    "\n",
    "# Generate synthetic observations\n",
    "d_bar = G(m_bar)  # Clean observations\n",
    "noise_level = true_data_noise * np.max(d_bar)\n",
    "np.random.seed(42)  # For reproducibility\n",
    "d_tilde = d_bar + np.random.normal(0, noise_level, d_bar.shape)  # Noisy observations\n",
    "\n",
    "# Define data noise covariance\n",
    "noise_variance = (assumed_data_noise * np.max(d_tilde))**2  # 10% of peak signal\n",
    "C_D_matrix = noise_variance * np.eye(N_d)\n",
    "\n",
    "# Create data ERROR measure (zero mean) for LinearForwardProblem\n",
    "gaussian_D_error = GaussianMeasure.from_covariance_matrix(D, C_D_matrix, expectation=np.zeros(N_d))\n",
    "\n",
    "# Create data measure (with observed data mean) for visualization\n",
    "gaussian_D = GaussianMeasure.from_covariance_matrix(D, C_D_matrix, expectation=d_tilde)"
   ]
  },
  {
   "cell_type": "markdown",
   "id": "015500e0",
   "metadata": {},
   "source": [
    "## 4.PRIOR MEASURE SETUP"
   ]
  },
  {
   "cell_type": "code",
   "execution_count": 44,
   "id": "23d882bb",
   "metadata": {},
   "outputs": [
    {
     "name": "stdout",
     "output_type": "stream",
     "text": [
      "LaplacianInverseOperator initialized with native solver, dirichlet(left=0, right=0) BCs\n"
     ]
    }
   ],
   "source": [
    "# Prior measure parameters\n",
    "alpha = 0.1\n",
    "K = 500  # Number of KL terms (should be ≥ N for full representation)\n",
    "\n",
    "# Define prior measure parameters\n",
    "bc_dirichlet = BoundaryConditions(bc_type='dirichlet', left=0, right=0)\n",
    "  # Correlation length parameter (smaller α → longer correlations)\n",
    "C_0 = LaplacianInverseOperator(M, bc_dirichlet, alpha=alpha)\n",
    "\n",
    "# Prior mean (simple linear trend)\n",
    "m_0 = Function(M, evaluate_callable=lambda x: x)\n",
    "\n",
    "# Create Gaussian measure on model space\n",
    "M.create_gaussian_measure(method='kl', kl_expansion=K, covariance=C_0, expectation=m_0)"
   ]
  },
  {
   "cell_type": "markdown",
   "id": "f3a39499",
   "metadata": {},
   "source": [
    "## 5.PRIOR PROPERTY ANALYSIS"
   ]
  },
  {
   "cell_type": "code",
   "execution_count": 45,
   "id": "29fc0b79",
   "metadata": {},
   "outputs": [],
   "source": [
    "# Compute property prior by pushing model prior through target operator\n",
    "prior_P = M.gaussian_measure.affine_mapping(operator=T)\n",
    "std_P = np.sqrt(np.diag(prior_P.covariance.matrix(dense=True)))"
   ]
  },
  {
   "cell_type": "markdown",
   "id": "f38f3376",
   "metadata": {},
   "source": [
    "## 6.MODEL POSTERIOR COMPUTATION"
   ]
  },
  {
   "cell_type": "code",
   "execution_count": 46,
   "id": "a3bf5fc6",
   "metadata": {},
   "outputs": [],
   "source": [
    "# PROBLEM SOLUTION PARAMETERS\n",
    "solver = CholeskySolver()\n",
    "\n",
    "# Bayesian update computation\n",
    "forward_problem = LinearForwardProblem(G, gaussian_D_error)\n",
    "bayesian_inference = LinearBayesianInference(forward_problem, M.gaussian_measure, T)\n",
    "\n",
    "# Compute posterior using the built-in solver\n",
    "posterior_model = bayesian_inference.model_posterior_measure(d_tilde, solver)\n",
    "\n",
    "# Extract mean and covariance for compatibility\n",
    "m_tilde = posterior_model.expectation\n",
    "C_M_matrix = posterior_model.covariance.matrix(dense=True)\n",
    "\n",
    "# Create new Gaussian measure with sampling capability using dense covariance\n",
    "mu_M = GaussianMeasure.from_covariance_matrix(M, C_M_matrix, expectation=m_tilde)\n",
    "\n",
    "# Compute data fit\n",
    "posterior_prediction = G(m_tilde)\n",
    "data_misfit = np.linalg.norm(posterior_prediction - d_tilde)\n",
    "\n",
    "# Show improvement\n",
    "relative_improvement = 1 - data_misfit / np.linalg.norm(G(m_0) - d_tilde)"
   ]
  },
  {
   "cell_type": "markdown",
   "id": "56f18e96",
   "metadata": {},
   "source": [
    "## 7.PROPERTY POSTERIOR COMPUTATION"
   ]
  },
  {
   "cell_type": "code",
   "execution_count": 47,
   "id": "828f5a75",
   "metadata": {},
   "outputs": [],
   "source": [
    "# Compute property posterior using built-in methods\n",
    "\n",
    "# Use the LinearBayesianInference class to compute property posterior directly\n",
    "property_posterior = bayesian_inference.property_posterior_measure(d_tilde, solver)\n",
    "\n",
    "# Extract property mean and covariance\n",
    "p_tilde = property_posterior.expectation\n",
    "cov_P_matrix = property_posterior.covariance.matrix(dense=True)\n",
    "\n",
    "gaussian_P = GaussianMeasure.from_covariance_matrix(P, cov_P_matrix, expectation=p_tilde)\n",
    "std_P_post = np.sqrt(np.diag(gaussian_P.covariance.matrix(dense=True)))"
   ]
  }
 ],
 "metadata": {
  "kernelspec": {
   "display_name": "inferences3",
   "language": "python",
   "name": "python3"
  },
  "language_info": {
   "codemirror_mode": {
    "name": "ipython",
    "version": 3
   },
   "file_extension": ".py",
   "mimetype": "text/x-python",
   "name": "python",
   "nbconvert_exporter": "python",
   "pygments_lexer": "ipython3",
   "version": "3.11.13"
  }
 },
 "nbformat": 4,
 "nbformat_minor": 5
}
